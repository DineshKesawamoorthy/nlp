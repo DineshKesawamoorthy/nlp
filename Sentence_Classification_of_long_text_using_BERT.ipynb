{
  "nbformat": 4,
  "nbformat_minor": 0,
  "metadata": {
    "colab": {
      "provenance": [],
      "authorship_tag": "ABX9TyMUJo5B0aWAWnf1iBcnwsXS",
      "include_colab_link": true
    },
    "kernelspec": {
      "name": "python3",
      "display_name": "Python 3"
    },
    "language_info": {
      "name": "python"
    }
  },
  "cells": [
    {
      "cell_type": "markdown",
      "metadata": {
        "id": "view-in-github",
        "colab_type": "text"
      },
      "source": [
        "<a href=\"https://colab.research.google.com/github/DineshKesawamoorthy/nlp/blob/main/Sentence_Classification_of_long_text_using_BERT.ipynb\" target=\"_parent\"><img src=\"https://colab.research.google.com/assets/colab-badge.svg\" alt=\"Open In Colab\"/></a>"
      ]
    },
    {
      "cell_type": "code",
      "execution_count": 2,
      "metadata": {
        "colab": {
          "base_uri": "https://localhost:8080/"
        },
        "id": "QmImHV32YYai",
        "outputId": "cdef2e6c-212d-40ca-a6de-2c415460ca47"
      },
      "outputs": [
        {
          "output_type": "stream",
          "name": "stderr",
          "text": [
            "/usr/local/lib/python3.10/dist-packages/huggingface_hub/utils/_token.py:88: UserWarning: \n",
            "The secret `HF_TOKEN` does not exist in your Colab secrets.\n",
            "To authenticate with the Hugging Face Hub, create a token in your settings tab (https://huggingface.co/settings/tokens), set it as secret in your Google Colab and restart your session.\n",
            "You will be able to reuse this secret in all of your notebooks.\n",
            "Please note that authentication is recommended but still optional to access public models or datasets.\n",
            "  warnings.warn(\n"
          ]
        }
      ],
      "source": [
        "from transformers import BertForSequenceClassification, BertTokenizer\n",
        "import torch\n",
        "\n",
        "# initialize our model and tokenizer\n",
        "tokenizer = BertTokenizer.from_pretrained('ProsusAI/finbert')\n",
        "model=BertForSequenceClassification.from_pretrained('ProsusAI/finbert')"
      ]
    },
    {
      "cell_type": "code",
      "source": [
        "def sentiment(tokens):\n",
        "  output=model(**tokens)\n",
        "  prob=torch.nn.functional.softmax(output[0],dim=-1)\n",
        "  return prob"
      ],
      "metadata": {
        "id": "XVwCeUxFaIso"
      },
      "execution_count": 4,
      "outputs": []
    },
    {
      "cell_type": "code",
      "source": [
        "text=\"\"\"\n",
        "Mahendra Singh Dhoni (/məˈheɪndrə ˈsɪŋ dhæˈnɪ/ ⓘ; born 7 July 1981) is an Indian professional cricketer. He is a right handed batter and a wicket-keeper. Widely regarded as one of the most prolific wicket-keeper-batsmen and captains, he represented the Indian cricket team and was the captain of the side in limited-overs formats from 2007 to 2017 and in test cricket from 2008 to 2014. Dhoni has captained the most international matches and is the most successful Indian captain. He has led India to victory in the 2011 Cricket World Cup, the 2007 ICC World Twenty20 and the 2013 ICC Champions Trophy, the only captain to win three different limited overs tournaments. He also led the teams that won the Asia Cup in 2010, 2016 and was a member of the title winning squad in 2018.\n",
        "\n",
        "Born in Ranchi, Dhoni made his first class debut for Bihar in 1999. He made his debut for the Indian cricket team on 23 December 2004 in an ODI against Bangladesh and played his first test a year later against Sri Lanka. In 2007, he became the captain of the ODI side before taking over in all formats by 2008. Dhoni retired from test cricket in 2014, but continued playing in limited overs cricket till 2019. He has scored 17,266 runs in international cricket including 10,000 plus runs at an average of more than 50 in ODIs.\n",
        "\n",
        "In the Indian Premier League (IPL), Dhoni plays for Chennai Super Kings (CSK), leading them to the final on ten occasions and winning it five times (2010, 2011, 2018, 2021 and 2023). He has also led CSK to two Champions League T20 titles in 2010 and 2014. Dhoni is amongst the few batsmen to have scored more than five thousand runs in the IPL, as well as being the first wicket-keeper to do so.\n",
        "\n",
        "In 2008, Dhoni was awarded India's highest sport honor Major Dhyan Chand Khel Ratna Award by Government of India. He received the fourth highest civilian award Padma Shri in 2009 and third highest civilian award Padma Bhushan in 2018. Dhoni holds an honorary rank of Lieutenant Colonel in the Parachute Regiment of the Indian Territorial Army which was presented to him by the Indian Army in 2011. He is one of the most popular cricketers in the world.\n",
        "\n",
        "Early life\n",
        "Dhoni was born on 7 July 1981 in Ranchi, Bihar (now in Jharkhand) in a Hindu Rajput family to Pan Singh and Devaki Devi. [4] His parents hailed from Lwali village in Uttar Pradesh (now Uttarakhand) and he was the youngest of three children.[5][6][7] His family spells the surname as \"Dhauni\".[8]\n",
        "\n",
        "Dhoni did his schooling at DAV Jawahar Vidya Mandir where he started playing football as a goal keeper but later moved to play cricket on the suggestion of his coach Keshav Banerjee.[9][10] From 2001 to 2003, Dhoni worked as a Travelling Ticket Examiner (TTE) at Kharagpur under South Eastern Railway zone of Indian Railways.[11][12]\n",
        "\n",
        "Early career\n",
        "He played as a wicket-keeper for Commando cricket club from 1995 to 1998 and Central Coal Fields Limited (CCL) team in 1998.[13] At CCL, he batted higher up the order and helped the team qualify to the higher division.[14] Based on his performance at club cricket, he was picked for the 1997/98 season of Vinoo Mankad Trophy under-16 championship.[15][16] In the 1998–99, Dhoni played for Bihar U-19 team in the Cooch Behar Trophy and scored 176 runs in 5 matches. In the 1999–2000 Cooch Behar Trophy, the Bihar U-19 cricket team made it to the finals, where Dhoni made 84 in a losing cause.[17] Dhoni's contribution in the tournament included 488 runs in nine matches with five fifties, 17 catches and seven stumpings.[18] Dhoni made it to the East Zone U-19 squad for the C. K. Nayudu Trophy in the 1999–2000 season and scored only 97 runs in four matches, as East Zone lost all the matches and finished last in the tournament.[19][20]\n",
        "\n",
        "Dhoni made his Ranji Trophy debut for Bihar against Assam in the 1999–2000 season, as an eighteen-year-old scoring 68 runs in the second innings.[21] Dhoni finished the season with 283 runs in 5 matches. Dhoni scored his maiden first-class century while playing for Bihar against Bengal in the 2000–01 Ranji Trophy season.[22] Apart from this century, his performance in the 2000/01 season did not include another score over fifty and in the 2001–02 Ranji Trophy season, he scored just five fifties in four Ranji matches.[23][24] Dhoni's played for Jharkhand in the 2002–03 Ranji Trophy and represented East Zone in the Deodhar Trophy where he started gaining recognition for his lower-order contribution as well as hard-hitting batting style. In the 2003/04 season, Dhoni scored a century (128*) against Assam in the first match of the Ranji ODI tournament and was part of the East Zone squad that won the Deodhar Trophy 2003–2004 season scoring 244 runs in four matches.[25][26]\n",
        "\n",
        "In the Duleep Trophy finals, Dhoni represented East zone and scored a fighting half-century in the second innings in a losing cause.[27] Dhoni was identified as one of the emerging talents via the BCCI's small-town talent-spotting initiative TRDW.[28][29] In 2004, Dhoni was picked for the India A squad for a tour of Zimbabwe and Kenya.[30] Against the Zimbabwe XI in Harare Sports Club, Dhoni effected seven catches and four stumpings.[31] In the tri-nation tournament involving Kenya, India A and Pakistan A, Dhoni helped India A chase down their target of 223 against Pakistan A with a half-century and scored scored 362 runs in six innings at an average of 72.40 with back to back centuries.[32][33][34]\n",
        "\n",
        "International career\n",
        "Debut and early years\n",
        "The Indian ODI team in the early 2000s saw Rahul Dravid as the wicket-keeper to ensure that the wicket-keeper spot didn't lack in batting talent and also tried other wicket-keeper/batsmen like Parthiv Patel and Dinesh Karthik.[35] With Dhoni performing well for the India A squad, he was picked in the ODI squad for the Bangladesh tour in December 2004.[36] Dhoni made his debut in the first match of the series and was run out for a duck.[37] Dhoni was picked for the subsequent ODI series against Pakistan.[38] In the second match of the series in Visakhapatnam, Dhoni playing in his fifth one-day international, scored 148 runs off 123 deliveries which surpassed the earlier record for the highest score by an Indian wicket-keeper.[39] Dhoni played in the Sri Lankan bilateral ODI series in October–November 2005 and was promoted to No. 3 in the batting order in the third ODI at Jaipur where he scored an unbeaten 183 runs off 145 balls, winning the game for India.[40] The innings would surpass his earlier record for the highest score by an Indian wicket-keeper and was described in Wisden Almanack as 'Uninhibited, yet anything but crude'.[41] It was also the highest individual score in ODI cricket in a run chase, a record which was broken seven years later by Shane Watson.[42][43] Dhoni ended the series with the highest aggregate of 346 runs and was awarded the Man of the series.[44]\n",
        "\n",
        "\n",
        "Dhoni keeping wickets in a test match\n",
        "Dhoni became a regular in the Indian side after the home series against South Africa in November 2005.[45] In December 2005, Dhoni was awarded a \"B\" grade contract by the BCCI.[46] Dhoni made his test debut in the same month against Sri Lanka during their tour of India at Chennai.[47][48] Dhoni scored 30 runs in his debut match, that was marred by rain and ended in a draw.[49] Dhoni made his maiden half-century in the second test leading to an Indian win.[50] Dhoni played all the matches in the subsequent tour of Pakistan scoring 219 runs in five ODI matches and 179 runs in five tests including his maiden test century in the second test in Faisalabad.[51] He scored 106 runs across three tests in the home series against England in March 2006 and 177 runs in five ODI series that followed.[51][45] Dhoni dropped multiple catches and missed dismissal chances including a key stumping opportunity of Andrew Flintoff which led to criticism of his wicket-keeping.[52]\n",
        "\n",
        "In the DLF Cup 2006-07, Dhoni scored 43 runs as the team lost twice in three games and did not qualify for the finals. In the 2006 ICC Champions Trophy, India lost to West Indies and Australia, though Dhoni scored a half-century against West Indies and failed to make it to the knock out stage.[53] In the ODI series in South Africa in November 2006, Dhoni scored 139 runs in four matches in the series loss.[45] In the test series that followed, Dhoni scored 114 runs in two tests including a first test victory in South Africa in the first test, but was ruled out of the third test with injury.[54] Dhoni made his T20 international debut in December 2006 against South Africa at Johannesburg.[55] Dhoni was subsequently named in the ODI team of the year by the ICC for 2006.[56]\n",
        "\n",
        "2007 World T20 and captaincy\n",
        "India recorded identical 3–1 victories over West Indies and Sri Lanka in early 2007 with Dhoni averaging in excess of 100 in both the series. Subsequently, Dhoni was part of the squad for 2007 Cricket World Cup in which India unexpectedly crashed out in the group stage after losses to Bangladesh and Sri Lanka with Dhoni scoring ducks in both these matches and just 29 runs in the tournament.[45][57] As a result, Dhoni's house in Ranchi was vandalized and damaged by activists of JMM and security was tightened for his family.[58] Dhoni scored 91* against Bangladesh in the first match of the ODI series in May 2007 which fetched the Man of the Match award while also later winning the Man of the Series after the third game of the series was washed away.[59] Dhoni played for ACC Asia XI cricket team in the Afro-Asia Cup, scoring 174 runs in three matches at an average of 87 including 139 off 97 balls in the third ODI.[60]\n",
        "\n",
        "Dhoni was named vice-captain of the ODI team for the 2007 Future Cup against South Africa in Ireland and the subsequent seven-match series against England.[61] Dhoni was awarded an 'A' grade contract by BCCI in June 2007.[62] Dhoni was appointed as the captain of the Indian squad for the inaugural World Twenty20 in September 2007.[63] Dhoni led India to victory in the tournament after defeating Pakistan in the final.[64][65] Dhoni was appointed as the captain of Indian cricket team in all formats later.[66]\n",
        "\n",
        "On 2 September 2007, Dhoni equaled Adam Gilchrist's international record for the most dismissals in an innings in ODI by effecting six dismissals against England.[67] Dhoni took his first and only wicket in international cricket on 30 September 2009 when he bowled Travis Dowlin of West Indies in the 2009 ICC Champions Trophy.[68] However, he scored just three runs in the only match he batted with India crashing out of the series in the group stage after the match against Australia was washed out.[69] Dhoni averaged more than 60 in the 2008-09 season.[70] Dhoni scored two centuries during Sri Lanka's tour of India in November 2009 which India won to achieve the top ranking in ICC test ranking for the first time in its history.[71] Dhoni had an excellent year in ODIs in 2009, scoring 1198 runs in just 24 innings, at an average of 70.43 and topped the ICC ODI batsman rankings for several months.[72] He was named as captain and wicket-keeper of the ICC ODI Team of the year.[73]\n",
        "\n",
        "2011 World Cup win and later\n",
        "\n",
        "Wicket-keeping kit and bat used by Dhoni during the 2011 Cricket World Cup on display at the Blades of Glory Cricket Museum\n",
        "Dhoni led the Indian squad for the 2011 Cricket World Cup co-hosted by India.[74] India won its second ever ODI world cup after defeating Sri Lanka in the final with Dhoni being named man of the match for scoring an unbeaten 91.[75] In December 2012, Pakistan toured India for a bilateral series for the first time in five years and Dhoni top-scored in all the three matches of the series with a century in the first ODI at Chennai.[76] Dhoni led India to victory in the 2013 ICC Champions Trophy and became the first and the only captain in international cricket to claim all ICC limited overs trophies. In the rain-shortened final against England, India won by five runs on DLS method though Dhoni himself was out for a duck.[77] He was also named as captain and wicket-keeper of the 'Team of the Tournament' by the ICC.[78]\n",
        "\n",
        "\n",
        "Dhoni batting against South Africa during the group stage match of 2013 ICC Champions Trophy\n",
        "After the Champions Trophy, India toured West Indies for a tri-nation tournament against the hosts and Sri Lanka.[79] Dhoni got injured at the start of the tournament thus ruling him out for most of the tournament and returned to play the final where he was adjudged Man of the match for scoring 45 runs off 52 balls including 16 runs in the final cricket to take India to victory by one wicket.[80] In November 2013, Dhoni became the second India batsman after Sachin Tendulkar to aggregate more than thousand runs in ODIs against Australia.[81] India toured South Africa and New Zealand in the 2013–14 season. Though Dhoni scored 84 runs at an average of 48 including one half-century against South Africa and 272 runs with three consecutive 50-plus scores against New Zealand, India lost both the series.[45] Dhoni himself reached 8000 runs in ODI in the series against New Zealand.[82] Dhoni led India in the 2014 ICC World Twenty20 where India finished as runners-up after losing to Sri Lanka in the final.[83] He was named as captain and wicket-keeper of the 'Team of the Tournament' by the ICC.[84]\n",
        "\n",
        "India won the away ODI series in England in 2014 and series against West Indies in India where Dhoni scored 146 runs across the five innings he batted.[85][45]\n",
        "\n",
        "Test retirement and 2015 World cup\n",
        "Dhoni played his last series during India's tour of Australia in December 2014. Following the third Test in Melbourne, Dhoni announced his retirement from the format.[86] In his last test, he effected nine dismissals (eight catches and a stumping), and in the process, went past Kumar Sangakkara's record for most stumpings in international cricket and also set a record for effecting the most dismissals in a match by an Indian wicketkeeper until it was broken by Wriddhiman Saha in 2018.[87][88] In the Carlton Mid triangular series in Australia, India failed to win a single match with Dhoni himself managing just 70 runs from three innings at an average of 23.34.[89]\n",
        "\n",
        "During the 2015 Cricket World Cup, Dhoni became the first Indian captain to win all group stage matches in a world cup.[90] In the match against Zimbabwe at Auckland, he made 85 which was the highest score by an Indian captain in New Zealand. After beating Bangladesh in the quarter finals, he became the third overall and the first non-Australian captain to win 100 ODI matches.[91] India lost to eventual champions Australia in the semi-finals with Dhoni having a good series, scoring 237 runs in six innings at an average of 59.25 and a strike rate of 102.15 and thus, became only the second Indian captain to have an average over 50 and strike rate over 100 in a particular season of the World Cup.[92][93]\n",
        "\n",
        "Final years and retirement\n",
        "Dhoni led India to victory in the 2016 Asia Cup where India remained unbeaten.[94] Dhoni stepped down as captain of India in January 2017 ahead of the ODI series at home against England.[95] In the second game of the series, he scored 134 off 122 balls, his tenth century in ODIs and his first in over three years.[96] He was named as a wicket-keeper of the 'Team of the Tournament' at the 2017 ICC Champions Trophy in which India finished as runners-up.[97][98] In August 2017, during the fifth and final ODI against Sri Lanka in Colombo, he became the first wicket-keeper to effect 100 stumpings in ODIs when he stumped Akila Dananjaya off Yuzvendra Chahal.[99] He reached the milestone of effecting 400 dismissals in ODIs in February 2018, following the stumping of Aiden Markram in the third ODI of the South Africa tour.[100]\n",
        "\n",
        "Though he had a relatively mediocre series scoring 79 runs in two innings at a strike rate of 63.20 during India's 2018 tour of England, he went past 10,000 ODI runs, becoming the fourth Indian and twelfth overall to do so.[101][102][103] In the 2018 Asia Cup title winning campaign, he scored just 77 runs in four innings at an average of 19.25.[104][105] While captaining in the group stage match against Afghanistan due to regular captain Rohit Sharma being unavailable, Dhoni became the first cricketer to lead India 200 times in ODIs.[106] Dhoni aggregated 50 runs from three innings in the home series against West Indies.[107][108] Dhoni was not selected for the T20I squad for the series that followed and the Australia tour later that season.[109] However, he was included in the squad for the ODI series in Australia.[110] In the three-match series, Dhoni scored half-centuries in all three games with the latter two resulting in wins, helping India secure a 2–1 series victory, their first in a bilateral series on Australian soil and was named player of the series while also becoming the fourth Indian to score more than 1,000 ODI runs in Australia.[111] In April 2019, he was named in India's squad for the 2019 Cricket World Cup.[112][113] On 9 July 2019, Dhoni played in his 350th and final ODI in the semi-final loss against New Zealand.[114] Dhoni announced his retirement from international cricket on 15 August 2020 as he had not played any international cricket since India's loss in the 2019 world cup semi-final.[115]\n",
        "\n",
        "Domestic career\n",
        "Dhoni played for Bihar state cricket team since 1999 before representing Jharkhand later. He has also played for Rajasthan Cricket Association President's XI, East zone and Rest of India in domestic cricket.[116] In BCCI Corporate trophy, he played for Air India until his resignation from the company in 2013.[117] In February 2005, Dhoni played for India seniors in Challenger trophy, where he scored 102 against India B.[118] Jharkhand State Cricket Association (JSCA) appointed him captain of the Jharkhand team in February 2017 for the 2017-18 Vijay Hazare trophy and on 25 February 2017, he scored his first ever domestic list-A century against Chhattisgarh and led the team to the quarter final where Jharkhand lost against Delhi.[119][120]\n",
        "\n",
        "Indian Premier League\n",
        "Representing Chennai Super Kings\n",
        "T20 Cricket\n",
        "Indian Premier League\n",
        "Winner\t2010, 2011, 2018, 2021, 2023\n",
        "Runner-up\t2008, 2012, 2013, 2015, 2019\n",
        "Champions League\n",
        "Winner\t2010, 2014\n",
        "Representing Rising Pune Supergiants\n",
        "T20 Cricket\n",
        "Indian Premier League\n",
        "Runner-up\t2017\n",
        "\n",
        "Dhoni with Chennai Super Kings in 2011\n",
        "Dhoni was acquired by Chennai Super Kings (CSK) for US$1.5 million during the auction for the inaugural season of the Indian Premier League (IPL). He was the most expensive signing in the auction.[121] Dhoni scored 414 runs to lead CSK to the finals in the first season of IPL.[122] Under his captaincy, CSK won the 2010 edition and qualified for Champions League Twenty20.[123] Chennai won the 2010 Champions league.[124] Dhoni scored 392 runs and led CSK to its second consecutive IPL title in 2011.[125] Dhoni led CSK to its second Champions League Twenty20 title in 2014.[126] Dhoni scored 2987 runs from 129 matches in the IPL across the first eight seasons for the Super Kings.[122]\n",
        "\n",
        "Following the two-year suspension of Chennai Super Kings and Rajasthan Royals, two new franchises Rising Pune Supergiants and Gujarat Lions were established for the 2016 Indian Premier League season. Supergiants picked Dhoni as one of their five draft picks on 15 December 2015 for ₹125 million (US$1.6 million).[127] He scored 574 runs in 30 matches across two seasons for the Supergiants.[122]\n",
        "\n",
        "Dhoni returned to CSK for the 2018 season.[128] He scored 455 runs and led his team to its third IPL title.[129] Dhoni led CSK to the title again in 2021 and was retained for ₹12 crore (US$1.5 million) before the auction for the 2022 season.[130] Dhoni stepped down from captaincy ahead of that season and Ravindra Jadeja was appointed the new captain.[131][132] However, a month later, Jadeja handed over the captaincy back to Dhoni in the middle of the season.[133] Dhoni led the franchise to victory again the following season.[125] Under his captaincy, CSK became the most successful IPL franchise with five title wins and ten final appearances.[134] Dhoni became the first player to play 200 T20 matches for CSK and holds the record for most appearances in the IPL.[135] Ahead of the 2024 season, Dhoni handed over captaincy to Ruturaj Gaikwad.[136] He marked his 250th appearance for CSK in this season, in a league stage match against Mumbai Indians on 14 April 2024, helping his team secure a 20-run win, following his unbeaten four-ball 20.[137]\n",
        "\n",
        "Outside cricket\n",
        "\n",
        "Chief of Army Staff, Gen. V.K. Singh bestowing the rank of Hon. Lt. Col. to Dhoni\n",
        "Dhoni holds an honorary rank of Lieutenant Colonel in the Parachute Regiment of the Indian Territorial Army (106 Para TA battalion).[138] The honorary rank was presented to him by the Indian Army in 2011 for his service to the nation as a cricketer.[3] After completing five parachute training jumps from Indian Army aircraft in the Agra training camp, he became a qualified paratrooper in 2015.[139] In August 2019, he completed a two-week stint with the Territorial Army in Jammu and Kashmir.[140] While spending a day with the parachute regiment in Ranchi, Dhoni said, I wanted to become a soldier not a cricketer, \"Since childhood I wanted to join the Army. Seeing the soldiers, I thought that one day I'll be the same\".[141]\n",
        "\n",
        "Dhoni holds the post of vice-president in India Cements Ltd, the company owned by former BCCI president N. Srinivasan.[142][143] Dhoni is a co-owner of Chennai-based football club Chennaiyin FC, a franchise of the Indian Super League.[144] He also co-owns Ranchi-based hockey club Ranchi Rays, a franchise of the Hockey India League.[145] In February 2016, Dhoni launched lifestyle brand SEVEN which he co-owns while also serving as its brand ambassador.[146] In 2019, Dhoni invested in vehicle re-seller CARS24 and simultaneously became brand ambassador of the company.[147] On 11 October 2022, Dhoni invested in Shaka Harry, a plant-based protein company.[148][149]\n",
        "\n",
        "\n",
        "No.7 jersey made popular by Dhoni\n",
        "In 2019, Dhoni Entertainment entered into a long-term business agreement with Banijay Asia to produce content across various genres.[150] The first show developed by the company was a documentary web series titled Roar of The Lion for Disney+ Hotstar in 2019 which dealt with the ban of Chennai Super Kings from the Indian Premier League in 2016 and their return to win the title in 2018.[151] The production house produced a Tamil language romantic drama LGM which was released on 28 July 2023.[152][153][154]\n",
        "\n",
        "Dhoni is one of the most popular cricketers in the world.[155] He serves as a brand ambassdor and endorses more than 35 brands across various segments.[156] As of 2022, Dhoni has more than 75 million followers on social media platforms and his brand value was projected to be $80.3 million by Duff and Phelps.[157] Dhoni's popularity is often compared to Sachin Tendulkar, the highest run scorer in international cricket.[158][159] The No.7 jersey has been made popular by Dhoni which was retired in 2023 by BCCI.[160] Dhoni has developed a special connection with the city of Chennai whose IPL franchise he represents with fans calling him 'Thala' meaning leader in Tamil.[161][162]\n",
        "\n",
        "Playing style\n",
        "\n",
        "Dhoni in 2008\n",
        "Dhoni is a right-handed batsman and wicket-keeper.[116] Dhoni is an unorthodox batsman who deviates from conventional coaching manuals to showcase his batting technique.[163] Dhoni displays a proclivity for hitting full-length deliveries towards the Long-on, Long-off, and Midwicket regions, rather than the conventional Cover region.[163] He plays pull shots and hook shots off short-pitched deliveries often putting pressure on the bowler to adjust their line and length accordingly. Dhoni holds the bat with a firm grip at the bottom of the handle, striking the ball with force and precision to clear the boundary.[164] He is a powerful hitter of the ball and is one of the fastest men in running between the wickets.[165] He plays the helicopter shot technique, taught to him by a fellow player and childhood friend Santosh Lal.[166][167][168] As a batsman, he is recognized for his finishing skills in high-pressure situations.[169]\n",
        "\n",
        "As a wicket-keeper, he has been praised for his fast reflexes behind the stumps while also being criticized for the lack of good technique.[170][171] He is known for his unorthodox captaincy, approachability and has earned a reputation of being a successful leader.[172][173] Dhoni is also known for his cool-headed demeanor on the field which has earned him the monicker \"Captain cool\".[174]\n",
        "\n",
        "Personal life\n",
        "Dhoni married Sakshi Singh Rawat on 4 July 2010 in Dehradun.[175][176] Dhoni and his wife have a daughter who was born on 6 February 2015.[177][178] He lives in his farmhouse outside Ranchi.[179] Dhoni is an automotive enthusiast and owns a number of bikes and cars in his collection.[180]\n",
        "\n",
        "Career statistics\n",
        "Dhoni has scored 4876 runs in Test matches at an average of 38 and 10773 runs at an average of above 50 in ODIs. He has scored 16 centuries and 106 fifties in his international career.[116] Dhoni has one of the highest averages in ODI cricket.[181] Dhoni has scored more than 3200 runs across 377 T20 matches.[116] Dhoni has taken 634 catches and effected 195 stumpings in his international career making him one of the most prolific wicket-keepers of all time.[182]\n",
        "\n",
        "Dhoni's ODI record[183][184]\n",
        " \tMat\tRuns\tBest\tBat Avg.\tSR\t100s\t50s\t4s\t6s\tCatches\tStumpings\n",
        "Home\t127\t4351\t183*\t53.71\t91.60\t7\t25\t350\t116\t99\t48\n",
        "Away\t145\t4520\t101*\t50.78\t83.98\t1\t37\t324\t73\t126\t46\n",
        "Neutral\t78\t1902\t139*\t44.23\t87.60\t2\t11\t152\t40\t96\t29\n",
        "Total\t350\t10773\t183*\t50.57\t87.56\t10\t78\t826\t229\t321\t123\n",
        "Captaincy\n",
        "In 2007, Dhoni was appointed captain of the captain of the Indian team and served as the captain of all formats from 2008. He captained the Indian team in 332 matches including 200 ODIs and was one of the most prolific and successful captains of all time.[185][186][187]\n",
        "\n",
        "Dhoni captaincy record[185][186][187]\n",
        "Type\tMatches\tWon\tLost\tDrawn\tTied\tNo result\n",
        "Test\t60\t27\t18\t15\t–\t–\n",
        "ODI\t200\t110\t74\t–\t5\t11\n",
        "T20I\t72\t41\t28\t–\t1\t2\n",
        "Records and achievements\n",
        "Tests\n",
        "Most runs by an Indian wicket-keeper (4876)[188][189]\n",
        "Most number of sixes by an Indian captain (78)[190]\n",
        "Most dismissals by an Indian and fifth most by any wicket-keeper (294) [191]\n",
        "ODIs\n",
        "Most wins by an Indian captain and second most overall (110)[192]\n",
        "Second most runs as captain (6641)[193]\n",
        "Third most number of matches as captain (200)[185]\n",
        "First player to pass 10,000 runs with an average of over 50[194]\n",
        "Most not-outs (84)[195]\n",
        "Highest score by a wicket-keeper (183*)[196]\n",
        "Highest eighth wicket partnership for India (100* with Bhuvneshwar Kumar)[197]\n",
        "Most dismissals in an innings (6) and career (432) by an Indian wicket-keeper[198]\n",
        "Most stumpings by any wicket-keeper (123)[199][200]\n",
        "T20Is\n",
        "Second most matches as captain (72)[186]\n",
        "Most T20I innings (76) and runs (1,153) before scoring a fifty[201][202][203]\n",
        "Most stumpings as wicket-keeper (34)[204]\n",
        "Most catches as wicket keeper in a T20I innings (5)[205]\n",
        "Combined\n",
        "Most international matches as captain (332)[206]\n",
        "Most stumpings (195) and only wicket-keeper to make 150 stumpings[207][208]\n",
        "Third most dismissals as a wicket-keeper (829)[182]\n",
        "Sixth most sixes in career (359)[209]\n",
        "Honors\n",
        "India\n",
        "ICC World T20: 2007[210]\n",
        "Asia Cup: 2010,[211] 2016[212] 2018[213]\n",
        "Cricket World Cup: 2011[214][75]\n",
        "ICC Champions Trophy: 2013[215][216]\n",
        "Chennai Super Kings\n",
        "Indian Premier League: 2010,[217] 2011,[218] 2018,[219] 2021,[220] 2023[221]\n",
        "Champions League: 2010,[222] 2014[223]\n",
        "Individual\n",
        "\n",
        "Dhoni receiving the Padma Bhushan award from then President of India Ram Nath Kovind in April 2018[224]\n",
        "MTV Youth Icon of the Year: 2006[225][226]\n",
        "Honorary doctorate degree by De Montfort University: 2011[227][228]\n",
        "CNN-News18 Indian of the Year: 2011[229]\n",
        "Major Dhyanchand Khel Ratna award: 2008[230]\n",
        "Padma Shri: 2009[231]\n",
        "Honorary Lieutenant Colonel, Parachute Regiment of the Indian Territorial Army: 2011[3]\n",
        "Castrol Indian Cricketer of the Year: 2011[232][233]\n",
        "ICC People's Choice Award: 2013[234]\n",
        "Padma Bhushan: 2018[235]\n",
        "ICC ODI Player of the Year: 2008, 2009[236][237]\n",
        "ICC Men's ODI Team of the Year: 2006, 2008, 2009, 2010, 2011, 2012, 2013, 2014 (captain in 2009, 2011–2014)[238][239]\n",
        "ICC Men's ODI team of the decade: 2011–2020 (captain and wicket-keeper)[240]\n",
        "ICC Men's T20I team of the decade: 2011–2020 (captain and wicket-keeper)[240]\n",
        "ICC Spirit of the cricket award of the decade: 2011–2020[241][242]\n",
        "Others\n",
        "In 2019, Jharkhand Cricket Association named the JSCA stadium's south stand after Dhoni.[243] In 2023, the Mumbai Cricket Association (MCA) decided to honour him by dedicating seats (J282–J286) at the Wankhede Stadium where he hit the winning shot in 2011 World Cup final.[244]\n",
        "\n",
        "In popular culture\n",
        "A film based on Dhoni's life from his childhood to the 2011 world cup win, titled M.S. Dhoni: The Untold Story, with Sushant Singh Rajput in the lead role was released on 29 September 2016.[245]\n",
        "The Dhoni Touch: unraveling the enigma that is Mahendra Singh Dhoni, a book by Bharat Sundaresan.[246]\n",
        "Dhoni (2012), a Tamil feature film, directed and produced by Prakash Raj where the plot illustrates the conflicting interests of a father and his son with the father wanting his son to study MBA but his son wanting to become a cricketer like Dhoni.[247]\n",
        "References\n",
        "\"\"\""
      ],
      "metadata": {
        "id": "lFtpBh6YaJEp"
      },
      "execution_count": 5,
      "outputs": []
    },
    {
      "cell_type": "markdown",
      "source": [],
      "metadata": {
        "id": "f4n-sOHsg3s5"
      }
    },
    {
      "cell_type": "code",
      "source": [
        "text=\"\"\"\n",
        "The 1992 Indian stock market scam was a market manipulation carried out by Harshad Shantilal Mehta with other bankers and politicians on the Bombay Stock Exchange. The scam caused significant disruption to the stock market of India, defrauding investors of over ten million USD.\n",
        "\n",
        "Techniques used by Mehta involved having corrupt officials signing fake cheques, misusing market loopholes, and fabrication to drive the prices of stocks up to 40 times their original price. Stock traders making good returns as a result of the scam were able to fraudulently obtain unsecured loans from banks. When the scam was discovered in April 1992, the Indian stock market collapsed, and the same banks suddenly found themselves holding millions of Indian rupees (INR) in now useless debt.\n",
        "\n",
        "1992 Scandal\n",
        "Overview\n",
        "The scam was the biggest money market scam ever committed in India, amounting to approximately ₹ 5,000 crores. The main perpetrator of the scam was a stock and money market broker Harshad Mehta. It was a systematic stock scam using fake bank receipts and stamp paper that caused the Indian stock market to crash. The scam exposed the inherent loopholes of the Indian financial systems and resulted in a completely reformed system of stock transactions, including an introduction of online security systems.[1]\n",
        "\n",
        "Security frauds refer to the idea of diversion of funds from the banking system to various stockholders or brokers.[2] The 1992 scam was a systematic fraud committed by Mehta in the Indian stock market which led to the complete collapse of security systems. He committed a scam of over 1 billion from the banking system to buy stocks on the Bombay Stock Exchange.[3] This impacted the entire exchange system as the security system collapsed and investors lost hundreds of thousands of rupees in the exchange system. The scope of the scam was so large that the net value of the stocks was higher than the combined health and education budget of India. The scam was orchestrated in such a way that Mehta secured securities from the State Bank of India against forged cheques signed by corrupt officials and failed to deliver the securities. Mehta made the prices of the stocks soar high through fictitious practices and sold the stocks that he owned in these companies.[4] The impact of the scam had many consequences, which included the losses incurred by lakhs of families and the immediate crash of the stock market. The index fell from 4500 to 2500 representing a loss of ₹ 1000  billion in market capitalization.[2] The 1992 scam raised many questions involving bank officials responsible for being in collusion with Mehta. An interview with Montek Singh Ahluwalia (Secretary, economic affairs at the Ministry of Finance) revealed that many top bank officials were involved.[5]\n",
        "\n",
        "Bank funds scam\n",
        "In the early 70's, banks in India were not allowed to invest in the equity markets. However, they were expected to post profits and to retain a certain ratio (threshold) of their assets in government fixed interest bonds. Mehta squeezed capital out of the banking system to address this requirement of banks and pumped this money into the share market. He promised the banks higher rates of interest, while asking them to transfer the money into his personal account, under the guise of buying securities for them from other banks. At that time, a bank had to go through a broker to buy securities and forward bonds from other banks. Mehta used this money temporarily in his account to buy shares, hike up demand of certain shares (such as that of ACC, Sterlite Industries, and Videocon) dramatically, sell them off, pass on a part of the proceeds to the bank and keep the rest for himself. This resulted in stocks like ACC, which was trading in 1991 for ₹200/share, catapult to nearly ₹9,000 in just 3 months.[6]\n",
        "\n",
        "Bank receipt scam\n",
        "Another major instrument was the bank receipt (BR). In a ready forward deal, securities were not moved back and forth in actuality. Instead, the borrower, i.e. the seller of securities, gave the buyer of the securities a BR. The BR serves as a receipt from the selling bank, and also promises that the buyer will receive the securities they have paid for at the end of the term. Having figured this out, Mehta needed banks, which could issue fake BRs, or BRs not backed by any government securities.\n",
        "\n",
        "Once these fake BRs were issued, they were passed on to other banks and the banks in turn gave money to Mehta, plainly assuming that they were lending against government securities when this was not really the case.[7] He took the price of ACC from ₹200 to ₹9,000. That was an increase of 4,400%. Since he had to book profits in the end, the day he sold was the day when the markets crashed.[8][9]\n",
        "\n",
        "Ready forward deal scam\n",
        "The ready forward deal is a way where a single broker liaisons between two banks. When one bank wants to sell securities, it approaches the broker. This broker goes to another bank and tries to sell the securities and vice versa for buying. Since Mehta was a renowned broker, he got cheques issued in his name instead of the bank. When the bank wanted money for the securities, he approached another bank and repeated the same process, and invested the bank money in the stock market.[10] Mehta used the ready forward deal and applied it to the Bank Receipts system of the Indian financial systems. This system was the most flawed system as the Janakiraman Committee restructured the entire Bank Receipts system after the 1992 scam.[11]\n",
        "\n",
        "Mehta used forged BR's to gain unsecured loans, and used several small banks to issue BRs on demand. Since these banks were small, Mehta held on to the receipts as long as he wanted. The cheques in favour of both the banks were credited into the brokers' accounts which was the account of Mehta. As a result, banks made heavy investments in BOK and MCB as they showed positive signs of growth.[1] Using the BR scam, Mehta took the price of ACC from ₹200 to ₹9000 in a short span of time. This 4400% percent increase was seen in several other stocks and as he sold the stocks, the market crashed.[8]\n",
        "\n",
        "This went on as long as the stock prices kept going up, and no one had a clue about Mehta's operations. Once the scam was exposed, though, a lot of banks were left holding BRs which did not have any value – the banking system had been swindled of a whopping ₹4,000 crore (equivalent to ₹310 billion or US$3.9 billion in 2023). They knew that they would be accused if their involvement in issuing cheques to Mehta was discovered. Subsequently, it transpired that Citibank, brokers like Pallav Sheth and Ajay Kayan, industrialists like Aditya Birla, Hemendra Kothari, a number of politicians, and the RBI Governor S.Venkitaramanan all had played a role in allowing or facilitating Mehta's rigging of the share market.[12]\n",
        "\n",
        "Realization of scam and market crash\n",
        "The scam first became apparent in late April 1992, when it became clear that Mehta was a disproportionately large investor in government securities. At the time, Mehta was doing more than a third of the total securities business in India. When the public realized that Mehta's investments were illegitimate and that his stocks were likely worthless, it set off a selling frenzy of Mehta's stocks. The banks that had loaned money to Mehta were suddenly holding hundreds of millions in unsecured loans. The combination of the selling frenzy and the fact that numerous banks been defrauded crashed the Indian stock market, with prices dropping 40% immediately.[13] Stocks eventually dropped 72%, and a bear market lasted for about 2 years.[14]\n",
        "\n",
        "This table illustrates the extent of money certain banks lost.[11]\n",
        "\n",
        "Name of Bank\t₹ in crores\n",
        "National Housing Bank (NHB)\t1,199.39\n",
        "State Bank Of Saurashtra\t175.04\n",
        "SBI Capital Markets Ltd (SBI Caps)\t121.23\n",
        "Standard Chartered Bank\t300.00\n",
        "Total\t1,795.66\n",
        "Exposure, trial and conviction\n",
        "Exploiting several loopholes in the banking system, Mehta and his associates siphoned off funds from inter-bank transactions and bought shares at a premium across many segments, triggering a rise in the BSE SENSEX. When the scheme was exposed, banks started demanding their money back, causing the collapse. He was later charged with 72 criminal offences, and more than 600 civil action suits were filed against him.[15]\n",
        "\n",
        "He was arrested and banished from the stock market with investors holding him responsible for causing losses to various entities. Mehta and his brothers were arrested by the CBI on 9 November 1992 for allegedly misappropriating more than 2.8 million shares of about 90 companies through forged share transfer forms. The total value of the shares misappropriation was placed at ₹250 crore (equivalent to ₹19 billion or US$240 million in 2023).[16]And was found not guilty for any of the cases.\n",
        "\n",
        "Mehta made a brief comeback as a stock market guru, giving tips on his own website as well as a weekly newspaper column. However, in September 1999, Bombay High Court convicted and sentenced him to five years rigorous imprisonment and a fine of ₹25,000 (US$310).[17] On 14 January 2003, The Supreme Court of India confirmed High Court's judgement in a 2–1 decision. While Justice B.N. Agrawal and Justice Arijit Pasayat upheld his conviction, Justice M.B. Shah voted to acquit him.[18]\n",
        "\n",
        "Allegations of payment of bribe to India's prime minister\n",
        "Mehta raised a furore on announcing that he had paid ₹10 million to the then Congress President and Prime Minister, P.V. Narasimha Rao, as a donation to the party, for getting him off the scandal case.[19][20]\n",
        "\n",
        "Impacts\n",
        "The immediate impact was a drastic fall in share prices and market index, causing a breakdown of the securities control system operation with the commercial banks and the RBI.[21] Around ₹35 billion from the ₹2,500 billion market was withdrawn, causing the share market collapse. The Bombay Stock shares resorted to records tampering in the trading system.[22] It caused panic with the public and banks were severely impacted. Banks like Standard Chartered and ANZ Grindlays were implicated in the scam for bank receipt forgery and transfer of money into Mehta's personal account. The government realized that the fundamental problem with the financial structure of the stock markets was the lack of computerized systems which impacted the whole stock market.[23]\n",
        "\n",
        "Various bank officers were investigated and implicated in fraudulent charges. The five main accused officials were related to the Financial Fairgrowth Services Limited (FFSL) and Andhra Bank Financial Services Ltd (ABFSL).[24] The chairman of Vijaya Bank committed suicide following the news about the bank receipt scam. The scam led to the resignation of P. Chidambaram who was accused of owning shell companies connected to Mehta. Mehta was convicted by the Bombay High Court and the Supreme Court of India for his part in the financial scandal valued at ₹49.99 billion (US$740 million). Various bank officials were arrested, leading to a complete breakdown of banking systems[25]\n",
        "\n",
        "Subsequent reforms\n",
        "The first reform was the formation of the National Stock Exchange of India (NSE). It was followed by the development of the CII Code for Desirable Corporate Governance by Rahul Bajaj. The CII Code commanded the formation of two major committees headed by Kumar Mangalam Birla and N. R. Narayana Murthy, and overseen by the Securities and Exchange Board of India (SEBI). The objective was to monitor corporate governance and prevent future scams.[26] The SEBI were to monitor the NSE and the National Securities Depository. For the equity market, the government introduced ten acts of parliament and one constitutional amendment based upon the principles of economic reform and legislative changes.[27] The introduction of online trading by NSE changed the dynamics of stock buying and selling. The financial market opened up nationally rather than being confined to Bombay (now, Mumbai).[1]\n",
        "\n",
        "Changes in the financial structure of India\n",
        "The 1992 scam collapsed the Indian stock market; around 40% of the market value or ₹1,000 billion was wiped out. It led the authorities to reconsider existing financial systems and restructure it. The first structural change was to record payments made for purchasing investments in reconciled bank receipts and subsidiary general ledgers to prevent fraudulent transactions. On the advice of the Janakiraman Committee, a committee was established to oversee the Securities and Exchange Board of India. The primary recommendation of the committee was to limit ready forward and double ready forward deals to government securities only. All banks were made custodians rather than principals in transactions. Banks were to have a separate audit system for portfolios, and it were to be monitored by the Reserve Bank of India (RBI).[11]\n",
        "\n",
        "In popular culture\n",
        "See also: Harshad Mehta § In popular culture\n",
        "Gafla is a 2006 Indian Hindi-language crime drama film directed by Sameer Hanchate inspired by this incident. The scam was dramatized in the 2020 web series Scam 1992, created by Hansal Mehta, with Pratik Gandhi and Shreya Dhanwanthary playing the roles of Harshad Mehta and Sucheta Dalal respectively. The series was adapted from journalist Sucheta Dalal and Debashish Basu's 1992 book The Scam: Who Won, who Lost, who Got Away.[28] The scam was portrayed in the 2020 Indian webseries, The Bull Of Dalal Street on Ullu. The Big Bull is a 2021 Indian Hindi-language film directed by Kookie Gulati, starring Abhishek Bachchan as Harshad Mehta loosely based on his life and the 1992 scam.[29]\n",
        "\"\"\""
      ],
      "metadata": {
        "id": "CRDM7u_wg4QI"
      },
      "execution_count": 7,
      "outputs": []
    },
    {
      "cell_type": "code",
      "source": [
        "tokens=tokenizer.encode_plus(text,add_special_tokens=False)\n",
        "print('BERT acceptable token length is 512')\n",
        "len(tokens['input_ids'])"
      ],
      "metadata": {
        "colab": {
          "base_uri": "https://localhost:8080/"
        },
        "id": "WU2h96xmaJI5",
        "outputId": "ca688f0a-4acf-491e-c871-559bbeed2ef7"
      },
      "execution_count": 8,
      "outputs": [
        {
          "output_type": "stream",
          "name": "stderr",
          "text": [
            "Token indices sequence length is longer than the specified maximum sequence length for this model (2945 > 512). Running this sequence through the model will result in indexing errors\n"
          ]
        },
        {
          "output_type": "stream",
          "name": "stdout",
          "text": [
            "BERT acceptable token length is 512\n"
          ]
        },
        {
          "output_type": "execute_result",
          "data": {
            "text/plain": [
              "2945"
            ]
          },
          "metadata": {},
          "execution_count": 8
        }
      ]
    },
    {
      "cell_type": "code",
      "source": [
        "input_ids=tokens['input_ids']\n",
        "attention_mask=tokens['attention_mask']"
      ],
      "metadata": {
        "id": "hywhUPmabefj"
      },
      "execution_count": 9,
      "outputs": []
    },
    {
      "cell_type": "code",
      "source": [
        "input_ids[16:23]"
      ],
      "metadata": {
        "colab": {
          "base_uri": "https://localhost:8080/"
        },
        "id": "xTBJjaxRcNST",
        "outputId": "add0282e-3a81-4249-f8af-be6f758d68eb"
      },
      "execution_count": 10,
      "outputs": [
        {
          "output_type": "execute_result",
          "data": {
            "text/plain": [
              "[17137, 26065, 2140, 2033, 22893, 2007, 2060]"
            ]
          },
          "metadata": {},
          "execution_count": 10
        }
      ]
    },
    {
      "cell_type": "code",
      "source": [
        "start=0\n",
        "window_size=510\n",
        "prob_list=[]\n",
        "\n",
        "total_len=len(input_ids)\n",
        "\n",
        "loop= True\n",
        "\n",
        "while loop==True:\n",
        "  end=start+window_size\n",
        "  if end >= total_len:\n",
        "    loop=False\n",
        "    end=total_len\n",
        "\n",
        "  #extract window from inputids and mask\n",
        "  input_ids_chunk=[101]+input_ids[start:end]+[102]\n",
        "  attention_mask_chunk=[1]+attention_mask[start:end]+[1]\n",
        "\n",
        "  input_ids_chunk+=[0]*(window_size+2 - len(input_ids_chunk))\n",
        "  attention_mask_chunk+=[0]*(window_size+2 - len(attention_mask_chunk))\n",
        "\n",
        "  input_dict={\n",
        "      'input_ids':torch.Tensor([input_ids_chunk]).long(),\n",
        "      'attention_mask':torch.Tensor([attention_mask_chunk]).int()\n",
        "  }\n",
        "\n",
        "  prob_list.append(sentiment(input_dict))\n",
        "  print(start,end)\n",
        "  start=end\n",
        "\n",
        "\n"
      ],
      "metadata": {
        "id": "YCIUVYT_cN8S",
        "colab": {
          "base_uri": "https://localhost:8080/"
        },
        "outputId": "046d9584-10e3-40a5-e38f-42d7a435bd07"
      },
      "execution_count": 13,
      "outputs": [
        {
          "output_type": "stream",
          "name": "stdout",
          "text": [
            "0 510\n",
            "510 1020\n",
            "1020 1530\n",
            "1530 2040\n",
            "2040 2550\n",
            "2550 2945\n"
          ]
        }
      ]
    },
    {
      "cell_type": "code",
      "source": [
        "prob_list"
      ],
      "metadata": {
        "id": "Wv_aDWQtcN_K",
        "colab": {
          "base_uri": "https://localhost:8080/"
        },
        "outputId": "6e8e1db4-a55b-4133-baa9-e19933320e2a"
      },
      "execution_count": 14,
      "outputs": [
        {
          "output_type": "execute_result",
          "data": {
            "text/plain": [
              "[tensor([[0.0149, 0.7652, 0.2199]], grad_fn=<SoftmaxBackward0>),\n",
              " tensor([[0.0610, 0.0465, 0.8925]], grad_fn=<SoftmaxBackward0>),\n",
              " tensor([[0.0360, 0.3250, 0.6390]], grad_fn=<SoftmaxBackward0>),\n",
              " tensor([[0.0183, 0.8693, 0.1124]], grad_fn=<SoftmaxBackward0>),\n",
              " tensor([[0.0139, 0.8091, 0.1770]], grad_fn=<SoftmaxBackward0>),\n",
              " tensor([[0.0327, 0.2582, 0.7091]], grad_fn=<SoftmaxBackward0>)]"
            ]
          },
          "metadata": {},
          "execution_count": 14
        }
      ]
    },
    {
      "cell_type": "code",
      "source": [
        "stack=torch.stack(prob_list)\n",
        "stack"
      ],
      "metadata": {
        "colab": {
          "base_uri": "https://localhost:8080/"
        },
        "id": "PhXEtCn4e2SS",
        "outputId": "7801be2b-2c30-42e3-a9aa-5fb98dd62be6"
      },
      "execution_count": 15,
      "outputs": [
        {
          "output_type": "execute_result",
          "data": {
            "text/plain": [
              "tensor([[[0.0149, 0.7652, 0.2199]],\n",
              "\n",
              "        [[0.0610, 0.0465, 0.8925]],\n",
              "\n",
              "        [[0.0360, 0.3250, 0.6390]],\n",
              "\n",
              "        [[0.0183, 0.8693, 0.1124]],\n",
              "\n",
              "        [[0.0139, 0.8091, 0.1770]],\n",
              "\n",
              "        [[0.0327, 0.2582, 0.7091]]], grad_fn=<StackBackward0>)"
            ]
          },
          "metadata": {},
          "execution_count": 15
        }
      ]
    },
    {
      "cell_type": "code",
      "source": [
        "stack.shape"
      ],
      "metadata": {
        "colab": {
          "base_uri": "https://localhost:8080/"
        },
        "id": "ThT3J4cEfIRz",
        "outputId": "b58dd856-2e48-4553-cff6-2a2dc37d9315"
      },
      "execution_count": 16,
      "outputs": [
        {
          "output_type": "execute_result",
          "data": {
            "text/plain": [
              "torch.Size([6, 1, 3])"
            ]
          },
          "metadata": {},
          "execution_count": 16
        }
      ]
    },
    {
      "cell_type": "code",
      "source": [
        "stack.shape[0],stack.shape[2]"
      ],
      "metadata": {
        "colab": {
          "base_uri": "https://localhost:8080/"
        },
        "id": "TBLHSadYfTDW",
        "outputId": "732b1c2b-a549-4fa1-df46-88a9efb50c0f"
      },
      "execution_count": 17,
      "outputs": [
        {
          "output_type": "execute_result",
          "data": {
            "text/plain": [
              "(6, 3)"
            ]
          },
          "metadata": {},
          "execution_count": 17
        }
      ]
    },
    {
      "cell_type": "code",
      "source": [
        "with torch.no_grad():\n",
        "  stack=torch.stack(prob_list)\n",
        "  stack=stack.resize_(stack.shape[0],stack.shape[2])\n",
        "  avg=stack.mean(dim=0)\n",
        "\n",
        "avg"
      ],
      "metadata": {
        "colab": {
          "base_uri": "https://localhost:8080/"
        },
        "id": "N0jM6af4fdh3",
        "outputId": "45283468-a708-48c8-d249-d13c55f395ec"
      },
      "execution_count": 18,
      "outputs": [
        {
          "output_type": "execute_result",
          "data": {
            "text/plain": [
              "tensor([0.0295, 0.5122, 0.4583])"
            ]
          },
          "metadata": {},
          "execution_count": 18
        }
      ]
    },
    {
      "cell_type": "code",
      "source": [
        "torch.argmax(avg).item()"
      ],
      "metadata": {
        "colab": {
          "base_uri": "https://localhost:8080/"
        },
        "id": "42xpMENVgVmF",
        "outputId": "7d3c9ecc-774e-4e6c-f722-867aeb9292f1"
      },
      "execution_count": 19,
      "outputs": [
        {
          "output_type": "execute_result",
          "data": {
            "text/plain": [
              "1"
            ]
          },
          "metadata": {},
          "execution_count": 19
        }
      ]
    },
    {
      "cell_type": "code",
      "source": [],
      "metadata": {
        "id": "4Ut-WqnbgVWW"
      },
      "execution_count": null,
      "outputs": []
    },
    {
      "cell_type": "markdown",
      "source": [],
      "metadata": {
        "id": "QtdAjvRtZw-5"
      }
    }
  ]
}