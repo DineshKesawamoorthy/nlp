{
  "nbformat": 4,
  "nbformat_minor": 0,
  "metadata": {
    "colab": {
      "provenance": [],
      "authorship_tag": "ABX9TyM6yiN9zfvMyqpWu2FbPN4V",
      "include_colab_link": true
    },
    "kernelspec": {
      "name": "python3",
      "display_name": "Python 3"
    },
    "language_info": {
      "name": "python"
    }
  },
  "cells": [
    {
      "cell_type": "markdown",
      "metadata": {
        "id": "view-in-github",
        "colab_type": "text"
      },
      "source": [
        "<a href=\"https://colab.research.google.com/github/DineshKesawamoorthy/nlp/blob/main/name_entity_recognition/1.Name_Entity_Recognition_using_Spacy.ipynb\" target=\"_parent\"><img src=\"https://colab.research.google.com/assets/colab-badge.svg\" alt=\"Open In Colab\"/></a>"
      ]
    },
    {
      "cell_type": "code",
      "source": [
        "! pip install spacy"
      ],
      "metadata": {
        "colab": {
          "base_uri": "https://localhost:8080/"
        },
        "id": "6H74zEFYr3xQ",
        "outputId": "7d5c88fa-00da-4911-a7a8-f48acfdc984c"
      },
      "execution_count": 2,
      "outputs": [
        {
          "output_type": "stream",
          "name": "stdout",
          "text": [
            "Requirement already satisfied: spacy in /usr/local/lib/python3.10/dist-packages (3.7.4)\n",
            "Requirement already satisfied: spacy-legacy<3.1.0,>=3.0.11 in /usr/local/lib/python3.10/dist-packages (from spacy) (3.0.12)\n",
            "Requirement already satisfied: spacy-loggers<2.0.0,>=1.0.0 in /usr/local/lib/python3.10/dist-packages (from spacy) (1.0.5)\n",
            "Requirement already satisfied: murmurhash<1.1.0,>=0.28.0 in /usr/local/lib/python3.10/dist-packages (from spacy) (1.0.10)\n",
            "Requirement already satisfied: cymem<2.1.0,>=2.0.2 in /usr/local/lib/python3.10/dist-packages (from spacy) (2.0.8)\n",
            "Requirement already satisfied: preshed<3.1.0,>=3.0.2 in /usr/local/lib/python3.10/dist-packages (from spacy) (3.0.9)\n",
            "Requirement already satisfied: thinc<8.3.0,>=8.2.2 in /usr/local/lib/python3.10/dist-packages (from spacy) (8.2.3)\n",
            "Requirement already satisfied: wasabi<1.2.0,>=0.9.1 in /usr/local/lib/python3.10/dist-packages (from spacy) (1.1.2)\n",
            "Requirement already satisfied: srsly<3.0.0,>=2.4.3 in /usr/local/lib/python3.10/dist-packages (from spacy) (2.4.8)\n",
            "Requirement already satisfied: catalogue<2.1.0,>=2.0.6 in /usr/local/lib/python3.10/dist-packages (from spacy) (2.0.10)\n",
            "Requirement already satisfied: weasel<0.4.0,>=0.1.0 in /usr/local/lib/python3.10/dist-packages (from spacy) (0.3.4)\n",
            "Requirement already satisfied: typer<0.10.0,>=0.3.0 in /usr/local/lib/python3.10/dist-packages (from spacy) (0.9.4)\n",
            "Requirement already satisfied: smart-open<7.0.0,>=5.2.1 in /usr/local/lib/python3.10/dist-packages (from spacy) (6.4.0)\n",
            "Requirement already satisfied: tqdm<5.0.0,>=4.38.0 in /usr/local/lib/python3.10/dist-packages (from spacy) (4.66.4)\n",
            "Requirement already satisfied: requests<3.0.0,>=2.13.0 in /usr/local/lib/python3.10/dist-packages (from spacy) (2.31.0)\n",
            "Requirement already satisfied: pydantic!=1.8,!=1.8.1,<3.0.0,>=1.7.4 in /usr/local/lib/python3.10/dist-packages (from spacy) (2.7.1)\n",
            "Requirement already satisfied: jinja2 in /usr/local/lib/python3.10/dist-packages (from spacy) (3.1.4)\n",
            "Requirement already satisfied: setuptools in /usr/local/lib/python3.10/dist-packages (from spacy) (67.7.2)\n",
            "Requirement already satisfied: packaging>=20.0 in /usr/local/lib/python3.10/dist-packages (from spacy) (24.0)\n",
            "Requirement already satisfied: langcodes<4.0.0,>=3.2.0 in /usr/local/lib/python3.10/dist-packages (from spacy) (3.4.0)\n",
            "Requirement already satisfied: numpy>=1.19.0 in /usr/local/lib/python3.10/dist-packages (from spacy) (1.25.2)\n",
            "Requirement already satisfied: language-data>=1.2 in /usr/local/lib/python3.10/dist-packages (from langcodes<4.0.0,>=3.2.0->spacy) (1.2.0)\n",
            "Requirement already satisfied: annotated-types>=0.4.0 in /usr/local/lib/python3.10/dist-packages (from pydantic!=1.8,!=1.8.1,<3.0.0,>=1.7.4->spacy) (0.6.0)\n",
            "Requirement already satisfied: pydantic-core==2.18.2 in /usr/local/lib/python3.10/dist-packages (from pydantic!=1.8,!=1.8.1,<3.0.0,>=1.7.4->spacy) (2.18.2)\n",
            "Requirement already satisfied: typing-extensions>=4.6.1 in /usr/local/lib/python3.10/dist-packages (from pydantic!=1.8,!=1.8.1,<3.0.0,>=1.7.4->spacy) (4.11.0)\n",
            "Requirement already satisfied: charset-normalizer<4,>=2 in /usr/local/lib/python3.10/dist-packages (from requests<3.0.0,>=2.13.0->spacy) (3.3.2)\n",
            "Requirement already satisfied: idna<4,>=2.5 in /usr/local/lib/python3.10/dist-packages (from requests<3.0.0,>=2.13.0->spacy) (3.7)\n",
            "Requirement already satisfied: urllib3<3,>=1.21.1 in /usr/local/lib/python3.10/dist-packages (from requests<3.0.0,>=2.13.0->spacy) (2.0.7)\n",
            "Requirement already satisfied: certifi>=2017.4.17 in /usr/local/lib/python3.10/dist-packages (from requests<3.0.0,>=2.13.0->spacy) (2024.2.2)\n",
            "Requirement already satisfied: blis<0.8.0,>=0.7.8 in /usr/local/lib/python3.10/dist-packages (from thinc<8.3.0,>=8.2.2->spacy) (0.7.11)\n",
            "Requirement already satisfied: confection<1.0.0,>=0.0.1 in /usr/local/lib/python3.10/dist-packages (from thinc<8.3.0,>=8.2.2->spacy) (0.1.4)\n",
            "Requirement already satisfied: click<9.0.0,>=7.1.1 in /usr/local/lib/python3.10/dist-packages (from typer<0.10.0,>=0.3.0->spacy) (8.1.7)\n",
            "Requirement already satisfied: cloudpathlib<0.17.0,>=0.7.0 in /usr/local/lib/python3.10/dist-packages (from weasel<0.4.0,>=0.1.0->spacy) (0.16.0)\n",
            "Requirement already satisfied: MarkupSafe>=2.0 in /usr/local/lib/python3.10/dist-packages (from jinja2->spacy) (2.1.5)\n",
            "Requirement already satisfied: marisa-trie>=0.7.7 in /usr/local/lib/python3.10/dist-packages (from language-data>=1.2->langcodes<4.0.0,>=3.2.0->spacy) (1.1.1)\n"
          ]
        }
      ]
    },
    {
      "cell_type": "code",
      "execution_count": 3,
      "metadata": {
        "id": "j7HwWP6ErpQQ"
      },
      "outputs": [],
      "source": [
        "import spacy"
      ]
    },
    {
      "cell_type": "code",
      "source": [
        "!python -m spacy download en_core_web_sm"
      ],
      "metadata": {
        "colab": {
          "base_uri": "https://localhost:8080/"
        },
        "id": "aENhBld0sdOh",
        "outputId": "8d6674ef-c472-4990-aede-35b85fb2570d"
      },
      "execution_count": 4,
      "outputs": [
        {
          "output_type": "stream",
          "name": "stdout",
          "text": [
            "Collecting en-core-web-sm==3.7.1\n",
            "  Downloading https://github.com/explosion/spacy-models/releases/download/en_core_web_sm-3.7.1/en_core_web_sm-3.7.1-py3-none-any.whl (12.8 MB)\n",
            "\u001b[2K     \u001b[90m━━━━━━━━━━━━━━━━━━━━━━━━━━━━━━━━━━━━━━━━\u001b[0m \u001b[32m12.8/12.8 MB\u001b[0m \u001b[31m63.9 MB/s\u001b[0m eta \u001b[36m0:00:00\u001b[0m\n",
            "\u001b[?25hRequirement already satisfied: spacy<3.8.0,>=3.7.2 in /usr/local/lib/python3.10/dist-packages (from en-core-web-sm==3.7.1) (3.7.4)\n",
            "Requirement already satisfied: spacy-legacy<3.1.0,>=3.0.11 in /usr/local/lib/python3.10/dist-packages (from spacy<3.8.0,>=3.7.2->en-core-web-sm==3.7.1) (3.0.12)\n",
            "Requirement already satisfied: spacy-loggers<2.0.0,>=1.0.0 in /usr/local/lib/python3.10/dist-packages (from spacy<3.8.0,>=3.7.2->en-core-web-sm==3.7.1) (1.0.5)\n",
            "Requirement already satisfied: murmurhash<1.1.0,>=0.28.0 in /usr/local/lib/python3.10/dist-packages (from spacy<3.8.0,>=3.7.2->en-core-web-sm==3.7.1) (1.0.10)\n",
            "Requirement already satisfied: cymem<2.1.0,>=2.0.2 in /usr/local/lib/python3.10/dist-packages (from spacy<3.8.0,>=3.7.2->en-core-web-sm==3.7.1) (2.0.8)\n",
            "Requirement already satisfied: preshed<3.1.0,>=3.0.2 in /usr/local/lib/python3.10/dist-packages (from spacy<3.8.0,>=3.7.2->en-core-web-sm==3.7.1) (3.0.9)\n",
            "Requirement already satisfied: thinc<8.3.0,>=8.2.2 in /usr/local/lib/python3.10/dist-packages (from spacy<3.8.0,>=3.7.2->en-core-web-sm==3.7.1) (8.2.3)\n",
            "Requirement already satisfied: wasabi<1.2.0,>=0.9.1 in /usr/local/lib/python3.10/dist-packages (from spacy<3.8.0,>=3.7.2->en-core-web-sm==3.7.1) (1.1.2)\n",
            "Requirement already satisfied: srsly<3.0.0,>=2.4.3 in /usr/local/lib/python3.10/dist-packages (from spacy<3.8.0,>=3.7.2->en-core-web-sm==3.7.1) (2.4.8)\n",
            "Requirement already satisfied: catalogue<2.1.0,>=2.0.6 in /usr/local/lib/python3.10/dist-packages (from spacy<3.8.0,>=3.7.2->en-core-web-sm==3.7.1) (2.0.10)\n",
            "Requirement already satisfied: weasel<0.4.0,>=0.1.0 in /usr/local/lib/python3.10/dist-packages (from spacy<3.8.0,>=3.7.2->en-core-web-sm==3.7.1) (0.3.4)\n",
            "Requirement already satisfied: typer<0.10.0,>=0.3.0 in /usr/local/lib/python3.10/dist-packages (from spacy<3.8.0,>=3.7.2->en-core-web-sm==3.7.1) (0.9.4)\n",
            "Requirement already satisfied: smart-open<7.0.0,>=5.2.1 in /usr/local/lib/python3.10/dist-packages (from spacy<3.8.0,>=3.7.2->en-core-web-sm==3.7.1) (6.4.0)\n",
            "Requirement already satisfied: tqdm<5.0.0,>=4.38.0 in /usr/local/lib/python3.10/dist-packages (from spacy<3.8.0,>=3.7.2->en-core-web-sm==3.7.1) (4.66.4)\n",
            "Requirement already satisfied: requests<3.0.0,>=2.13.0 in /usr/local/lib/python3.10/dist-packages (from spacy<3.8.0,>=3.7.2->en-core-web-sm==3.7.1) (2.31.0)\n",
            "Requirement already satisfied: pydantic!=1.8,!=1.8.1,<3.0.0,>=1.7.4 in /usr/local/lib/python3.10/dist-packages (from spacy<3.8.0,>=3.7.2->en-core-web-sm==3.7.1) (2.7.1)\n",
            "Requirement already satisfied: jinja2 in /usr/local/lib/python3.10/dist-packages (from spacy<3.8.0,>=3.7.2->en-core-web-sm==3.7.1) (3.1.4)\n",
            "Requirement already satisfied: setuptools in /usr/local/lib/python3.10/dist-packages (from spacy<3.8.0,>=3.7.2->en-core-web-sm==3.7.1) (67.7.2)\n",
            "Requirement already satisfied: packaging>=20.0 in /usr/local/lib/python3.10/dist-packages (from spacy<3.8.0,>=3.7.2->en-core-web-sm==3.7.1) (24.0)\n",
            "Requirement already satisfied: langcodes<4.0.0,>=3.2.0 in /usr/local/lib/python3.10/dist-packages (from spacy<3.8.0,>=3.7.2->en-core-web-sm==3.7.1) (3.4.0)\n",
            "Requirement already satisfied: numpy>=1.19.0 in /usr/local/lib/python3.10/dist-packages (from spacy<3.8.0,>=3.7.2->en-core-web-sm==3.7.1) (1.25.2)\n",
            "Requirement already satisfied: language-data>=1.2 in /usr/local/lib/python3.10/dist-packages (from langcodes<4.0.0,>=3.2.0->spacy<3.8.0,>=3.7.2->en-core-web-sm==3.7.1) (1.2.0)\n",
            "Requirement already satisfied: annotated-types>=0.4.0 in /usr/local/lib/python3.10/dist-packages (from pydantic!=1.8,!=1.8.1,<3.0.0,>=1.7.4->spacy<3.8.0,>=3.7.2->en-core-web-sm==3.7.1) (0.6.0)\n",
            "Requirement already satisfied: pydantic-core==2.18.2 in /usr/local/lib/python3.10/dist-packages (from pydantic!=1.8,!=1.8.1,<3.0.0,>=1.7.4->spacy<3.8.0,>=3.7.2->en-core-web-sm==3.7.1) (2.18.2)\n",
            "Requirement already satisfied: typing-extensions>=4.6.1 in /usr/local/lib/python3.10/dist-packages (from pydantic!=1.8,!=1.8.1,<3.0.0,>=1.7.4->spacy<3.8.0,>=3.7.2->en-core-web-sm==3.7.1) (4.11.0)\n",
            "Requirement already satisfied: charset-normalizer<4,>=2 in /usr/local/lib/python3.10/dist-packages (from requests<3.0.0,>=2.13.0->spacy<3.8.0,>=3.7.2->en-core-web-sm==3.7.1) (3.3.2)\n",
            "Requirement already satisfied: idna<4,>=2.5 in /usr/local/lib/python3.10/dist-packages (from requests<3.0.0,>=2.13.0->spacy<3.8.0,>=3.7.2->en-core-web-sm==3.7.1) (3.7)\n",
            "Requirement already satisfied: urllib3<3,>=1.21.1 in /usr/local/lib/python3.10/dist-packages (from requests<3.0.0,>=2.13.0->spacy<3.8.0,>=3.7.2->en-core-web-sm==3.7.1) (2.0.7)\n",
            "Requirement already satisfied: certifi>=2017.4.17 in /usr/local/lib/python3.10/dist-packages (from requests<3.0.0,>=2.13.0->spacy<3.8.0,>=3.7.2->en-core-web-sm==3.7.1) (2024.2.2)\n",
            "Requirement already satisfied: blis<0.8.0,>=0.7.8 in /usr/local/lib/python3.10/dist-packages (from thinc<8.3.0,>=8.2.2->spacy<3.8.0,>=3.7.2->en-core-web-sm==3.7.1) (0.7.11)\n",
            "Requirement already satisfied: confection<1.0.0,>=0.0.1 in /usr/local/lib/python3.10/dist-packages (from thinc<8.3.0,>=8.2.2->spacy<3.8.0,>=3.7.2->en-core-web-sm==3.7.1) (0.1.4)\n",
            "Requirement already satisfied: click<9.0.0,>=7.1.1 in /usr/local/lib/python3.10/dist-packages (from typer<0.10.0,>=0.3.0->spacy<3.8.0,>=3.7.2->en-core-web-sm==3.7.1) (8.1.7)\n",
            "Requirement already satisfied: cloudpathlib<0.17.0,>=0.7.0 in /usr/local/lib/python3.10/dist-packages (from weasel<0.4.0,>=0.1.0->spacy<3.8.0,>=3.7.2->en-core-web-sm==3.7.1) (0.16.0)\n",
            "Requirement already satisfied: MarkupSafe>=2.0 in /usr/local/lib/python3.10/dist-packages (from jinja2->spacy<3.8.0,>=3.7.2->en-core-web-sm==3.7.1) (2.1.5)\n",
            "Requirement already satisfied: marisa-trie>=0.7.7 in /usr/local/lib/python3.10/dist-packages (from language-data>=1.2->langcodes<4.0.0,>=3.2.0->spacy<3.8.0,>=3.7.2->en-core-web-sm==3.7.1) (1.1.1)\n",
            "\u001b[38;5;2m✔ Download and installation successful\u001b[0m\n",
            "You can now load the package via spacy.load('en_core_web_sm')\n",
            "\u001b[38;5;3m⚠ Restart to reload dependencies\u001b[0m\n",
            "If you are in a Jupyter or Colab notebook, you may need to restart Python in\n",
            "order to load all the package's dependencies. You can do this by selecting the\n",
            "'Restart kernel' or 'Restart runtime' option.\n"
          ]
        }
      ]
    },
    {
      "cell_type": "code",
      "source": [
        "# unlike transformers, we need to download each model in spacy\n",
        "ner=spacy.load('en_core_web_sm')\n",
        "#[lang]_[type]_[genre]_[size] -- This is how the model was named"
      ],
      "metadata": {
        "id": "YUAxStVZsEyv"
      },
      "execution_count": 7,
      "outputs": []
    },
    {
      "cell_type": "code",
      "source": [
        "text=\"\"\"\n",
        "NEW DELHI: The Nifty Auto index traded positive around 11:15AM(IST)on Friday in an upbeat market.\n",
        "\n",
        "Hero MotoCorp Ltd.(up 3.35 per cent), Ashok Leyland Ltd.(up 2.24 per cent), Samvardhana Motherson International Ltd.(up 2.04 per cent), Bajaj Auto Ltd.(up 1.32 per cent) and Maruti Suzuki India Ltd.(up 1.26 per cent) were among the top gainers.\n",
        "\n",
        "Mahindra & Mahindra Ltd.(down 0.54 per cent) and Apollo Tyres Ltd.(down 0.18 per cent) were the top losers on the index.\n",
        "\n",
        "The Nifty Auto index was up 0.76 per cent at 22806.05 at the time of writing this report.\n",
        "DID YOU KNOW?\n",
        "Learn trading in the stock market - we will give you 10 lakh cash to start!\n",
        "\n",
        "\n",
        "Benchmark NSE Nifty50 index was up 94.91 points at 22052.4, while the BSE Sensex was up 238.91 points at 72643.08.\n",
        "\n",
        "Among the 50 stocks in the Nifty index, 37 were trading in the green, while 13 were in the red.\n",
        "\n",
        "Shares of Vodafone Idea, YES Bank, NHPC, IDFC First Bank and PNB were among the most traded shares on the NSE.\n",
        "\n",
        "Shares of Vijaya Diagnostic, Hindustan Zinc, Commercial Engg, Honeywell and Tara Chand Logistic hit their fresh 52-week highs in today's trade, while Future Supply Chain, Lakshmi Precis, Popular Vehicles, Keerti Knowledge and Kanani Inds hit fresh 52-week lows in trade.\n",
        "\"\"\""
      ],
      "metadata": {
        "id": "HZu-aUaLsckZ"
      },
      "execution_count": 8,
      "outputs": []
    },
    {
      "cell_type": "code",
      "source": [
        "doc=ner(text)\n",
        "print(type(doc))\n",
        "doc"
      ],
      "metadata": {
        "colab": {
          "base_uri": "https://localhost:8080/"
        },
        "id": "dDQBetDdumfy",
        "outputId": "15f01efb-a50c-470a-d861-203c2b687111"
      },
      "execution_count": 11,
      "outputs": [
        {
          "output_type": "stream",
          "name": "stdout",
          "text": [
            "<class 'spacy.tokens.doc.Doc'>\n"
          ]
        },
        {
          "output_type": "execute_result",
          "data": {
            "text/plain": [
              "\n",
              "NEW DELHI: The Nifty Auto index traded positive around 11:15AM(IST)on Friday in an upbeat market.\n",
              "\n",
              "Hero MotoCorp Ltd.(up 3.35 per cent), Ashok Leyland Ltd.(up 2.24 per cent), Samvardhana Motherson International Ltd.(up 2.04 per cent), Bajaj Auto Ltd.(up 1.32 per cent) and Maruti Suzuki India Ltd.(up 1.26 per cent) were among the top gainers.\n",
              "\n",
              "Mahindra & Mahindra Ltd.(down 0.54 per cent) and Apollo Tyres Ltd.(down 0.18 per cent) were the top losers on the index.\n",
              "\n",
              "The Nifty Auto index was up 0.76 per cent at 22806.05 at the time of writing this report.\n",
              "DID YOU KNOW?\n",
              "Learn trading in the stock market - we will give you 10 lakh cash to start!\n",
              "\n",
              "\n",
              "Benchmark NSE Nifty50 index was up 94.91 points at 22052.4, while the BSE Sensex was up 238.91 points at 72643.08.\n",
              "\n",
              "Among the 50 stocks in the Nifty index, 37 were trading in the green, while 13 were in the red.\n",
              "\n",
              "Shares of Vodafone Idea, YES Bank, NHPC, IDFC First Bank and PNB were among the most traded shares on the NSE.\n",
              "\n",
              "Shares of Vijaya Diagnostic, Hindustan Zinc, Commercial Engg, Honeywell and Tara Chand Logistic hit their fresh 52-week highs in today's trade, while Future Supply Chain, Lakshmi Precis, Popular Vehicles, Keerti Knowledge and Kanani Inds hit fresh 52-week lows in trade."
            ]
          },
          "metadata": {},
          "execution_count": 11
        }
      ]
    },
    {
      "cell_type": "code",
      "source": [],
      "metadata": {
        "id": "IVVc7DKvyC4B"
      },
      "execution_count": null,
      "outputs": []
    },
    {
      "cell_type": "code",
      "source": [],
      "metadata": {
        "id": "u-_6or5tvQIb"
      },
      "execution_count": null,
      "outputs": []
    },
    {
      "cell_type": "markdown",
      "source": [
        "# NER Using displacy"
      ],
      "metadata": {
        "id": "-kPckmdEvQez"
      }
    },
    {
      "cell_type": "code",
      "source": [
        "from spacy import displacy\n"
      ],
      "metadata": {
        "id": "hIueRvxFumqC"
      },
      "execution_count": 12,
      "outputs": []
    },
    {
      "cell_type": "code",
      "source": [
        "displacy.render(doc,style='ent')"
      ],
      "metadata": {
        "colab": {
          "base_uri": "https://localhost:8080/",
          "height": 752
        },
        "id": "F8hGRA1Ku9eL",
        "outputId": "a373d3fc-eaec-47d5-f7f8-31e3e4534128"
      },
      "execution_count": 13,
      "outputs": [
        {
          "output_type": "display_data",
          "data": {
            "text/plain": [
              "<IPython.core.display.HTML object>"
            ],
            "text/html": [
              "<span class=\"tex2jax_ignore\"><div class=\"entities\" style=\"line-height: 2.5; direction: ltr\"><br>NEW DELHI: The \n",
              "<mark class=\"entity\" style=\"background: #7aecec; padding: 0.45em 0.6em; margin: 0 0.25em; line-height: 1; border-radius: 0.35em;\">\n",
              "    Nifty Auto\n",
              "    <span style=\"font-size: 0.8em; font-weight: bold; line-height: 1; border-radius: 0.35em; vertical-align: middle; margin-left: 0.5rem\">ORG</span>\n",
              "</mark>\n",
              " index traded positive around \n",
              "<mark class=\"entity\" style=\"background: #bfe1d9; padding: 0.45em 0.6em; margin: 0 0.25em; line-height: 1; border-radius: 0.35em;\">\n",
              "    11:15AM(IST)on Friday\n",
              "    <span style=\"font-size: 0.8em; font-weight: bold; line-height: 1; border-radius: 0.35em; vertical-align: middle; margin-left: 0.5rem\">DATE</span>\n",
              "</mark>\n",
              " in an upbeat market.<br><br>\n",
              "<mark class=\"entity\" style=\"background: #7aecec; padding: 0.45em 0.6em; margin: 0 0.25em; line-height: 1; border-radius: 0.35em;\">\n",
              "    Hero MotoCorp Ltd.(up 3.35 per cent\n",
              "    <span style=\"font-size: 0.8em; font-weight: bold; line-height: 1; border-radius: 0.35em; vertical-align: middle; margin-left: 0.5rem\">ORG</span>\n",
              "</mark>\n",
              "), \n",
              "<mark class=\"entity\" style=\"background: #7aecec; padding: 0.45em 0.6em; margin: 0 0.25em; line-height: 1; border-radius: 0.35em;\">\n",
              "    Ashok Leyland Ltd.(up 2.24\n",
              "    <span style=\"font-size: 0.8em; font-weight: bold; line-height: 1; border-radius: 0.35em; vertical-align: middle; margin-left: 0.5rem\">ORG</span>\n",
              "</mark>\n",
              " per cent), \n",
              "<mark class=\"entity\" style=\"background: #aa9cfc; padding: 0.45em 0.6em; margin: 0 0.25em; line-height: 1; border-radius: 0.35em;\">\n",
              "    Samvardhana Motherson International\n",
              "    <span style=\"font-size: 0.8em; font-weight: bold; line-height: 1; border-radius: 0.35em; vertical-align: middle; margin-left: 0.5rem\">PERSON</span>\n",
              "</mark>\n",
              " Ltd.(up 2.04 per cent), \n",
              "<mark class=\"entity\" style=\"background: #7aecec; padding: 0.45em 0.6em; margin: 0 0.25em; line-height: 1; border-radius: 0.35em;\">\n",
              "    Bajaj Auto Ltd.(up\n",
              "    <span style=\"font-size: 0.8em; font-weight: bold; line-height: 1; border-radius: 0.35em; vertical-align: middle; margin-left: 0.5rem\">ORG</span>\n",
              "</mark>\n",
              " 1.32 per cent) and \n",
              "<mark class=\"entity\" style=\"background: #7aecec; padding: 0.45em 0.6em; margin: 0 0.25em; line-height: 1; border-radius: 0.35em;\">\n",
              "    Maruti Suzuki India Ltd.(up 1.26 per cent\n",
              "    <span style=\"font-size: 0.8em; font-weight: bold; line-height: 1; border-radius: 0.35em; vertical-align: middle; margin-left: 0.5rem\">ORG</span>\n",
              "</mark>\n",
              ") were among the top gainers.<br><br>\n",
              "<mark class=\"entity\" style=\"background: #7aecec; padding: 0.45em 0.6em; margin: 0 0.25em; line-height: 1; border-radius: 0.35em;\">\n",
              "    Mahindra &amp; Mahindra\n",
              "    <span style=\"font-size: 0.8em; font-weight: bold; line-height: 1; border-radius: 0.35em; vertical-align: middle; margin-left: 0.5rem\">ORG</span>\n",
              "</mark>\n",
              " Ltd.(down \n",
              "<mark class=\"entity\" style=\"background: #e4e7d2; padding: 0.45em 0.6em; margin: 0 0.25em; line-height: 1; border-radius: 0.35em;\">\n",
              "    0.54 per cent\n",
              "    <span style=\"font-size: 0.8em; font-weight: bold; line-height: 1; border-radius: 0.35em; vertical-align: middle; margin-left: 0.5rem\">MONEY</span>\n",
              "</mark>\n",
              ") and \n",
              "<mark class=\"entity\" style=\"background: #7aecec; padding: 0.45em 0.6em; margin: 0 0.25em; line-height: 1; border-radius: 0.35em;\">\n",
              "    Apollo Tyres\n",
              "    <span style=\"font-size: 0.8em; font-weight: bold; line-height: 1; border-radius: 0.35em; vertical-align: middle; margin-left: 0.5rem\">ORG</span>\n",
              "</mark>\n",
              " Ltd.(down \n",
              "<mark class=\"entity\" style=\"background: #e4e7d2; padding: 0.45em 0.6em; margin: 0 0.25em; line-height: 1; border-radius: 0.35em;\">\n",
              "    0.18 per cent\n",
              "    <span style=\"font-size: 0.8em; font-weight: bold; line-height: 1; border-radius: 0.35em; vertical-align: middle; margin-left: 0.5rem\">MONEY</span>\n",
              "</mark>\n",
              ") were the top losers on the index.<br><br>The \n",
              "<mark class=\"entity\" style=\"background: #7aecec; padding: 0.45em 0.6em; margin: 0 0.25em; line-height: 1; border-radius: 0.35em;\">\n",
              "    Nifty Auto\n",
              "    <span style=\"font-size: 0.8em; font-weight: bold; line-height: 1; border-radius: 0.35em; vertical-align: middle; margin-left: 0.5rem\">ORG</span>\n",
              "</mark>\n",
              " index was up \n",
              "<mark class=\"entity\" style=\"background: #e4e7d2; padding: 0.45em 0.6em; margin: 0 0.25em; line-height: 1; border-radius: 0.35em;\">\n",
              "    0.76 per cent\n",
              "    <span style=\"font-size: 0.8em; font-weight: bold; line-height: 1; border-radius: 0.35em; vertical-align: middle; margin-left: 0.5rem\">MONEY</span>\n",
              "</mark>\n",
              " at \n",
              "<mark class=\"entity\" style=\"background: #e4e7d2; padding: 0.45em 0.6em; margin: 0 0.25em; line-height: 1; border-radius: 0.35em;\">\n",
              "    22806.05\n",
              "    <span style=\"font-size: 0.8em; font-weight: bold; line-height: 1; border-radius: 0.35em; vertical-align: middle; margin-left: 0.5rem\">CARDINAL</span>\n",
              "</mark>\n",
              " at the time of writing this report.<br>DID YOU KNOW?<br>\n",
              "<mark class=\"entity\" style=\"background: #bfeeb7; padding: 0.45em 0.6em; margin: 0 0.25em; line-height: 1; border-radius: 0.35em;\">\n",
              "    Learn\n",
              "    <span style=\"font-size: 0.8em; font-weight: bold; line-height: 1; border-radius: 0.35em; vertical-align: middle; margin-left: 0.5rem\">PRODUCT</span>\n",
              "</mark>\n",
              " trading in the stock market - we will give you \n",
              "<mark class=\"entity\" style=\"background: #e4e7d2; padding: 0.45em 0.6em; margin: 0 0.25em; line-height: 1; border-radius: 0.35em;\">\n",
              "    10\n",
              "    <span style=\"font-size: 0.8em; font-weight: bold; line-height: 1; border-radius: 0.35em; vertical-align: middle; margin-left: 0.5rem\">CARDINAL</span>\n",
              "</mark>\n",
              " lakh cash to start!<br><br><br>Benchmark NSE Nifty50 index was up \n",
              "<mark class=\"entity\" style=\"background: #e4e7d2; padding: 0.45em 0.6em; margin: 0 0.25em; line-height: 1; border-radius: 0.35em;\">\n",
              "    94.91\n",
              "    <span style=\"font-size: 0.8em; font-weight: bold; line-height: 1; border-radius: 0.35em; vertical-align: middle; margin-left: 0.5rem\">CARDINAL</span>\n",
              "</mark>\n",
              " points at \n",
              "<mark class=\"entity\" style=\"background: #e4e7d2; padding: 0.45em 0.6em; margin: 0 0.25em; line-height: 1; border-radius: 0.35em;\">\n",
              "    22052.4\n",
              "    <span style=\"font-size: 0.8em; font-weight: bold; line-height: 1; border-radius: 0.35em; vertical-align: middle; margin-left: 0.5rem\">CARDINAL</span>\n",
              "</mark>\n",
              ", while the \n",
              "<mark class=\"entity\" style=\"background: #7aecec; padding: 0.45em 0.6em; margin: 0 0.25em; line-height: 1; border-radius: 0.35em;\">\n",
              "    BSE\n",
              "    <span style=\"font-size: 0.8em; font-weight: bold; line-height: 1; border-radius: 0.35em; vertical-align: middle; margin-left: 0.5rem\">ORG</span>\n",
              "</mark>\n",
              " Sensex was up \n",
              "<mark class=\"entity\" style=\"background: #e4e7d2; padding: 0.45em 0.6em; margin: 0 0.25em; line-height: 1; border-radius: 0.35em;\">\n",
              "    238.91\n",
              "    <span style=\"font-size: 0.8em; font-weight: bold; line-height: 1; border-radius: 0.35em; vertical-align: middle; margin-left: 0.5rem\">CARDINAL</span>\n",
              "</mark>\n",
              " points at \n",
              "<mark class=\"entity\" style=\"background: #e4e7d2; padding: 0.45em 0.6em; margin: 0 0.25em; line-height: 1; border-radius: 0.35em;\">\n",
              "    72643.08\n",
              "    <span style=\"font-size: 0.8em; font-weight: bold; line-height: 1; border-radius: 0.35em; vertical-align: middle; margin-left: 0.5rem\">CARDINAL</span>\n",
              "</mark>\n",
              ".<br><br>Among the \n",
              "<mark class=\"entity\" style=\"background: #e4e7d2; padding: 0.45em 0.6em; margin: 0 0.25em; line-height: 1; border-radius: 0.35em;\">\n",
              "    50\n",
              "    <span style=\"font-size: 0.8em; font-weight: bold; line-height: 1; border-radius: 0.35em; vertical-align: middle; margin-left: 0.5rem\">CARDINAL</span>\n",
              "</mark>\n",
              " stocks in the \n",
              "<mark class=\"entity\" style=\"background: #7aecec; padding: 0.45em 0.6em; margin: 0 0.25em; line-height: 1; border-radius: 0.35em;\">\n",
              "    Nifty\n",
              "    <span style=\"font-size: 0.8em; font-weight: bold; line-height: 1; border-radius: 0.35em; vertical-align: middle; margin-left: 0.5rem\">ORG</span>\n",
              "</mark>\n",
              " index, \n",
              "<mark class=\"entity\" style=\"background: #e4e7d2; padding: 0.45em 0.6em; margin: 0 0.25em; line-height: 1; border-radius: 0.35em;\">\n",
              "    37\n",
              "    <span style=\"font-size: 0.8em; font-weight: bold; line-height: 1; border-radius: 0.35em; vertical-align: middle; margin-left: 0.5rem\">CARDINAL</span>\n",
              "</mark>\n",
              " were trading in the green, while \n",
              "<mark class=\"entity\" style=\"background: #e4e7d2; padding: 0.45em 0.6em; margin: 0 0.25em; line-height: 1; border-radius: 0.35em;\">\n",
              "    13\n",
              "    <span style=\"font-size: 0.8em; font-weight: bold; line-height: 1; border-radius: 0.35em; vertical-align: middle; margin-left: 0.5rem\">CARDINAL</span>\n",
              "</mark>\n",
              " were in the red.<br><br>Shares of \n",
              "<mark class=\"entity\" style=\"background: #7aecec; padding: 0.45em 0.6em; margin: 0 0.25em; line-height: 1; border-radius: 0.35em;\">\n",
              "    Vodafone Idea\n",
              "    <span style=\"font-size: 0.8em; font-weight: bold; line-height: 1; border-radius: 0.35em; vertical-align: middle; margin-left: 0.5rem\">ORG</span>\n",
              "</mark>\n",
              ", YES Bank, NHPC, \n",
              "<mark class=\"entity\" style=\"background: #7aecec; padding: 0.45em 0.6em; margin: 0 0.25em; line-height: 1; border-radius: 0.35em;\">\n",
              "    IDFC First Bank\n",
              "    <span style=\"font-size: 0.8em; font-weight: bold; line-height: 1; border-radius: 0.35em; vertical-align: middle; margin-left: 0.5rem\">ORG</span>\n",
              "</mark>\n",
              " and \n",
              "<mark class=\"entity\" style=\"background: #7aecec; padding: 0.45em 0.6em; margin: 0 0.25em; line-height: 1; border-radius: 0.35em;\">\n",
              "    PNB\n",
              "    <span style=\"font-size: 0.8em; font-weight: bold; line-height: 1; border-radius: 0.35em; vertical-align: middle; margin-left: 0.5rem\">ORG</span>\n",
              "</mark>\n",
              " were among the most traded shares on the \n",
              "<mark class=\"entity\" style=\"background: #7aecec; padding: 0.45em 0.6em; margin: 0 0.25em; line-height: 1; border-radius: 0.35em;\">\n",
              "    NSE\n",
              "    <span style=\"font-size: 0.8em; font-weight: bold; line-height: 1; border-radius: 0.35em; vertical-align: middle; margin-left: 0.5rem\">ORG</span>\n",
              "</mark>\n",
              ".<br><br>Shares of \n",
              "<mark class=\"entity\" style=\"background: #7aecec; padding: 0.45em 0.6em; margin: 0 0.25em; line-height: 1; border-radius: 0.35em;\">\n",
              "    Vijaya Diagnostic\n",
              "    <span style=\"font-size: 0.8em; font-weight: bold; line-height: 1; border-radius: 0.35em; vertical-align: middle; margin-left: 0.5rem\">ORG</span>\n",
              "</mark>\n",
              ", \n",
              "<mark class=\"entity\" style=\"background: #aa9cfc; padding: 0.45em 0.6em; margin: 0 0.25em; line-height: 1; border-radius: 0.35em;\">\n",
              "    Hindustan Zinc\n",
              "    <span style=\"font-size: 0.8em; font-weight: bold; line-height: 1; border-radius: 0.35em; vertical-align: middle; margin-left: 0.5rem\">PERSON</span>\n",
              "</mark>\n",
              ", \n",
              "<mark class=\"entity\" style=\"background: #7aecec; padding: 0.45em 0.6em; margin: 0 0.25em; line-height: 1; border-radius: 0.35em;\">\n",
              "    Commercial Engg\n",
              "    <span style=\"font-size: 0.8em; font-weight: bold; line-height: 1; border-radius: 0.35em; vertical-align: middle; margin-left: 0.5rem\">ORG</span>\n",
              "</mark>\n",
              ", \n",
              "<mark class=\"entity\" style=\"background: #7aecec; padding: 0.45em 0.6em; margin: 0 0.25em; line-height: 1; border-radius: 0.35em;\">\n",
              "    Honeywell\n",
              "    <span style=\"font-size: 0.8em; font-weight: bold; line-height: 1; border-radius: 0.35em; vertical-align: middle; margin-left: 0.5rem\">ORG</span>\n",
              "</mark>\n",
              " and \n",
              "<mark class=\"entity\" style=\"background: #aa9cfc; padding: 0.45em 0.6em; margin: 0 0.25em; line-height: 1; border-radius: 0.35em;\">\n",
              "    Tara Chand Logistic\n",
              "    <span style=\"font-size: 0.8em; font-weight: bold; line-height: 1; border-radius: 0.35em; vertical-align: middle; margin-left: 0.5rem\">PERSON</span>\n",
              "</mark>\n",
              " hit their fresh \n",
              "<mark class=\"entity\" style=\"background: #bfe1d9; padding: 0.45em 0.6em; margin: 0 0.25em; line-height: 1; border-radius: 0.35em;\">\n",
              "    52-week\n",
              "    <span style=\"font-size: 0.8em; font-weight: bold; line-height: 1; border-radius: 0.35em; vertical-align: middle; margin-left: 0.5rem\">DATE</span>\n",
              "</mark>\n",
              " highs in \n",
              "<mark class=\"entity\" style=\"background: #bfe1d9; padding: 0.45em 0.6em; margin: 0 0.25em; line-height: 1; border-radius: 0.35em;\">\n",
              "    today\n",
              "    <span style=\"font-size: 0.8em; font-weight: bold; line-height: 1; border-radius: 0.35em; vertical-align: middle; margin-left: 0.5rem\">DATE</span>\n",
              "</mark>\n",
              "'s trade, while \n",
              "<mark class=\"entity\" style=\"background: #7aecec; padding: 0.45em 0.6em; margin: 0 0.25em; line-height: 1; border-radius: 0.35em;\">\n",
              "    Future Supply Chain\n",
              "    <span style=\"font-size: 0.8em; font-weight: bold; line-height: 1; border-radius: 0.35em; vertical-align: middle; margin-left: 0.5rem\">ORG</span>\n",
              "</mark>\n",
              ", \n",
              "<mark class=\"entity\" style=\"background: #aa9cfc; padding: 0.45em 0.6em; margin: 0 0.25em; line-height: 1; border-radius: 0.35em;\">\n",
              "    Lakshmi Precis\n",
              "    <span style=\"font-size: 0.8em; font-weight: bold; line-height: 1; border-radius: 0.35em; vertical-align: middle; margin-left: 0.5rem\">PERSON</span>\n",
              "</mark>\n",
              ", \n",
              "<mark class=\"entity\" style=\"background: #7aecec; padding: 0.45em 0.6em; margin: 0 0.25em; line-height: 1; border-radius: 0.35em;\">\n",
              "    Popular Vehicles\n",
              "    <span style=\"font-size: 0.8em; font-weight: bold; line-height: 1; border-radius: 0.35em; vertical-align: middle; margin-left: 0.5rem\">ORG</span>\n",
              "</mark>\n",
              ", \n",
              "<mark class=\"entity\" style=\"background: #aa9cfc; padding: 0.45em 0.6em; margin: 0 0.25em; line-height: 1; border-radius: 0.35em;\">\n",
              "    Keerti Knowledge\n",
              "    <span style=\"font-size: 0.8em; font-weight: bold; line-height: 1; border-radius: 0.35em; vertical-align: middle; margin-left: 0.5rem\">PERSON</span>\n",
              "</mark>\n",
              " and \n",
              "<mark class=\"entity\" style=\"background: #aa9cfc; padding: 0.45em 0.6em; margin: 0 0.25em; line-height: 1; border-radius: 0.35em;\">\n",
              "    Kanani Inds\n",
              "    <span style=\"font-size: 0.8em; font-weight: bold; line-height: 1; border-radius: 0.35em; vertical-align: middle; margin-left: 0.5rem\">PERSON</span>\n",
              "</mark>\n",
              " hit fresh \n",
              "<mark class=\"entity\" style=\"background: #bfe1d9; padding: 0.45em 0.6em; margin: 0 0.25em; line-height: 1; border-radius: 0.35em;\">\n",
              "    52-week\n",
              "    <span style=\"font-size: 0.8em; font-weight: bold; line-height: 1; border-radius: 0.35em; vertical-align: middle; margin-left: 0.5rem\">DATE</span>\n",
              "</mark>\n",
              " lows in trade.<br></div></span>"
            ]
          },
          "metadata": {}
        }
      ]
    },
    {
      "cell_type": "code",
      "source": [
        "spacy.explain('ORG')"
      ],
      "metadata": {
        "colab": {
          "base_uri": "https://localhost:8080/",
          "height": 35
        },
        "id": "Wl9LYWiuvWer",
        "outputId": "fcb494db-ddca-46a8-a946-55b18762c478"
      },
      "execution_count": 14,
      "outputs": [
        {
          "output_type": "execute_result",
          "data": {
            "text/plain": [
              "'Companies, agencies, institutions, etc.'"
            ],
            "application/vnd.google.colaboratory.intrinsic+json": {
              "type": "string"
            }
          },
          "metadata": {},
          "execution_count": 14
        }
      ]
    },
    {
      "cell_type": "code",
      "source": [
        "spacy.explain('GPE') #geopolitcal entity"
      ],
      "metadata": {
        "colab": {
          "base_uri": "https://localhost:8080/",
          "height": 35
        },
        "id": "iN8jWXKUvb_d",
        "outputId": "067824e7-771a-4958-ee1a-a73aa7a60d8b"
      },
      "execution_count": 15,
      "outputs": [
        {
          "output_type": "execute_result",
          "data": {
            "text/plain": [
              "'Countries, cities, states'"
            ],
            "application/vnd.google.colaboratory.intrinsic+json": {
              "type": "string"
            }
          },
          "metadata": {},
          "execution_count": 15
        }
      ]
    },
    {
      "cell_type": "code",
      "source": [
        "doc.ents"
      ],
      "metadata": {
        "colab": {
          "base_uri": "https://localhost:8080/"
        },
        "id": "PaqlaHe8vtoL",
        "outputId": "f1bc0980-202c-4483-c6df-72c2c5497a78"
      },
      "execution_count": 17,
      "outputs": [
        {
          "output_type": "execute_result",
          "data": {
            "text/plain": [
              "(Nifty Auto,\n",
              " 11:15AM(IST)on Friday,\n",
              " Hero MotoCorp Ltd.(up 3.35 per cent,\n",
              " Ashok Leyland Ltd.(up 2.24,\n",
              " Samvardhana Motherson International,\n",
              " Bajaj Auto Ltd.(up,\n",
              " Maruti Suzuki India Ltd.(up 1.26 per cent,\n",
              " Mahindra & Mahindra,\n",
              " 0.54 per cent,\n",
              " Apollo Tyres,\n",
              " 0.18 per cent,\n",
              " Nifty Auto,\n",
              " 0.76 per cent,\n",
              " 22806.05,\n",
              " Learn,\n",
              " 10,\n",
              " 94.91,\n",
              " 22052.4,\n",
              " BSE,\n",
              " 238.91,\n",
              " 72643.08,\n",
              " 50,\n",
              " Nifty,\n",
              " 37,\n",
              " 13,\n",
              " Vodafone Idea,\n",
              " IDFC First Bank,\n",
              " PNB,\n",
              " NSE,\n",
              " Vijaya Diagnostic,\n",
              " Hindustan Zinc,\n",
              " Commercial Engg,\n",
              " Honeywell,\n",
              " Tara Chand Logistic,\n",
              " 52-week,\n",
              " today,\n",
              " Future Supply Chain,\n",
              " Lakshmi Precis,\n",
              " Popular Vehicles,\n",
              " Keerti Knowledge,\n",
              " Kanani Inds,\n",
              " 52-week)"
            ]
          },
          "metadata": {},
          "execution_count": 17
        }
      ]
    },
    {
      "cell_type": "code",
      "source": [
        "help(doc.ents[0])"
      ],
      "metadata": {
        "colab": {
          "base_uri": "https://localhost:8080/"
        },
        "collapsed": true,
        "id": "f07YIq3Jv2qE",
        "outputId": "72b2745e-50f3-40eb-d73a-a08933e46fdf"
      },
      "execution_count": 18,
      "outputs": [
        {
          "output_type": "stream",
          "name": "stdout",
          "text": [
            "Help on Span object:\n",
            "\n",
            "class Span(builtins.object)\n",
            " |  A slice from a Doc object.\n",
            " |  \n",
            " |  DOCS: https://spacy.io/api/span\n",
            " |  \n",
            " |  Methods defined here:\n",
            " |  \n",
            " |  __eq__(self, value, /)\n",
            " |      Return self==value.\n",
            " |  \n",
            " |  __ge__(self, value, /)\n",
            " |      Return self>=value.\n",
            " |  \n",
            " |  __getitem__(...)\n",
            " |      Get a `Token` or a `Span` object\n",
            " |      \n",
            " |      i (int or tuple): The index of the token within the span, or slice of\n",
            " |          the span to get.\n",
            " |      RETURNS (Token or Span): The token at `span[i]`.\n",
            " |      \n",
            " |      DOCS: https://spacy.io/api/span#getitem\n",
            " |  \n",
            " |  __gt__(self, value, /)\n",
            " |      Return self>value.\n",
            " |  \n",
            " |  __hash__(self, /)\n",
            " |      Return hash(self).\n",
            " |  \n",
            " |  __iter__(...)\n",
            " |      Iterate over `Token` objects.\n",
            " |      \n",
            " |      YIELDS (Token): A `Token` object.\n",
            " |      \n",
            " |      DOCS: https://spacy.io/api/span#iter\n",
            " |  \n",
            " |  __le__(self, value, /)\n",
            " |      Return self<=value.\n",
            " |  \n",
            " |  __len__(...)\n",
            " |      Get the number of tokens in the span.\n",
            " |      \n",
            " |      RETURNS (int): The number of tokens in the span.\n",
            " |      \n",
            " |      DOCS: https://spacy.io/api/span#len\n",
            " |  \n",
            " |  __lt__(self, value, /)\n",
            " |      Return self<value.\n",
            " |  \n",
            " |  __ne__(self, value, /)\n",
            " |      Return self!=value.\n",
            " |  \n",
            " |  __reduce__(...)\n",
            " |      Span.__reduce__(self)\n",
            " |  \n",
            " |  __repr__(self, /)\n",
            " |      Return repr(self).\n",
            " |  \n",
            " |  as_doc(...)\n",
            " |      Span.as_doc(self, *, bool copy_user_data=False, array_head=None, array=None)\n",
            " |      Create a `Doc` object with a copy of the `Span`'s data.\n",
            " |      \n",
            " |              copy_user_data (bool): Whether or not to copy the original doc's user data.\n",
            " |              array_head (tuple): `Doc` array attrs, can be passed in to speed up computation.\n",
            " |              array (ndarray): `Doc` as array, can be passed in to speed up computation.\n",
            " |              RETURNS (Doc): The `Doc` copy of the span.\n",
            " |      \n",
            " |              DOCS: https://spacy.io/api/span#as_doc\n",
            " |  \n",
            " |  char_span(...)\n",
            " |      Span.char_span(self, int start_idx, int end_idx, label=0, kb_id=0, vector=None, id=0, alignment_mode='strict', span_id=0)\n",
            " |      Create a `Span` object from the slice `span.text[start : end]`.\n",
            " |      \n",
            " |              start (int): The index of the first character of the span.\n",
            " |              end (int): The index of the first character after the span.\n",
            " |              label (Union[int, str]): A label to attach to the Span, e.g. for\n",
            " |                  named entities.\n",
            " |              kb_id (Union[int, str]):  An ID from a KB to capture the meaning of a named entity.\n",
            " |              vector (ndarray[ndim=1, dtype='float32']): A meaning representation of\n",
            " |                  the span.\n",
            " |              id (Union[int, str]): Unused.\n",
            " |              alignment_mode (str): How character indices are aligned to token\n",
            " |                  boundaries. Options: \"strict\" (character indices must be aligned\n",
            " |                  with token boundaries), \"contract\" (span of all tokens completely\n",
            " |                  within the character span), \"expand\" (span of all tokens at least\n",
            " |                  partially covered by the character span). Defaults to \"strict\".\n",
            " |              span_id (Union[int, str]): An identifier to associate with the span.\n",
            " |              RETURNS (Span): The newly constructed object.\n",
            " |  \n",
            " |  get_lca_matrix(...)\n",
            " |      Span.get_lca_matrix(self)\n",
            " |      Calculates a matrix of Lowest Common Ancestors (LCA) for a given\n",
            " |              `Span`, where LCA[i, j] is the index of the lowest common ancestor among\n",
            " |              the tokens span[i] and span[j]. If they have no common ancestor within\n",
            " |              the span, LCA[i, j] will be -1.\n",
            " |      \n",
            " |              RETURNS (np.array[ndim=2, dtype=numpy.int32]): LCA matrix with shape\n",
            " |                  (n, n), where n = len(self).\n",
            " |      \n",
            " |              DOCS: https://spacy.io/api/span#get_lca_matrix\n",
            " |  \n",
            " |  similarity(...)\n",
            " |      Span.similarity(self, other)\n",
            " |      Make a semantic similarity estimate. The default estimate is cosine\n",
            " |              similarity using an average of word vectors.\n",
            " |      \n",
            " |              other (object): The object to compare with. By default, accepts `Doc`,\n",
            " |                  `Span`, `Token` and `Lexeme` objects.\n",
            " |              RETURNS (float): A scalar similarity score. Higher is more similar.\n",
            " |      \n",
            " |              DOCS: https://spacy.io/api/span#similarity\n",
            " |  \n",
            " |  to_array(...)\n",
            " |      Span.to_array(self, py_attr_ids) -> ndarray\n",
            " |      Given a list of M attribute IDs, export the tokens to a numpy\n",
            " |              `ndarray` of shape `(N, M)`, where `N` is the length of the document.\n",
            " |              The values will be 32-bit integers.\n",
            " |      \n",
            " |              attr_ids (list[int]): A list of attribute ID ints.\n",
            " |              RETURNS (numpy.ndarray[long, ndim=2]): A feature matrix, with one row\n",
            " |                  per word, and one column per attribute indicated in the input\n",
            " |                  `attr_ids`.\n",
            " |  \n",
            " |  ----------------------------------------------------------------------\n",
            " |  Class methods defined here:\n",
            " |  \n",
            " |  get_extension(...) from builtins.type\n",
            " |      Span.get_extension(type cls, name)\n",
            " |      Look up a previously registered extension by name.\n",
            " |      \n",
            " |              name (str): Name of the extension.\n",
            " |              RETURNS (tuple): A `(default, method, getter, setter)` tuple.\n",
            " |      \n",
            " |              DOCS: https://spacy.io/api/span#get_extension\n",
            " |  \n",
            " |  has_extension(...) from builtins.type\n",
            " |      Span.has_extension(type cls, name)\n",
            " |      Check whether an extension has been registered.\n",
            " |      \n",
            " |              name (str): Name of the extension.\n",
            " |              RETURNS (bool): Whether the extension has been registered.\n",
            " |      \n",
            " |              DOCS: https://spacy.io/api/span#has_extension\n",
            " |  \n",
            " |  remove_extension(...) from builtins.type\n",
            " |      Span.remove_extension(type cls, name)\n",
            " |      Remove a previously registered extension.\n",
            " |      \n",
            " |              name (str): Name of the extension.\n",
            " |              RETURNS (tuple): A `(default, method, getter, setter)` tuple of the\n",
            " |                  removed extension.\n",
            " |      \n",
            " |              DOCS: https://spacy.io/api/span#remove_extension\n",
            " |  \n",
            " |  set_extension(...) from builtins.type\n",
            " |      Span.set_extension(type cls, name, **kwargs)\n",
            " |      Define a custom attribute which becomes available as `Span._`.\n",
            " |      \n",
            " |              name (str): Name of the attribute to set.\n",
            " |              default: Optional default value of the attribute.\n",
            " |              getter (callable): Optional getter function.\n",
            " |              setter (callable): Optional setter function.\n",
            " |              method (callable): Optional method for method extension.\n",
            " |              force (bool): Force overwriting existing attribute.\n",
            " |      \n",
            " |              DOCS: https://spacy.io/api/span#set_extension\n",
            " |              USAGE: https://spacy.io/usage/processing-pipelines#custom-components-attributes\n",
            " |  \n",
            " |  ----------------------------------------------------------------------\n",
            " |  Static methods defined here:\n",
            " |  \n",
            " |  __new__(*args, **kwargs) from builtins.type\n",
            " |      Create and return a new object.  See help(type) for accurate signature.\n",
            " |  \n",
            " |  ----------------------------------------------------------------------\n",
            " |  Data descriptors defined here:\n",
            " |  \n",
            " |  conjuncts\n",
            " |      Tokens that are conjoined to the span's root.\n",
            " |      \n",
            " |      RETURNS (tuple): A tuple of Token objects.\n",
            " |      \n",
            " |      DOCS: https://spacy.io/api/span#lefts\n",
            " |  \n",
            " |  doc\n",
            " |  \n",
            " |  end\n",
            " |  \n",
            " |  end_char\n",
            " |  \n",
            " |  ent_id\n",
            " |      RETURNS (uint64): The entity ID.\n",
            " |  \n",
            " |  ent_id_\n",
            " |      RETURNS (str): The (string) entity ID.\n",
            " |  \n",
            " |  ents\n",
            " |      The named entities that fall completely within the span. Returns\n",
            " |      a tuple of `Span` objects.\n",
            " |      \n",
            " |      RETURNS (tuple): Entities in the span, one `Span` per entity.\n",
            " |      \n",
            " |      DOCS: https://spacy.io/api/span#ents\n",
            " |  \n",
            " |  has_vector\n",
            " |      A boolean value indicating whether a word vector is associated with\n",
            " |      the object.\n",
            " |      \n",
            " |      RETURNS (bool): Whether a word vector is associated with the object.\n",
            " |      \n",
            " |      DOCS: https://spacy.io/api/span#has_vector\n",
            " |  \n",
            " |  id\n",
            " |  \n",
            " |  id_\n",
            " |      RETURNS (str): The span's ID.\n",
            " |  \n",
            " |  kb_id\n",
            " |  \n",
            " |  kb_id_\n",
            " |      RETURNS (str): The span's KB ID.\n",
            " |  \n",
            " |  label\n",
            " |  \n",
            " |  label_\n",
            " |      RETURNS (str): The span's label.\n",
            " |  \n",
            " |  lefts\n",
            " |      Tokens that are to the left of the span, whose head is within the\n",
            " |      `Span`.\n",
            " |      \n",
            " |      YIELDS (Token):A left-child of a token of the span.\n",
            " |      \n",
            " |      DOCS: https://spacy.io/api/span#lefts\n",
            " |  \n",
            " |  lemma_\n",
            " |      RETURNS (str): The span's lemma.\n",
            " |  \n",
            " |  n_lefts\n",
            " |      The number of tokens that are to the left of the span, whose\n",
            " |      heads are within the span.\n",
            " |      \n",
            " |      RETURNS (int): The number of leftward immediate children of the\n",
            " |          span, in the syntactic dependency parse.\n",
            " |      \n",
            " |      DOCS: https://spacy.io/api/span#n_lefts\n",
            " |  \n",
            " |  n_rights\n",
            " |      The number of tokens that are to the right of the span, whose\n",
            " |      heads are within the span.\n",
            " |      \n",
            " |      RETURNS (int): The number of rightward immediate children of the\n",
            " |          span, in the syntactic dependency parse.\n",
            " |      \n",
            " |      DOCS: https://spacy.io/api/span#n_rights\n",
            " |  \n",
            " |  noun_chunks\n",
            " |      Iterate over the base noun phrases in the span. Yields base\n",
            " |      noun-phrase #[code Span] objects, if the language has a noun chunk iterator.\n",
            " |      Raises a NotImplementedError otherwise.\n",
            " |      \n",
            " |      A base noun phrase, or \"NP chunk\", is a noun\n",
            " |      phrase that does not permit other NPs to be nested within it – so no\n",
            " |      NP-level coordination, no prepositional phrases, and no relative\n",
            " |      clauses.\n",
            " |      \n",
            " |      YIELDS (Span): Noun chunks in the span.\n",
            " |      \n",
            " |      DOCS: https://spacy.io/api/span#noun_chunks\n",
            " |  \n",
            " |  orth_\n",
            " |      Verbatim text content (identical to `Span.text`). Exists mostly for\n",
            " |      consistency with other attributes.\n",
            " |      \n",
            " |      RETURNS (str): The span's text.\n",
            " |  \n",
            " |  rights\n",
            " |      Tokens that are to the right of the Span, whose head is within the\n",
            " |      `Span`.\n",
            " |      \n",
            " |      YIELDS (Token): A right-child of a token of the span.\n",
            " |      \n",
            " |      DOCS: https://spacy.io/api/span#rights\n",
            " |  \n",
            " |  root\n",
            " |      The token with the shortest path to the root of the\n",
            " |      sentence (or the root itself). If multiple tokens are equally\n",
            " |      high in the tree, the first token is taken.\n",
            " |      \n",
            " |      RETURNS (Token): The root token.\n",
            " |      \n",
            " |      DOCS: https://spacy.io/api/span#root\n",
            " |  \n",
            " |  sent\n",
            " |      Obtain the sentence that contains this span. If the given span\n",
            " |      crosses sentence boundaries, return only the first sentence\n",
            " |      to which it belongs.\n",
            " |      \n",
            " |      RETURNS (Span): The sentence span that the span is a part of.\n",
            " |  \n",
            " |  sentiment\n",
            " |      RETURNS (float): A scalar value indicating the positivity or\n",
            " |      negativity of the span.\n",
            " |  \n",
            " |  sents\n",
            " |      Obtain the sentences that contain this span. If the given span\n",
            " |      crosses sentence boundaries, return all sentences it is a part of.\n",
            " |      \n",
            " |      RETURNS (Iterable[Span]): All sentences that the span is a part of.\n",
            " |      \n",
            " |       DOCS: https://spacy.io/api/span#sents\n",
            " |  \n",
            " |  start\n",
            " |  \n",
            " |  start_char\n",
            " |  \n",
            " |  subtree\n",
            " |      Tokens within the span and tokens which descend from them.\n",
            " |      \n",
            " |      YIELDS (Token): A token within the span, or a descendant from it.\n",
            " |      \n",
            " |      DOCS: https://spacy.io/api/span#subtree\n",
            " |  \n",
            " |  tensor\n",
            " |      The span's slice of the doc's tensor.\n",
            " |      \n",
            " |      RETURNS (ndarray[ndim=2, dtype='float32']): A 2D numpy or cupy array\n",
            " |          representing the span's semantics.\n",
            " |  \n",
            " |  text\n",
            " |      RETURNS (str): The original verbatim text of the span.\n",
            " |  \n",
            " |  text_with_ws\n",
            " |      The text content of the span with a trailing whitespace character if\n",
            " |      the last token has one.\n",
            " |      \n",
            " |      RETURNS (str): The text content of the span (with trailing\n",
            " |          whitespace).\n",
            " |  \n",
            " |  vector\n",
            " |      A real-valued meaning representation. Defaults to an average of the\n",
            " |      token vectors.\n",
            " |      \n",
            " |      RETURNS (numpy.ndarray[ndim=1, dtype='float32']): A 1D numpy array\n",
            " |          representing the span's semantics.\n",
            " |      \n",
            " |      DOCS: https://spacy.io/api/span#vector\n",
            " |  \n",
            " |  vector_norm\n",
            " |      The L2 norm of the span's vector representation.\n",
            " |      \n",
            " |      RETURNS (float): The L2 norm of the vector representation.\n",
            " |      \n",
            " |      DOCS: https://spacy.io/api/span#vector_norm\n",
            " |  \n",
            " |  vocab\n",
            " |      RETURNS (Vocab): The Span's Doc's vocab.\n",
            " |  \n",
            " |  ----------------------------------------------------------------------\n",
            " |  Data and other attributes defined here:\n",
            " |  \n",
            " |  __pyx_vtable__ = <capsule object NULL>\n",
            "\n"
          ]
        }
      ]
    },
    {
      "cell_type": "code",
      "source": [
        "doc.ents[0].label_"
      ],
      "metadata": {
        "colab": {
          "base_uri": "https://localhost:8080/",
          "height": 35
        },
        "id": "zcOnFuWPwDzW",
        "outputId": "0396c0ae-6737-4e1b-ebe4-94eae7a911a2"
      },
      "execution_count": 20,
      "outputs": [
        {
          "output_type": "execute_result",
          "data": {
            "text/plain": [
              "'ORG'"
            ],
            "application/vnd.google.colaboratory.intrinsic+json": {
              "type": "string"
            }
          },
          "metadata": {},
          "execution_count": 20
        }
      ]
    },
    {
      "cell_type": "code",
      "source": [
        "doc.ents[0].text"
      ],
      "metadata": {
        "colab": {
          "base_uri": "https://localhost:8080/",
          "height": 35
        },
        "id": "a-bR8k5WwVbt",
        "outputId": "b669f5d3-81e1-4470-f21f-d57dad157a41"
      },
      "execution_count": 21,
      "outputs": [
        {
          "output_type": "execute_result",
          "data": {
            "text/plain": [
              "'Nifty Auto'"
            ],
            "application/vnd.google.colaboratory.intrinsic+json": {
              "type": "string"
            }
          },
          "metadata": {},
          "execution_count": 21
        }
      ]
    },
    {
      "cell_type": "code",
      "source": [
        "for entity in doc.ents:\n",
        "  print(entity.text,\" => label:\",entity.label_)"
      ],
      "metadata": {
        "colab": {
          "base_uri": "https://localhost:8080/"
        },
        "id": "wbgmixwJwfGO",
        "outputId": "f20414b7-6fd7-4745-acff-0c72df43b80b"
      },
      "execution_count": 24,
      "outputs": [
        {
          "output_type": "stream",
          "name": "stdout",
          "text": [
            "Nifty Auto  => label: ORG\n",
            "11:15AM(IST)on Friday  => label: DATE\n",
            "Hero MotoCorp Ltd.(up 3.35 per cent  => label: ORG\n",
            "Ashok Leyland Ltd.(up 2.24  => label: ORG\n",
            "Samvardhana Motherson International  => label: PERSON\n",
            "Bajaj Auto Ltd.(up  => label: ORG\n",
            "Maruti Suzuki India Ltd.(up 1.26 per cent  => label: ORG\n",
            "Mahindra & Mahindra  => label: ORG\n",
            "0.54 per cent  => label: MONEY\n",
            "Apollo Tyres  => label: ORG\n",
            "0.18 per cent  => label: MONEY\n",
            "Nifty Auto  => label: ORG\n",
            "0.76 per cent  => label: MONEY\n",
            "22806.05  => label: CARDINAL\n",
            "Learn  => label: PRODUCT\n",
            "10  => label: CARDINAL\n",
            "94.91  => label: CARDINAL\n",
            "22052.4  => label: CARDINAL\n",
            "BSE  => label: ORG\n",
            "238.91  => label: CARDINAL\n",
            "72643.08  => label: CARDINAL\n",
            "50  => label: CARDINAL\n",
            "Nifty  => label: ORG\n",
            "37  => label: CARDINAL\n",
            "13  => label: CARDINAL\n",
            "Vodafone Idea  => label: ORG\n",
            "IDFC First Bank  => label: ORG\n",
            "PNB  => label: ORG\n",
            "NSE  => label: ORG\n",
            "Vijaya Diagnostic  => label: ORG\n",
            "Hindustan Zinc  => label: PERSON\n",
            "Commercial Engg  => label: ORG\n",
            "Honeywell  => label: ORG\n",
            "Tara Chand Logistic  => label: PERSON\n",
            "52-week  => label: DATE\n",
            "today  => label: DATE\n",
            "Future Supply Chain  => label: ORG\n",
            "Lakshmi Precis  => label: PERSON\n",
            "Popular Vehicles  => label: ORG\n",
            "Keerti Knowledge  => label: PERSON\n",
            "Kanani Inds  => label: PERSON\n",
            "52-week  => label: DATE\n"
          ]
        }
      ]
    },
    {
      "cell_type": "code",
      "source": [
        "org_list=[]"
      ],
      "metadata": {
        "id": "Ko0A_Ta_xBuQ"
      },
      "execution_count": 27,
      "outputs": []
    },
    {
      "cell_type": "code",
      "source": [
        "for entity in doc.ents:\n",
        "  if entity.label_=='ORG':\n",
        "    org_list.append(entity.text)\n",
        "org_list"
      ],
      "metadata": {
        "colab": {
          "base_uri": "https://localhost:8080/"
        },
        "id": "tGbh1SL7xIRH",
        "outputId": "7fa10e0c-20bf-4501-cdff-3eb3d1ade3fa"
      },
      "execution_count": 30,
      "outputs": [
        {
          "output_type": "execute_result",
          "data": {
            "text/plain": [
              "['Nifty Auto',\n",
              " 'Hero MotoCorp Ltd.(up 3.35 per cent',\n",
              " 'Ashok Leyland Ltd.(up 2.24',\n",
              " 'Bajaj Auto Ltd.(up',\n",
              " 'Maruti Suzuki India Ltd.(up 1.26 per cent',\n",
              " 'Mahindra & Mahindra',\n",
              " 'Apollo Tyres',\n",
              " 'Nifty Auto',\n",
              " 'BSE',\n",
              " 'Nifty',\n",
              " 'Vodafone Idea',\n",
              " 'IDFC First Bank',\n",
              " 'PNB',\n",
              " 'NSE',\n",
              " 'Vijaya Diagnostic',\n",
              " 'Commercial Engg',\n",
              " 'Honeywell',\n",
              " 'Future Supply Chain',\n",
              " 'Popular Vehicles',\n",
              " 'Nifty Auto',\n",
              " 'Hero MotoCorp Ltd.(up 3.35 per cent',\n",
              " 'Ashok Leyland Ltd.(up 2.24',\n",
              " 'Bajaj Auto Ltd.(up',\n",
              " 'Maruti Suzuki India Ltd.(up 1.26 per cent',\n",
              " 'Mahindra & Mahindra',\n",
              " 'Apollo Tyres',\n",
              " 'Nifty Auto',\n",
              " 'BSE',\n",
              " 'Nifty',\n",
              " 'Vodafone Idea',\n",
              " 'IDFC First Bank',\n",
              " 'PNB',\n",
              " 'NSE',\n",
              " 'Vijaya Diagnostic',\n",
              " 'Commercial Engg',\n",
              " 'Honeywell',\n",
              " 'Future Supply Chain',\n",
              " 'Popular Vehicles',\n",
              " 'Nifty Auto',\n",
              " 'Hero MotoCorp Ltd.(up 3.35 per cent',\n",
              " 'Ashok Leyland Ltd.(up 2.24',\n",
              " 'Bajaj Auto Ltd.(up',\n",
              " 'Maruti Suzuki India Ltd.(up 1.26 per cent',\n",
              " 'Mahindra & Mahindra',\n",
              " 'Apollo Tyres',\n",
              " 'Nifty Auto',\n",
              " 'BSE',\n",
              " 'Nifty',\n",
              " 'Vodafone Idea',\n",
              " 'IDFC First Bank',\n",
              " 'PNB',\n",
              " 'NSE',\n",
              " 'Vijaya Diagnostic',\n",
              " 'Commercial Engg',\n",
              " 'Honeywell',\n",
              " 'Future Supply Chain',\n",
              " 'Popular Vehicles']"
            ]
          },
          "metadata": {},
          "execution_count": 30
        }
      ]
    },
    {
      "cell_type": "code",
      "source": [
        "text=\"Apple reached an all-time high stock price of 143 dollars this January.\""
      ],
      "metadata": {
        "id": "-Nnuuer4xuqw"
      },
      "execution_count": 31,
      "outputs": []
    },
    {
      "cell_type": "code",
      "source": [
        "doc=ner(text)"
      ],
      "metadata": {
        "id": "gJNEF3rbyEzf"
      },
      "execution_count": 32,
      "outputs": []
    },
    {
      "cell_type": "code",
      "source": [
        "orgs=[]\n",
        "for entity in doc.ents:\n",
        "  if entity.label_=='ORG':\n",
        "    orgs.append(entity.text)\n",
        "orgs"
      ],
      "metadata": {
        "colab": {
          "base_uri": "https://localhost:8080/"
        },
        "id": "hbMaWbMCyJao",
        "outputId": "dcb66e74-8cc6-4829-aa71-35e8b0bf9603"
      },
      "execution_count": 33,
      "outputs": [
        {
          "output_type": "execute_result",
          "data": {
            "text/plain": [
              "['Apple']"
            ]
          },
          "metadata": {},
          "execution_count": 33
        }
      ]
    },
    {
      "cell_type": "code",
      "source": [
        "displacy.render(doc,'ent')"
      ],
      "metadata": {
        "colab": {
          "base_uri": "https://localhost:8080/",
          "height": 52
        },
        "id": "jT5m_iXgyneY",
        "outputId": "7f067c07-9018-46d2-d5ec-07543bed6b3c"
      },
      "execution_count": 36,
      "outputs": [
        {
          "output_type": "display_data",
          "data": {
            "text/plain": [
              "<IPython.core.display.HTML object>"
            ],
            "text/html": [
              "<span class=\"tex2jax_ignore\"><div class=\"entities\" style=\"line-height: 2.5; direction: ltr\">\n",
              "<mark class=\"entity\" style=\"background: #7aecec; padding: 0.45em 0.6em; margin: 0 0.25em; line-height: 1; border-radius: 0.35em;\">\n",
              "    Apple\n",
              "    <span style=\"font-size: 0.8em; font-weight: bold; line-height: 1; border-radius: 0.35em; vertical-align: middle; margin-left: 0.5rem\">ORG</span>\n",
              "</mark>\n",
              " reached an all-time high stock price of \n",
              "<mark class=\"entity\" style=\"background: #e4e7d2; padding: 0.45em 0.6em; margin: 0 0.25em; line-height: 1; border-radius: 0.35em;\">\n",
              "    143 dollars\n",
              "    <span style=\"font-size: 0.8em; font-weight: bold; line-height: 1; border-radius: 0.35em; vertical-align: middle; margin-left: 0.5rem\">MONEY</span>\n",
              "</mark>\n",
              " \n",
              "<mark class=\"entity\" style=\"background: #bfe1d9; padding: 0.45em 0.6em; margin: 0 0.25em; line-height: 1; border-radius: 0.35em;\">\n",
              "    this January\n",
              "    <span style=\"font-size: 0.8em; font-weight: bold; line-height: 1; border-radius: 0.35em; vertical-align: middle; margin-left: 0.5rem\">DATE</span>\n",
              "</mark>\n",
              ".</div></span>"
            ]
          },
          "metadata": {}
        }
      ]
    }
  ]
}