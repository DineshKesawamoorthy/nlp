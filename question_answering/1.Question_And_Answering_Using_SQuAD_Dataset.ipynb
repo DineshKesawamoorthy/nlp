{
  "nbformat": 4,
  "nbformat_minor": 0,
  "metadata": {
    "colab": {
      "provenance": [],
      "toc_visible": true,
      "authorship_tag": "ABX9TyPj71bL3p6yqdo9Y/95tLIh",
      "include_colab_link": true
    },
    "kernelspec": {
      "name": "python3",
      "display_name": "Python 3"
    },
    "language_info": {
      "name": "python"
    },
    "widgets": {
      "application/vnd.jupyter.widget-state+json": {
        "ba4ae3232e914f0c8c3e4589304d9571": {
          "model_module": "@jupyter-widgets/controls",
          "model_name": "HBoxModel",
          "model_module_version": "1.5.0",
          "state": {
            "_dom_classes": [],
            "_model_module": "@jupyter-widgets/controls",
            "_model_module_version": "1.5.0",
            "_model_name": "HBoxModel",
            "_view_count": null,
            "_view_module": "@jupyter-widgets/controls",
            "_view_module_version": "1.5.0",
            "_view_name": "HBoxView",
            "box_style": "",
            "children": [
              "IPY_MODEL_87b6a9997d384e3fabec8062f9650ae7",
              "IPY_MODEL_14435a7f94bb49c9a4caff927ff90e59",
              "IPY_MODEL_ac094a03ff4d4b4c91f35ac2a0b306d7"
            ],
            "layout": "IPY_MODEL_c804d1d1f07e49a4b458e06cadce9283"
          }
        },
        "87b6a9997d384e3fabec8062f9650ae7": {
          "model_module": "@jupyter-widgets/controls",
          "model_name": "HTMLModel",
          "model_module_version": "1.5.0",
          "state": {
            "_dom_classes": [],
            "_model_module": "@jupyter-widgets/controls",
            "_model_module_version": "1.5.0",
            "_model_name": "HTMLModel",
            "_view_count": null,
            "_view_module": "@jupyter-widgets/controls",
            "_view_module_version": "1.5.0",
            "_view_name": "HTMLView",
            "description": "",
            "description_tooltip": null,
            "layout": "IPY_MODEL_2a7671911e15467a88491768aac87390",
            "placeholder": "​",
            "style": "IPY_MODEL_0954920747e441dea9278c58fb53b981",
            "value": "tokenizer_config.json: 100%"
          }
        },
        "14435a7f94bb49c9a4caff927ff90e59": {
          "model_module": "@jupyter-widgets/controls",
          "model_name": "FloatProgressModel",
          "model_module_version": "1.5.0",
          "state": {
            "_dom_classes": [],
            "_model_module": "@jupyter-widgets/controls",
            "_model_module_version": "1.5.0",
            "_model_name": "FloatProgressModel",
            "_view_count": null,
            "_view_module": "@jupyter-widgets/controls",
            "_view_module_version": "1.5.0",
            "_view_name": "ProgressView",
            "bar_style": "success",
            "description": "",
            "description_tooltip": null,
            "layout": "IPY_MODEL_d276e84b7ae44d5b870ea3bfd64f1146",
            "max": 49,
            "min": 0,
            "orientation": "horizontal",
            "style": "IPY_MODEL_7e576a8df4984d97abfbe1bd174b0dd2",
            "value": 49
          }
        },
        "ac094a03ff4d4b4c91f35ac2a0b306d7": {
          "model_module": "@jupyter-widgets/controls",
          "model_name": "HTMLModel",
          "model_module_version": "1.5.0",
          "state": {
            "_dom_classes": [],
            "_model_module": "@jupyter-widgets/controls",
            "_model_module_version": "1.5.0",
            "_model_name": "HTMLModel",
            "_view_count": null,
            "_view_module": "@jupyter-widgets/controls",
            "_view_module_version": "1.5.0",
            "_view_name": "HTMLView",
            "description": "",
            "description_tooltip": null,
            "layout": "IPY_MODEL_00b8d643d05d46d883f2c088a23558e2",
            "placeholder": "​",
            "style": "IPY_MODEL_269e33d17c6f40c191e86bf0bd7e0675",
            "value": " 49.0/49.0 [00:00&lt;00:00, 965B/s]"
          }
        },
        "c804d1d1f07e49a4b458e06cadce9283": {
          "model_module": "@jupyter-widgets/base",
          "model_name": "LayoutModel",
          "model_module_version": "1.2.0",
          "state": {
            "_model_module": "@jupyter-widgets/base",
            "_model_module_version": "1.2.0",
            "_model_name": "LayoutModel",
            "_view_count": null,
            "_view_module": "@jupyter-widgets/base",
            "_view_module_version": "1.2.0",
            "_view_name": "LayoutView",
            "align_content": null,
            "align_items": null,
            "align_self": null,
            "border": null,
            "bottom": null,
            "display": null,
            "flex": null,
            "flex_flow": null,
            "grid_area": null,
            "grid_auto_columns": null,
            "grid_auto_flow": null,
            "grid_auto_rows": null,
            "grid_column": null,
            "grid_gap": null,
            "grid_row": null,
            "grid_template_areas": null,
            "grid_template_columns": null,
            "grid_template_rows": null,
            "height": null,
            "justify_content": null,
            "justify_items": null,
            "left": null,
            "margin": null,
            "max_height": null,
            "max_width": null,
            "min_height": null,
            "min_width": null,
            "object_fit": null,
            "object_position": null,
            "order": null,
            "overflow": null,
            "overflow_x": null,
            "overflow_y": null,
            "padding": null,
            "right": null,
            "top": null,
            "visibility": null,
            "width": null
          }
        },
        "2a7671911e15467a88491768aac87390": {
          "model_module": "@jupyter-widgets/base",
          "model_name": "LayoutModel",
          "model_module_version": "1.2.0",
          "state": {
            "_model_module": "@jupyter-widgets/base",
            "_model_module_version": "1.2.0",
            "_model_name": "LayoutModel",
            "_view_count": null,
            "_view_module": "@jupyter-widgets/base",
            "_view_module_version": "1.2.0",
            "_view_name": "LayoutView",
            "align_content": null,
            "align_items": null,
            "align_self": null,
            "border": null,
            "bottom": null,
            "display": null,
            "flex": null,
            "flex_flow": null,
            "grid_area": null,
            "grid_auto_columns": null,
            "grid_auto_flow": null,
            "grid_auto_rows": null,
            "grid_column": null,
            "grid_gap": null,
            "grid_row": null,
            "grid_template_areas": null,
            "grid_template_columns": null,
            "grid_template_rows": null,
            "height": null,
            "justify_content": null,
            "justify_items": null,
            "left": null,
            "margin": null,
            "max_height": null,
            "max_width": null,
            "min_height": null,
            "min_width": null,
            "object_fit": null,
            "object_position": null,
            "order": null,
            "overflow": null,
            "overflow_x": null,
            "overflow_y": null,
            "padding": null,
            "right": null,
            "top": null,
            "visibility": null,
            "width": null
          }
        },
        "0954920747e441dea9278c58fb53b981": {
          "model_module": "@jupyter-widgets/controls",
          "model_name": "DescriptionStyleModel",
          "model_module_version": "1.5.0",
          "state": {
            "_model_module": "@jupyter-widgets/controls",
            "_model_module_version": "1.5.0",
            "_model_name": "DescriptionStyleModel",
            "_view_count": null,
            "_view_module": "@jupyter-widgets/base",
            "_view_module_version": "1.2.0",
            "_view_name": "StyleView",
            "description_width": ""
          }
        },
        "d276e84b7ae44d5b870ea3bfd64f1146": {
          "model_module": "@jupyter-widgets/base",
          "model_name": "LayoutModel",
          "model_module_version": "1.2.0",
          "state": {
            "_model_module": "@jupyter-widgets/base",
            "_model_module_version": "1.2.0",
            "_model_name": "LayoutModel",
            "_view_count": null,
            "_view_module": "@jupyter-widgets/base",
            "_view_module_version": "1.2.0",
            "_view_name": "LayoutView",
            "align_content": null,
            "align_items": null,
            "align_self": null,
            "border": null,
            "bottom": null,
            "display": null,
            "flex": null,
            "flex_flow": null,
            "grid_area": null,
            "grid_auto_columns": null,
            "grid_auto_flow": null,
            "grid_auto_rows": null,
            "grid_column": null,
            "grid_gap": null,
            "grid_row": null,
            "grid_template_areas": null,
            "grid_template_columns": null,
            "grid_template_rows": null,
            "height": null,
            "justify_content": null,
            "justify_items": null,
            "left": null,
            "margin": null,
            "max_height": null,
            "max_width": null,
            "min_height": null,
            "min_width": null,
            "object_fit": null,
            "object_position": null,
            "order": null,
            "overflow": null,
            "overflow_x": null,
            "overflow_y": null,
            "padding": null,
            "right": null,
            "top": null,
            "visibility": null,
            "width": null
          }
        },
        "7e576a8df4984d97abfbe1bd174b0dd2": {
          "model_module": "@jupyter-widgets/controls",
          "model_name": "ProgressStyleModel",
          "model_module_version": "1.5.0",
          "state": {
            "_model_module": "@jupyter-widgets/controls",
            "_model_module_version": "1.5.0",
            "_model_name": "ProgressStyleModel",
            "_view_count": null,
            "_view_module": "@jupyter-widgets/base",
            "_view_module_version": "1.2.0",
            "_view_name": "StyleView",
            "bar_color": null,
            "description_width": ""
          }
        },
        "00b8d643d05d46d883f2c088a23558e2": {
          "model_module": "@jupyter-widgets/base",
          "model_name": "LayoutModel",
          "model_module_version": "1.2.0",
          "state": {
            "_model_module": "@jupyter-widgets/base",
            "_model_module_version": "1.2.0",
            "_model_name": "LayoutModel",
            "_view_count": null,
            "_view_module": "@jupyter-widgets/base",
            "_view_module_version": "1.2.0",
            "_view_name": "LayoutView",
            "align_content": null,
            "align_items": null,
            "align_self": null,
            "border": null,
            "bottom": null,
            "display": null,
            "flex": null,
            "flex_flow": null,
            "grid_area": null,
            "grid_auto_columns": null,
            "grid_auto_flow": null,
            "grid_auto_rows": null,
            "grid_column": null,
            "grid_gap": null,
            "grid_row": null,
            "grid_template_areas": null,
            "grid_template_columns": null,
            "grid_template_rows": null,
            "height": null,
            "justify_content": null,
            "justify_items": null,
            "left": null,
            "margin": null,
            "max_height": null,
            "max_width": null,
            "min_height": null,
            "min_width": null,
            "object_fit": null,
            "object_position": null,
            "order": null,
            "overflow": null,
            "overflow_x": null,
            "overflow_y": null,
            "padding": null,
            "right": null,
            "top": null,
            "visibility": null,
            "width": null
          }
        },
        "269e33d17c6f40c191e86bf0bd7e0675": {
          "model_module": "@jupyter-widgets/controls",
          "model_name": "DescriptionStyleModel",
          "model_module_version": "1.5.0",
          "state": {
            "_model_module": "@jupyter-widgets/controls",
            "_model_module_version": "1.5.0",
            "_model_name": "DescriptionStyleModel",
            "_view_count": null,
            "_view_module": "@jupyter-widgets/base",
            "_view_module_version": "1.2.0",
            "_view_name": "StyleView",
            "description_width": ""
          }
        },
        "f8472bc610c8402894e4a6401c61b287": {
          "model_module": "@jupyter-widgets/controls",
          "model_name": "HBoxModel",
          "model_module_version": "1.5.0",
          "state": {
            "_dom_classes": [],
            "_model_module": "@jupyter-widgets/controls",
            "_model_module_version": "1.5.0",
            "_model_name": "HBoxModel",
            "_view_count": null,
            "_view_module": "@jupyter-widgets/controls",
            "_view_module_version": "1.5.0",
            "_view_name": "HBoxView",
            "box_style": "",
            "children": [
              "IPY_MODEL_c3babe1a656442a78cdf0b0d95950c31",
              "IPY_MODEL_327f928026a946e4bd3db95132a8b384",
              "IPY_MODEL_2a6fd9a964e5440eb0ebc23ff3526a7a"
            ],
            "layout": "IPY_MODEL_d783f8ae27974842a56cc54a57c52ade"
          }
        },
        "c3babe1a656442a78cdf0b0d95950c31": {
          "model_module": "@jupyter-widgets/controls",
          "model_name": "HTMLModel",
          "model_module_version": "1.5.0",
          "state": {
            "_dom_classes": [],
            "_model_module": "@jupyter-widgets/controls",
            "_model_module_version": "1.5.0",
            "_model_name": "HTMLModel",
            "_view_count": null,
            "_view_module": "@jupyter-widgets/controls",
            "_view_module_version": "1.5.0",
            "_view_name": "HTMLView",
            "description": "",
            "description_tooltip": null,
            "layout": "IPY_MODEL_30b6186cb91649d5b56b1f65808d248d",
            "placeholder": "​",
            "style": "IPY_MODEL_e1ed7674a61046dca42e82381cec39d0",
            "value": "vocab.txt: 100%"
          }
        },
        "327f928026a946e4bd3db95132a8b384": {
          "model_module": "@jupyter-widgets/controls",
          "model_name": "FloatProgressModel",
          "model_module_version": "1.5.0",
          "state": {
            "_dom_classes": [],
            "_model_module": "@jupyter-widgets/controls",
            "_model_module_version": "1.5.0",
            "_model_name": "FloatProgressModel",
            "_view_count": null,
            "_view_module": "@jupyter-widgets/controls",
            "_view_module_version": "1.5.0",
            "_view_name": "ProgressView",
            "bar_style": "success",
            "description": "",
            "description_tooltip": null,
            "layout": "IPY_MODEL_1a64f55e14be41bba72ea70abbdf2b1a",
            "max": 213450,
            "min": 0,
            "orientation": "horizontal",
            "style": "IPY_MODEL_5420562f85614dfb88d9e70acfd3c4b1",
            "value": 213450
          }
        },
        "2a6fd9a964e5440eb0ebc23ff3526a7a": {
          "model_module": "@jupyter-widgets/controls",
          "model_name": "HTMLModel",
          "model_module_version": "1.5.0",
          "state": {
            "_dom_classes": [],
            "_model_module": "@jupyter-widgets/controls",
            "_model_module_version": "1.5.0",
            "_model_name": "HTMLModel",
            "_view_count": null,
            "_view_module": "@jupyter-widgets/controls",
            "_view_module_version": "1.5.0",
            "_view_name": "HTMLView",
            "description": "",
            "description_tooltip": null,
            "layout": "IPY_MODEL_9d9cfca1eee54deb877d98b7ec70418b",
            "placeholder": "​",
            "style": "IPY_MODEL_b14ba5c586b042f480d1e08e94726914",
            "value": " 213k/213k [00:00&lt;00:00, 2.03MB/s]"
          }
        },
        "d783f8ae27974842a56cc54a57c52ade": {
          "model_module": "@jupyter-widgets/base",
          "model_name": "LayoutModel",
          "model_module_version": "1.2.0",
          "state": {
            "_model_module": "@jupyter-widgets/base",
            "_model_module_version": "1.2.0",
            "_model_name": "LayoutModel",
            "_view_count": null,
            "_view_module": "@jupyter-widgets/base",
            "_view_module_version": "1.2.0",
            "_view_name": "LayoutView",
            "align_content": null,
            "align_items": null,
            "align_self": null,
            "border": null,
            "bottom": null,
            "display": null,
            "flex": null,
            "flex_flow": null,
            "grid_area": null,
            "grid_auto_columns": null,
            "grid_auto_flow": null,
            "grid_auto_rows": null,
            "grid_column": null,
            "grid_gap": null,
            "grid_row": null,
            "grid_template_areas": null,
            "grid_template_columns": null,
            "grid_template_rows": null,
            "height": null,
            "justify_content": null,
            "justify_items": null,
            "left": null,
            "margin": null,
            "max_height": null,
            "max_width": null,
            "min_height": null,
            "min_width": null,
            "object_fit": null,
            "object_position": null,
            "order": null,
            "overflow": null,
            "overflow_x": null,
            "overflow_y": null,
            "padding": null,
            "right": null,
            "top": null,
            "visibility": null,
            "width": null
          }
        },
        "30b6186cb91649d5b56b1f65808d248d": {
          "model_module": "@jupyter-widgets/base",
          "model_name": "LayoutModel",
          "model_module_version": "1.2.0",
          "state": {
            "_model_module": "@jupyter-widgets/base",
            "_model_module_version": "1.2.0",
            "_model_name": "LayoutModel",
            "_view_count": null,
            "_view_module": "@jupyter-widgets/base",
            "_view_module_version": "1.2.0",
            "_view_name": "LayoutView",
            "align_content": null,
            "align_items": null,
            "align_self": null,
            "border": null,
            "bottom": null,
            "display": null,
            "flex": null,
            "flex_flow": null,
            "grid_area": null,
            "grid_auto_columns": null,
            "grid_auto_flow": null,
            "grid_auto_rows": null,
            "grid_column": null,
            "grid_gap": null,
            "grid_row": null,
            "grid_template_areas": null,
            "grid_template_columns": null,
            "grid_template_rows": null,
            "height": null,
            "justify_content": null,
            "justify_items": null,
            "left": null,
            "margin": null,
            "max_height": null,
            "max_width": null,
            "min_height": null,
            "min_width": null,
            "object_fit": null,
            "object_position": null,
            "order": null,
            "overflow": null,
            "overflow_x": null,
            "overflow_y": null,
            "padding": null,
            "right": null,
            "top": null,
            "visibility": null,
            "width": null
          }
        },
        "e1ed7674a61046dca42e82381cec39d0": {
          "model_module": "@jupyter-widgets/controls",
          "model_name": "DescriptionStyleModel",
          "model_module_version": "1.5.0",
          "state": {
            "_model_module": "@jupyter-widgets/controls",
            "_model_module_version": "1.5.0",
            "_model_name": "DescriptionStyleModel",
            "_view_count": null,
            "_view_module": "@jupyter-widgets/base",
            "_view_module_version": "1.2.0",
            "_view_name": "StyleView",
            "description_width": ""
          }
        },
        "1a64f55e14be41bba72ea70abbdf2b1a": {
          "model_module": "@jupyter-widgets/base",
          "model_name": "LayoutModel",
          "model_module_version": "1.2.0",
          "state": {
            "_model_module": "@jupyter-widgets/base",
            "_model_module_version": "1.2.0",
            "_model_name": "LayoutModel",
            "_view_count": null,
            "_view_module": "@jupyter-widgets/base",
            "_view_module_version": "1.2.0",
            "_view_name": "LayoutView",
            "align_content": null,
            "align_items": null,
            "align_self": null,
            "border": null,
            "bottom": null,
            "display": null,
            "flex": null,
            "flex_flow": null,
            "grid_area": null,
            "grid_auto_columns": null,
            "grid_auto_flow": null,
            "grid_auto_rows": null,
            "grid_column": null,
            "grid_gap": null,
            "grid_row": null,
            "grid_template_areas": null,
            "grid_template_columns": null,
            "grid_template_rows": null,
            "height": null,
            "justify_content": null,
            "justify_items": null,
            "left": null,
            "margin": null,
            "max_height": null,
            "max_width": null,
            "min_height": null,
            "min_width": null,
            "object_fit": null,
            "object_position": null,
            "order": null,
            "overflow": null,
            "overflow_x": null,
            "overflow_y": null,
            "padding": null,
            "right": null,
            "top": null,
            "visibility": null,
            "width": null
          }
        },
        "5420562f85614dfb88d9e70acfd3c4b1": {
          "model_module": "@jupyter-widgets/controls",
          "model_name": "ProgressStyleModel",
          "model_module_version": "1.5.0",
          "state": {
            "_model_module": "@jupyter-widgets/controls",
            "_model_module_version": "1.5.0",
            "_model_name": "ProgressStyleModel",
            "_view_count": null,
            "_view_module": "@jupyter-widgets/base",
            "_view_module_version": "1.2.0",
            "_view_name": "StyleView",
            "bar_color": null,
            "description_width": ""
          }
        },
        "9d9cfca1eee54deb877d98b7ec70418b": {
          "model_module": "@jupyter-widgets/base",
          "model_name": "LayoutModel",
          "model_module_version": "1.2.0",
          "state": {
            "_model_module": "@jupyter-widgets/base",
            "_model_module_version": "1.2.0",
            "_model_name": "LayoutModel",
            "_view_count": null,
            "_view_module": "@jupyter-widgets/base",
            "_view_module_version": "1.2.0",
            "_view_name": "LayoutView",
            "align_content": null,
            "align_items": null,
            "align_self": null,
            "border": null,
            "bottom": null,
            "display": null,
            "flex": null,
            "flex_flow": null,
            "grid_area": null,
            "grid_auto_columns": null,
            "grid_auto_flow": null,
            "grid_auto_rows": null,
            "grid_column": null,
            "grid_gap": null,
            "grid_row": null,
            "grid_template_areas": null,
            "grid_template_columns": null,
            "grid_template_rows": null,
            "height": null,
            "justify_content": null,
            "justify_items": null,
            "left": null,
            "margin": null,
            "max_height": null,
            "max_width": null,
            "min_height": null,
            "min_width": null,
            "object_fit": null,
            "object_position": null,
            "order": null,
            "overflow": null,
            "overflow_x": null,
            "overflow_y": null,
            "padding": null,
            "right": null,
            "top": null,
            "visibility": null,
            "width": null
          }
        },
        "b14ba5c586b042f480d1e08e94726914": {
          "model_module": "@jupyter-widgets/controls",
          "model_name": "DescriptionStyleModel",
          "model_module_version": "1.5.0",
          "state": {
            "_model_module": "@jupyter-widgets/controls",
            "_model_module_version": "1.5.0",
            "_model_name": "DescriptionStyleModel",
            "_view_count": null,
            "_view_module": "@jupyter-widgets/base",
            "_view_module_version": "1.2.0",
            "_view_name": "StyleView",
            "description_width": ""
          }
        },
        "1eaff544ff024fd58f6b6d22510a627e": {
          "model_module": "@jupyter-widgets/controls",
          "model_name": "HBoxModel",
          "model_module_version": "1.5.0",
          "state": {
            "_dom_classes": [],
            "_model_module": "@jupyter-widgets/controls",
            "_model_module_version": "1.5.0",
            "_model_name": "HBoxModel",
            "_view_count": null,
            "_view_module": "@jupyter-widgets/controls",
            "_view_module_version": "1.5.0",
            "_view_name": "HBoxView",
            "box_style": "",
            "children": [
              "IPY_MODEL_0875f7553d2949c09b87f944e1dfce62",
              "IPY_MODEL_0af767c034a44eeb943fbc9ea9648b81",
              "IPY_MODEL_4d5681a688894f47b21e7377025aa1cd"
            ],
            "layout": "IPY_MODEL_a417ba3f3b0346d292c02f3f41f54cf6"
          }
        },
        "0875f7553d2949c09b87f944e1dfce62": {
          "model_module": "@jupyter-widgets/controls",
          "model_name": "HTMLModel",
          "model_module_version": "1.5.0",
          "state": {
            "_dom_classes": [],
            "_model_module": "@jupyter-widgets/controls",
            "_model_module_version": "1.5.0",
            "_model_name": "HTMLModel",
            "_view_count": null,
            "_view_module": "@jupyter-widgets/controls",
            "_view_module_version": "1.5.0",
            "_view_name": "HTMLView",
            "description": "",
            "description_tooltip": null,
            "layout": "IPY_MODEL_b70bed8471a34d0793c964f5da2181e9",
            "placeholder": "​",
            "style": "IPY_MODEL_724f70fbddf8439e9cc31e139c877e1e",
            "value": "tokenizer.json: 100%"
          }
        },
        "0af767c034a44eeb943fbc9ea9648b81": {
          "model_module": "@jupyter-widgets/controls",
          "model_name": "FloatProgressModel",
          "model_module_version": "1.5.0",
          "state": {
            "_dom_classes": [],
            "_model_module": "@jupyter-widgets/controls",
            "_model_module_version": "1.5.0",
            "_model_name": "FloatProgressModel",
            "_view_count": null,
            "_view_module": "@jupyter-widgets/controls",
            "_view_module_version": "1.5.0",
            "_view_name": "ProgressView",
            "bar_style": "success",
            "description": "",
            "description_tooltip": null,
            "layout": "IPY_MODEL_9425bf9e9b7d4443811b79e0b73c8bb4",
            "max": 435797,
            "min": 0,
            "orientation": "horizontal",
            "style": "IPY_MODEL_631ca20821d343cda8fc034f423ce274",
            "value": 435797
          }
        },
        "4d5681a688894f47b21e7377025aa1cd": {
          "model_module": "@jupyter-widgets/controls",
          "model_name": "HTMLModel",
          "model_module_version": "1.5.0",
          "state": {
            "_dom_classes": [],
            "_model_module": "@jupyter-widgets/controls",
            "_model_module_version": "1.5.0",
            "_model_name": "HTMLModel",
            "_view_count": null,
            "_view_module": "@jupyter-widgets/controls",
            "_view_module_version": "1.5.0",
            "_view_name": "HTMLView",
            "description": "",
            "description_tooltip": null,
            "layout": "IPY_MODEL_18d7401bcda9410d93fc59d470f0fbfa",
            "placeholder": "​",
            "style": "IPY_MODEL_8cc1a6076b794060923f57f2187b4f61",
            "value": " 436k/436k [00:00&lt;00:00, 4.75MB/s]"
          }
        },
        "a417ba3f3b0346d292c02f3f41f54cf6": {
          "model_module": "@jupyter-widgets/base",
          "model_name": "LayoutModel",
          "model_module_version": "1.2.0",
          "state": {
            "_model_module": "@jupyter-widgets/base",
            "_model_module_version": "1.2.0",
            "_model_name": "LayoutModel",
            "_view_count": null,
            "_view_module": "@jupyter-widgets/base",
            "_view_module_version": "1.2.0",
            "_view_name": "LayoutView",
            "align_content": null,
            "align_items": null,
            "align_self": null,
            "border": null,
            "bottom": null,
            "display": null,
            "flex": null,
            "flex_flow": null,
            "grid_area": null,
            "grid_auto_columns": null,
            "grid_auto_flow": null,
            "grid_auto_rows": null,
            "grid_column": null,
            "grid_gap": null,
            "grid_row": null,
            "grid_template_areas": null,
            "grid_template_columns": null,
            "grid_template_rows": null,
            "height": null,
            "justify_content": null,
            "justify_items": null,
            "left": null,
            "margin": null,
            "max_height": null,
            "max_width": null,
            "min_height": null,
            "min_width": null,
            "object_fit": null,
            "object_position": null,
            "order": null,
            "overflow": null,
            "overflow_x": null,
            "overflow_y": null,
            "padding": null,
            "right": null,
            "top": null,
            "visibility": null,
            "width": null
          }
        },
        "b70bed8471a34d0793c964f5da2181e9": {
          "model_module": "@jupyter-widgets/base",
          "model_name": "LayoutModel",
          "model_module_version": "1.2.0",
          "state": {
            "_model_module": "@jupyter-widgets/base",
            "_model_module_version": "1.2.0",
            "_model_name": "LayoutModel",
            "_view_count": null,
            "_view_module": "@jupyter-widgets/base",
            "_view_module_version": "1.2.0",
            "_view_name": "LayoutView",
            "align_content": null,
            "align_items": null,
            "align_self": null,
            "border": null,
            "bottom": null,
            "display": null,
            "flex": null,
            "flex_flow": null,
            "grid_area": null,
            "grid_auto_columns": null,
            "grid_auto_flow": null,
            "grid_auto_rows": null,
            "grid_column": null,
            "grid_gap": null,
            "grid_row": null,
            "grid_template_areas": null,
            "grid_template_columns": null,
            "grid_template_rows": null,
            "height": null,
            "justify_content": null,
            "justify_items": null,
            "left": null,
            "margin": null,
            "max_height": null,
            "max_width": null,
            "min_height": null,
            "min_width": null,
            "object_fit": null,
            "object_position": null,
            "order": null,
            "overflow": null,
            "overflow_x": null,
            "overflow_y": null,
            "padding": null,
            "right": null,
            "top": null,
            "visibility": null,
            "width": null
          }
        },
        "724f70fbddf8439e9cc31e139c877e1e": {
          "model_module": "@jupyter-widgets/controls",
          "model_name": "DescriptionStyleModel",
          "model_module_version": "1.5.0",
          "state": {
            "_model_module": "@jupyter-widgets/controls",
            "_model_module_version": "1.5.0",
            "_model_name": "DescriptionStyleModel",
            "_view_count": null,
            "_view_module": "@jupyter-widgets/base",
            "_view_module_version": "1.2.0",
            "_view_name": "StyleView",
            "description_width": ""
          }
        },
        "9425bf9e9b7d4443811b79e0b73c8bb4": {
          "model_module": "@jupyter-widgets/base",
          "model_name": "LayoutModel",
          "model_module_version": "1.2.0",
          "state": {
            "_model_module": "@jupyter-widgets/base",
            "_model_module_version": "1.2.0",
            "_model_name": "LayoutModel",
            "_view_count": null,
            "_view_module": "@jupyter-widgets/base",
            "_view_module_version": "1.2.0",
            "_view_name": "LayoutView",
            "align_content": null,
            "align_items": null,
            "align_self": null,
            "border": null,
            "bottom": null,
            "display": null,
            "flex": null,
            "flex_flow": null,
            "grid_area": null,
            "grid_auto_columns": null,
            "grid_auto_flow": null,
            "grid_auto_rows": null,
            "grid_column": null,
            "grid_gap": null,
            "grid_row": null,
            "grid_template_areas": null,
            "grid_template_columns": null,
            "grid_template_rows": null,
            "height": null,
            "justify_content": null,
            "justify_items": null,
            "left": null,
            "margin": null,
            "max_height": null,
            "max_width": null,
            "min_height": null,
            "min_width": null,
            "object_fit": null,
            "object_position": null,
            "order": null,
            "overflow": null,
            "overflow_x": null,
            "overflow_y": null,
            "padding": null,
            "right": null,
            "top": null,
            "visibility": null,
            "width": null
          }
        },
        "631ca20821d343cda8fc034f423ce274": {
          "model_module": "@jupyter-widgets/controls",
          "model_name": "ProgressStyleModel",
          "model_module_version": "1.5.0",
          "state": {
            "_model_module": "@jupyter-widgets/controls",
            "_model_module_version": "1.5.0",
            "_model_name": "ProgressStyleModel",
            "_view_count": null,
            "_view_module": "@jupyter-widgets/base",
            "_view_module_version": "1.2.0",
            "_view_name": "StyleView",
            "bar_color": null,
            "description_width": ""
          }
        },
        "18d7401bcda9410d93fc59d470f0fbfa": {
          "model_module": "@jupyter-widgets/base",
          "model_name": "LayoutModel",
          "model_module_version": "1.2.0",
          "state": {
            "_model_module": "@jupyter-widgets/base",
            "_model_module_version": "1.2.0",
            "_model_name": "LayoutModel",
            "_view_count": null,
            "_view_module": "@jupyter-widgets/base",
            "_view_module_version": "1.2.0",
            "_view_name": "LayoutView",
            "align_content": null,
            "align_items": null,
            "align_self": null,
            "border": null,
            "bottom": null,
            "display": null,
            "flex": null,
            "flex_flow": null,
            "grid_area": null,
            "grid_auto_columns": null,
            "grid_auto_flow": null,
            "grid_auto_rows": null,
            "grid_column": null,
            "grid_gap": null,
            "grid_row": null,
            "grid_template_areas": null,
            "grid_template_columns": null,
            "grid_template_rows": null,
            "height": null,
            "justify_content": null,
            "justify_items": null,
            "left": null,
            "margin": null,
            "max_height": null,
            "max_width": null,
            "min_height": null,
            "min_width": null,
            "object_fit": null,
            "object_position": null,
            "order": null,
            "overflow": null,
            "overflow_x": null,
            "overflow_y": null,
            "padding": null,
            "right": null,
            "top": null,
            "visibility": null,
            "width": null
          }
        },
        "8cc1a6076b794060923f57f2187b4f61": {
          "model_module": "@jupyter-widgets/controls",
          "model_name": "DescriptionStyleModel",
          "model_module_version": "1.5.0",
          "state": {
            "_model_module": "@jupyter-widgets/controls",
            "_model_module_version": "1.5.0",
            "_model_name": "DescriptionStyleModel",
            "_view_count": null,
            "_view_module": "@jupyter-widgets/base",
            "_view_module_version": "1.2.0",
            "_view_name": "StyleView",
            "description_width": ""
          }
        },
        "8d87a1cef93a4e2c8fbfe24992081689": {
          "model_module": "@jupyter-widgets/controls",
          "model_name": "HBoxModel",
          "model_module_version": "1.5.0",
          "state": {
            "_dom_classes": [],
            "_model_module": "@jupyter-widgets/controls",
            "_model_module_version": "1.5.0",
            "_model_name": "HBoxModel",
            "_view_count": null,
            "_view_module": "@jupyter-widgets/controls",
            "_view_module_version": "1.5.0",
            "_view_name": "HBoxView",
            "box_style": "",
            "children": [
              "IPY_MODEL_63b9a6a352354be9a3c19ae70b1d4cec",
              "IPY_MODEL_6ff597b16bdf4ed8aa2fff4a4e044744",
              "IPY_MODEL_4d9893013a5641ee87a387de1e995395"
            ],
            "layout": "IPY_MODEL_2879321e9b7f4c13a21c64cef275df71"
          }
        },
        "63b9a6a352354be9a3c19ae70b1d4cec": {
          "model_module": "@jupyter-widgets/controls",
          "model_name": "HTMLModel",
          "model_module_version": "1.5.0",
          "state": {
            "_dom_classes": [],
            "_model_module": "@jupyter-widgets/controls",
            "_model_module_version": "1.5.0",
            "_model_name": "HTMLModel",
            "_view_count": null,
            "_view_module": "@jupyter-widgets/controls",
            "_view_module_version": "1.5.0",
            "_view_name": "HTMLView",
            "description": "",
            "description_tooltip": null,
            "layout": "IPY_MODEL_0ad86e0838194b8abcde3834ade84a78",
            "placeholder": "​",
            "style": "IPY_MODEL_8fecaf1284724097ae64c32f4192fa85",
            "value": "config.json: 100%"
          }
        },
        "6ff597b16bdf4ed8aa2fff4a4e044744": {
          "model_module": "@jupyter-widgets/controls",
          "model_name": "FloatProgressModel",
          "model_module_version": "1.5.0",
          "state": {
            "_dom_classes": [],
            "_model_module": "@jupyter-widgets/controls",
            "_model_module_version": "1.5.0",
            "_model_name": "FloatProgressModel",
            "_view_count": null,
            "_view_module": "@jupyter-widgets/controls",
            "_view_module_version": "1.5.0",
            "_view_name": "ProgressView",
            "bar_style": "success",
            "description": "",
            "description_tooltip": null,
            "layout": "IPY_MODEL_fc53d00c4797451fb5ab534b9d889aa7",
            "max": 634,
            "min": 0,
            "orientation": "horizontal",
            "style": "IPY_MODEL_b74244b0483444dd91b52a57e5584724",
            "value": 634
          }
        },
        "4d9893013a5641ee87a387de1e995395": {
          "model_module": "@jupyter-widgets/controls",
          "model_name": "HTMLModel",
          "model_module_version": "1.5.0",
          "state": {
            "_dom_classes": [],
            "_model_module": "@jupyter-widgets/controls",
            "_model_module_version": "1.5.0",
            "_model_name": "HTMLModel",
            "_view_count": null,
            "_view_module": "@jupyter-widgets/controls",
            "_view_module_version": "1.5.0",
            "_view_name": "HTMLView",
            "description": "",
            "description_tooltip": null,
            "layout": "IPY_MODEL_8c0c6075093d4480bfe823332c4b5c5e",
            "placeholder": "​",
            "style": "IPY_MODEL_ba68ccbd51f846e7a006eb11dec4445a",
            "value": " 634/634 [00:00&lt;00:00, 30.9kB/s]"
          }
        },
        "2879321e9b7f4c13a21c64cef275df71": {
          "model_module": "@jupyter-widgets/base",
          "model_name": "LayoutModel",
          "model_module_version": "1.2.0",
          "state": {
            "_model_module": "@jupyter-widgets/base",
            "_model_module_version": "1.2.0",
            "_model_name": "LayoutModel",
            "_view_count": null,
            "_view_module": "@jupyter-widgets/base",
            "_view_module_version": "1.2.0",
            "_view_name": "LayoutView",
            "align_content": null,
            "align_items": null,
            "align_self": null,
            "border": null,
            "bottom": null,
            "display": null,
            "flex": null,
            "flex_flow": null,
            "grid_area": null,
            "grid_auto_columns": null,
            "grid_auto_flow": null,
            "grid_auto_rows": null,
            "grid_column": null,
            "grid_gap": null,
            "grid_row": null,
            "grid_template_areas": null,
            "grid_template_columns": null,
            "grid_template_rows": null,
            "height": null,
            "justify_content": null,
            "justify_items": null,
            "left": null,
            "margin": null,
            "max_height": null,
            "max_width": null,
            "min_height": null,
            "min_width": null,
            "object_fit": null,
            "object_position": null,
            "order": null,
            "overflow": null,
            "overflow_x": null,
            "overflow_y": null,
            "padding": null,
            "right": null,
            "top": null,
            "visibility": null,
            "width": null
          }
        },
        "0ad86e0838194b8abcde3834ade84a78": {
          "model_module": "@jupyter-widgets/base",
          "model_name": "LayoutModel",
          "model_module_version": "1.2.0",
          "state": {
            "_model_module": "@jupyter-widgets/base",
            "_model_module_version": "1.2.0",
            "_model_name": "LayoutModel",
            "_view_count": null,
            "_view_module": "@jupyter-widgets/base",
            "_view_module_version": "1.2.0",
            "_view_name": "LayoutView",
            "align_content": null,
            "align_items": null,
            "align_self": null,
            "border": null,
            "bottom": null,
            "display": null,
            "flex": null,
            "flex_flow": null,
            "grid_area": null,
            "grid_auto_columns": null,
            "grid_auto_flow": null,
            "grid_auto_rows": null,
            "grid_column": null,
            "grid_gap": null,
            "grid_row": null,
            "grid_template_areas": null,
            "grid_template_columns": null,
            "grid_template_rows": null,
            "height": null,
            "justify_content": null,
            "justify_items": null,
            "left": null,
            "margin": null,
            "max_height": null,
            "max_width": null,
            "min_height": null,
            "min_width": null,
            "object_fit": null,
            "object_position": null,
            "order": null,
            "overflow": null,
            "overflow_x": null,
            "overflow_y": null,
            "padding": null,
            "right": null,
            "top": null,
            "visibility": null,
            "width": null
          }
        },
        "8fecaf1284724097ae64c32f4192fa85": {
          "model_module": "@jupyter-widgets/controls",
          "model_name": "DescriptionStyleModel",
          "model_module_version": "1.5.0",
          "state": {
            "_model_module": "@jupyter-widgets/controls",
            "_model_module_version": "1.5.0",
            "_model_name": "DescriptionStyleModel",
            "_view_count": null,
            "_view_module": "@jupyter-widgets/base",
            "_view_module_version": "1.2.0",
            "_view_name": "StyleView",
            "description_width": ""
          }
        },
        "fc53d00c4797451fb5ab534b9d889aa7": {
          "model_module": "@jupyter-widgets/base",
          "model_name": "LayoutModel",
          "model_module_version": "1.2.0",
          "state": {
            "_model_module": "@jupyter-widgets/base",
            "_model_module_version": "1.2.0",
            "_model_name": "LayoutModel",
            "_view_count": null,
            "_view_module": "@jupyter-widgets/base",
            "_view_module_version": "1.2.0",
            "_view_name": "LayoutView",
            "align_content": null,
            "align_items": null,
            "align_self": null,
            "border": null,
            "bottom": null,
            "display": null,
            "flex": null,
            "flex_flow": null,
            "grid_area": null,
            "grid_auto_columns": null,
            "grid_auto_flow": null,
            "grid_auto_rows": null,
            "grid_column": null,
            "grid_gap": null,
            "grid_row": null,
            "grid_template_areas": null,
            "grid_template_columns": null,
            "grid_template_rows": null,
            "height": null,
            "justify_content": null,
            "justify_items": null,
            "left": null,
            "margin": null,
            "max_height": null,
            "max_width": null,
            "min_height": null,
            "min_width": null,
            "object_fit": null,
            "object_position": null,
            "order": null,
            "overflow": null,
            "overflow_x": null,
            "overflow_y": null,
            "padding": null,
            "right": null,
            "top": null,
            "visibility": null,
            "width": null
          }
        },
        "b74244b0483444dd91b52a57e5584724": {
          "model_module": "@jupyter-widgets/controls",
          "model_name": "ProgressStyleModel",
          "model_module_version": "1.5.0",
          "state": {
            "_model_module": "@jupyter-widgets/controls",
            "_model_module_version": "1.5.0",
            "_model_name": "ProgressStyleModel",
            "_view_count": null,
            "_view_module": "@jupyter-widgets/base",
            "_view_module_version": "1.2.0",
            "_view_name": "StyleView",
            "bar_color": null,
            "description_width": ""
          }
        },
        "8c0c6075093d4480bfe823332c4b5c5e": {
          "model_module": "@jupyter-widgets/base",
          "model_name": "LayoutModel",
          "model_module_version": "1.2.0",
          "state": {
            "_model_module": "@jupyter-widgets/base",
            "_model_module_version": "1.2.0",
            "_model_name": "LayoutModel",
            "_view_count": null,
            "_view_module": "@jupyter-widgets/base",
            "_view_module_version": "1.2.0",
            "_view_name": "LayoutView",
            "align_content": null,
            "align_items": null,
            "align_self": null,
            "border": null,
            "bottom": null,
            "display": null,
            "flex": null,
            "flex_flow": null,
            "grid_area": null,
            "grid_auto_columns": null,
            "grid_auto_flow": null,
            "grid_auto_rows": null,
            "grid_column": null,
            "grid_gap": null,
            "grid_row": null,
            "grid_template_areas": null,
            "grid_template_columns": null,
            "grid_template_rows": null,
            "height": null,
            "justify_content": null,
            "justify_items": null,
            "left": null,
            "margin": null,
            "max_height": null,
            "max_width": null,
            "min_height": null,
            "min_width": null,
            "object_fit": null,
            "object_position": null,
            "order": null,
            "overflow": null,
            "overflow_x": null,
            "overflow_y": null,
            "padding": null,
            "right": null,
            "top": null,
            "visibility": null,
            "width": null
          }
        },
        "ba68ccbd51f846e7a006eb11dec4445a": {
          "model_module": "@jupyter-widgets/controls",
          "model_name": "DescriptionStyleModel",
          "model_module_version": "1.5.0",
          "state": {
            "_model_module": "@jupyter-widgets/controls",
            "_model_module_version": "1.5.0",
            "_model_name": "DescriptionStyleModel",
            "_view_count": null,
            "_view_module": "@jupyter-widgets/base",
            "_view_module_version": "1.2.0",
            "_view_name": "StyleView",
            "description_width": ""
          }
        },
        "f66de98b64c743c8b166aa7d979d8ce5": {
          "model_module": "@jupyter-widgets/controls",
          "model_name": "HBoxModel",
          "model_module_version": "1.5.0",
          "state": {
            "_dom_classes": [],
            "_model_module": "@jupyter-widgets/controls",
            "_model_module_version": "1.5.0",
            "_model_name": "HBoxModel",
            "_view_count": null,
            "_view_module": "@jupyter-widgets/controls",
            "_view_module_version": "1.5.0",
            "_view_name": "HBoxView",
            "box_style": "",
            "children": [
              "IPY_MODEL_12a58576969f43a0b3b0046e1fd5fe6a",
              "IPY_MODEL_03f3fb7bbb1a4086886b7498415458f3",
              "IPY_MODEL_a6ba958897b645599c3df8402e92ddc7"
            ],
            "layout": "IPY_MODEL_5704ae4272ab4180a229cc5dbdebca44"
          }
        },
        "12a58576969f43a0b3b0046e1fd5fe6a": {
          "model_module": "@jupyter-widgets/controls",
          "model_name": "HTMLModel",
          "model_module_version": "1.5.0",
          "state": {
            "_dom_classes": [],
            "_model_module": "@jupyter-widgets/controls",
            "_model_module_version": "1.5.0",
            "_model_name": "HTMLModel",
            "_view_count": null,
            "_view_module": "@jupyter-widgets/controls",
            "_view_module_version": "1.5.0",
            "_view_name": "HTMLView",
            "description": "",
            "description_tooltip": null,
            "layout": "IPY_MODEL_b59423d9621541e0937a2bb764a8f583",
            "placeholder": "​",
            "style": "IPY_MODEL_43cbd138c2c84fec9de167cc84655af5",
            "value": "model.safetensors: 100%"
          }
        },
        "03f3fb7bbb1a4086886b7498415458f3": {
          "model_module": "@jupyter-widgets/controls",
          "model_name": "FloatProgressModel",
          "model_module_version": "1.5.0",
          "state": {
            "_dom_classes": [],
            "_model_module": "@jupyter-widgets/controls",
            "_model_module_version": "1.5.0",
            "_model_name": "FloatProgressModel",
            "_view_count": null,
            "_view_module": "@jupyter-widgets/controls",
            "_view_module_version": "1.5.0",
            "_view_name": "ProgressView",
            "bar_style": "success",
            "description": "",
            "description_tooltip": null,
            "layout": "IPY_MODEL_2d4566e42c664830a90d826df8e4b170",
            "max": 1334372264,
            "min": 0,
            "orientation": "horizontal",
            "style": "IPY_MODEL_36d3642836b2470eb68c1ad21f93f193",
            "value": 1334372264
          }
        },
        "a6ba958897b645599c3df8402e92ddc7": {
          "model_module": "@jupyter-widgets/controls",
          "model_name": "HTMLModel",
          "model_module_version": "1.5.0",
          "state": {
            "_dom_classes": [],
            "_model_module": "@jupyter-widgets/controls",
            "_model_module_version": "1.5.0",
            "_model_name": "HTMLModel",
            "_view_count": null,
            "_view_module": "@jupyter-widgets/controls",
            "_view_module_version": "1.5.0",
            "_view_name": "HTMLView",
            "description": "",
            "description_tooltip": null,
            "layout": "IPY_MODEL_ad89f183d0404e21a7541a87a118b602",
            "placeholder": "​",
            "style": "IPY_MODEL_56cef27c74714208b83196a0e7a64949",
            "value": " 1.33G/1.33G [00:18&lt;00:00, 85.4MB/s]"
          }
        },
        "5704ae4272ab4180a229cc5dbdebca44": {
          "model_module": "@jupyter-widgets/base",
          "model_name": "LayoutModel",
          "model_module_version": "1.2.0",
          "state": {
            "_model_module": "@jupyter-widgets/base",
            "_model_module_version": "1.2.0",
            "_model_name": "LayoutModel",
            "_view_count": null,
            "_view_module": "@jupyter-widgets/base",
            "_view_module_version": "1.2.0",
            "_view_name": "LayoutView",
            "align_content": null,
            "align_items": null,
            "align_self": null,
            "border": null,
            "bottom": null,
            "display": null,
            "flex": null,
            "flex_flow": null,
            "grid_area": null,
            "grid_auto_columns": null,
            "grid_auto_flow": null,
            "grid_auto_rows": null,
            "grid_column": null,
            "grid_gap": null,
            "grid_row": null,
            "grid_template_areas": null,
            "grid_template_columns": null,
            "grid_template_rows": null,
            "height": null,
            "justify_content": null,
            "justify_items": null,
            "left": null,
            "margin": null,
            "max_height": null,
            "max_width": null,
            "min_height": null,
            "min_width": null,
            "object_fit": null,
            "object_position": null,
            "order": null,
            "overflow": null,
            "overflow_x": null,
            "overflow_y": null,
            "padding": null,
            "right": null,
            "top": null,
            "visibility": null,
            "width": null
          }
        },
        "b59423d9621541e0937a2bb764a8f583": {
          "model_module": "@jupyter-widgets/base",
          "model_name": "LayoutModel",
          "model_module_version": "1.2.0",
          "state": {
            "_model_module": "@jupyter-widgets/base",
            "_model_module_version": "1.2.0",
            "_model_name": "LayoutModel",
            "_view_count": null,
            "_view_module": "@jupyter-widgets/base",
            "_view_module_version": "1.2.0",
            "_view_name": "LayoutView",
            "align_content": null,
            "align_items": null,
            "align_self": null,
            "border": null,
            "bottom": null,
            "display": null,
            "flex": null,
            "flex_flow": null,
            "grid_area": null,
            "grid_auto_columns": null,
            "grid_auto_flow": null,
            "grid_auto_rows": null,
            "grid_column": null,
            "grid_gap": null,
            "grid_row": null,
            "grid_template_areas": null,
            "grid_template_columns": null,
            "grid_template_rows": null,
            "height": null,
            "justify_content": null,
            "justify_items": null,
            "left": null,
            "margin": null,
            "max_height": null,
            "max_width": null,
            "min_height": null,
            "min_width": null,
            "object_fit": null,
            "object_position": null,
            "order": null,
            "overflow": null,
            "overflow_x": null,
            "overflow_y": null,
            "padding": null,
            "right": null,
            "top": null,
            "visibility": null,
            "width": null
          }
        },
        "43cbd138c2c84fec9de167cc84655af5": {
          "model_module": "@jupyter-widgets/controls",
          "model_name": "DescriptionStyleModel",
          "model_module_version": "1.5.0",
          "state": {
            "_model_module": "@jupyter-widgets/controls",
            "_model_module_version": "1.5.0",
            "_model_name": "DescriptionStyleModel",
            "_view_count": null,
            "_view_module": "@jupyter-widgets/base",
            "_view_module_version": "1.2.0",
            "_view_name": "StyleView",
            "description_width": ""
          }
        },
        "2d4566e42c664830a90d826df8e4b170": {
          "model_module": "@jupyter-widgets/base",
          "model_name": "LayoutModel",
          "model_module_version": "1.2.0",
          "state": {
            "_model_module": "@jupyter-widgets/base",
            "_model_module_version": "1.2.0",
            "_model_name": "LayoutModel",
            "_view_count": null,
            "_view_module": "@jupyter-widgets/base",
            "_view_module_version": "1.2.0",
            "_view_name": "LayoutView",
            "align_content": null,
            "align_items": null,
            "align_self": null,
            "border": null,
            "bottom": null,
            "display": null,
            "flex": null,
            "flex_flow": null,
            "grid_area": null,
            "grid_auto_columns": null,
            "grid_auto_flow": null,
            "grid_auto_rows": null,
            "grid_column": null,
            "grid_gap": null,
            "grid_row": null,
            "grid_template_areas": null,
            "grid_template_columns": null,
            "grid_template_rows": null,
            "height": null,
            "justify_content": null,
            "justify_items": null,
            "left": null,
            "margin": null,
            "max_height": null,
            "max_width": null,
            "min_height": null,
            "min_width": null,
            "object_fit": null,
            "object_position": null,
            "order": null,
            "overflow": null,
            "overflow_x": null,
            "overflow_y": null,
            "padding": null,
            "right": null,
            "top": null,
            "visibility": null,
            "width": null
          }
        },
        "36d3642836b2470eb68c1ad21f93f193": {
          "model_module": "@jupyter-widgets/controls",
          "model_name": "ProgressStyleModel",
          "model_module_version": "1.5.0",
          "state": {
            "_model_module": "@jupyter-widgets/controls",
            "_model_module_version": "1.5.0",
            "_model_name": "ProgressStyleModel",
            "_view_count": null,
            "_view_module": "@jupyter-widgets/base",
            "_view_module_version": "1.2.0",
            "_view_name": "StyleView",
            "bar_color": null,
            "description_width": ""
          }
        },
        "ad89f183d0404e21a7541a87a118b602": {
          "model_module": "@jupyter-widgets/base",
          "model_name": "LayoutModel",
          "model_module_version": "1.2.0",
          "state": {
            "_model_module": "@jupyter-widgets/base",
            "_model_module_version": "1.2.0",
            "_model_name": "LayoutModel",
            "_view_count": null,
            "_view_module": "@jupyter-widgets/base",
            "_view_module_version": "1.2.0",
            "_view_name": "LayoutView",
            "align_content": null,
            "align_items": null,
            "align_self": null,
            "border": null,
            "bottom": null,
            "display": null,
            "flex": null,
            "flex_flow": null,
            "grid_area": null,
            "grid_auto_columns": null,
            "grid_auto_flow": null,
            "grid_auto_rows": null,
            "grid_column": null,
            "grid_gap": null,
            "grid_row": null,
            "grid_template_areas": null,
            "grid_template_columns": null,
            "grid_template_rows": null,
            "height": null,
            "justify_content": null,
            "justify_items": null,
            "left": null,
            "margin": null,
            "max_height": null,
            "max_width": null,
            "min_height": null,
            "min_width": null,
            "object_fit": null,
            "object_position": null,
            "order": null,
            "overflow": null,
            "overflow_x": null,
            "overflow_y": null,
            "padding": null,
            "right": null,
            "top": null,
            "visibility": null,
            "width": null
          }
        },
        "56cef27c74714208b83196a0e7a64949": {
          "model_module": "@jupyter-widgets/controls",
          "model_name": "DescriptionStyleModel",
          "model_module_version": "1.5.0",
          "state": {
            "_model_module": "@jupyter-widgets/controls",
            "_model_module_version": "1.5.0",
            "_model_name": "DescriptionStyleModel",
            "_view_count": null,
            "_view_module": "@jupyter-widgets/base",
            "_view_module_version": "1.2.0",
            "_view_name": "StyleView",
            "description_width": ""
          }
        }
      }
    }
  },
  "cells": [
    {
      "cell_type": "markdown",
      "metadata": {
        "id": "view-in-github",
        "colab_type": "text"
      },
      "source": [
        "<a href=\"https://colab.research.google.com/github/DineshKesawamoorthy/nlp/blob/main/question_answering/1.Question_And_Answering_Using_SQuAD_Dataset.ipynb\" target=\"_parent\"><img src=\"https://colab.research.google.com/assets/colab-badge.svg\" alt=\"Open In Colab\"/></a>"
      ]
    },
    {
      "cell_type": "code",
      "execution_count": null,
      "metadata": {
        "id": "vZQ23-qcHr8j"
      },
      "outputs": [],
      "source": []
    },
    {
      "cell_type": "markdown",
      "source": [
        "# Required Files and Libraries"
      ],
      "metadata": {
        "id": "r0hyNdOfH3kt"
      }
    },
    {
      "cell_type": "code",
      "source": [
        "url=\"https://rajpurkar.github.io/SQuAD-explorer/dataset/\"\n",
        "files=['train-v2.0.json','dev-v2.0.json']"
      ],
      "metadata": {
        "id": "sMjVYkFUH9o0"
      },
      "execution_count": 1,
      "outputs": []
    },
    {
      "cell_type": "code",
      "source": [
        "import os\n",
        "\n",
        "squad_dir='.data/squad'"
      ],
      "metadata": {
        "id": "2J3NbKJQIYqE"
      },
      "execution_count": 2,
      "outputs": []
    },
    {
      "cell_type": "code",
      "source": [
        "os.makedirs(squad_dir)"
      ],
      "metadata": {
        "id": "9fjIu3afJdYl"
      },
      "execution_count": 3,
      "outputs": []
    },
    {
      "cell_type": "code",
      "source": [
        "import requests"
      ],
      "metadata": {
        "id": "IScbCGwVJdlM"
      },
      "execution_count": 4,
      "outputs": []
    },
    {
      "cell_type": "code",
      "source": [
        "for file in files:\n",
        "  res=requests.get(url+file)\n",
        "  with open(os.path.join(squad_dir,file),'wb') as f:\n",
        "    for chunk in res.iter_content(chunk_size=50):\n",
        "      f.write(chunk)"
      ],
      "metadata": {
        "id": "SF8g6qM4Jdn9"
      },
      "execution_count": 5,
      "outputs": []
    },
    {
      "cell_type": "code",
      "source": [
        "import json\n",
        "\n",
        "with open(os.path.join(squad_dir,files[0]),'rb') as f:\n",
        "  squad=json.load(f)"
      ],
      "metadata": {
        "id": "HxmSYOOjSFSY"
      },
      "execution_count": 6,
      "outputs": []
    },
    {
      "cell_type": "code",
      "source": [
        "squad['data'][0]['paragraphs'][0]"
      ],
      "metadata": {
        "colab": {
          "base_uri": "https://localhost:8080/"
        },
        "collapsed": true,
        "id": "waADnNCBSd4n",
        "outputId": "88f3ab3c-b0aa-42e2-b4d5-538910aae64c"
      },
      "execution_count": 18,
      "outputs": [
        {
          "output_type": "execute_result",
          "data": {
            "text/plain": [
              "{'qas': [{'question': 'When did Beyonce start becoming popular?',\n",
              "   'id': '56be85543aeaaa14008c9063',\n",
              "   'answers': [{'text': 'in the late 1990s', 'answer_start': 269}],\n",
              "   'is_impossible': False},\n",
              "  {'question': 'What areas did Beyonce compete in when she was growing up?',\n",
              "   'id': '56be85543aeaaa14008c9065',\n",
              "   'answers': [{'text': 'singing and dancing', 'answer_start': 207}],\n",
              "   'is_impossible': False},\n",
              "  {'question': \"When did Beyonce leave Destiny's Child and become a solo singer?\",\n",
              "   'id': '56be85543aeaaa14008c9066',\n",
              "   'answers': [{'text': '2003', 'answer_start': 526}],\n",
              "   'is_impossible': False},\n",
              "  {'question': 'In what city and state did Beyonce  grow up? ',\n",
              "   'id': '56bf6b0f3aeaaa14008c9601',\n",
              "   'answers': [{'text': 'Houston, Texas', 'answer_start': 166}],\n",
              "   'is_impossible': False},\n",
              "  {'question': 'In which decade did Beyonce become famous?',\n",
              "   'id': '56bf6b0f3aeaaa14008c9602',\n",
              "   'answers': [{'text': 'late 1990s', 'answer_start': 276}],\n",
              "   'is_impossible': False},\n",
              "  {'question': 'In what R&B group was she the lead singer?',\n",
              "   'id': '56bf6b0f3aeaaa14008c9603',\n",
              "   'answers': [{'text': \"Destiny's Child\", 'answer_start': 320}],\n",
              "   'is_impossible': False},\n",
              "  {'question': 'What album made her a worldwide known artist?',\n",
              "   'id': '56bf6b0f3aeaaa14008c9604',\n",
              "   'answers': [{'text': 'Dangerously in Love', 'answer_start': 505}],\n",
              "   'is_impossible': False},\n",
              "  {'question': \"Who managed the Destiny's Child group?\",\n",
              "   'id': '56bf6b0f3aeaaa14008c9605',\n",
              "   'answers': [{'text': 'Mathew Knowles', 'answer_start': 360}],\n",
              "   'is_impossible': False},\n",
              "  {'question': 'When did Beyoncé rise to fame?',\n",
              "   'id': '56d43c5f2ccc5a1400d830a9',\n",
              "   'answers': [{'text': 'late 1990s', 'answer_start': 276}],\n",
              "   'is_impossible': False},\n",
              "  {'question': \"What role did Beyoncé have in Destiny's Child?\",\n",
              "   'id': '56d43c5f2ccc5a1400d830aa',\n",
              "   'answers': [{'text': 'lead singer', 'answer_start': 290}],\n",
              "   'is_impossible': False},\n",
              "  {'question': 'What was the first album Beyoncé released as a solo artist?',\n",
              "   'id': '56d43c5f2ccc5a1400d830ab',\n",
              "   'answers': [{'text': 'Dangerously in Love', 'answer_start': 505}],\n",
              "   'is_impossible': False},\n",
              "  {'question': 'When did Beyoncé release Dangerously in Love?',\n",
              "   'id': '56d43c5f2ccc5a1400d830ac',\n",
              "   'answers': [{'text': '2003', 'answer_start': 526}],\n",
              "   'is_impossible': False},\n",
              "  {'question': 'How many Grammy awards did Beyoncé win for her first solo album?',\n",
              "   'id': '56d43c5f2ccc5a1400d830ad',\n",
              "   'answers': [{'text': 'five', 'answer_start': 590}],\n",
              "   'is_impossible': False},\n",
              "  {'question': \"What was Beyoncé's role in Destiny's Child?\",\n",
              "   'id': '56d43ce42ccc5a1400d830b4',\n",
              "   'answers': [{'text': 'lead singer', 'answer_start': 290}],\n",
              "   'is_impossible': False},\n",
              "  {'question': \"What was the name of Beyoncé's first solo album?\",\n",
              "   'id': '56d43ce42ccc5a1400d830b5',\n",
              "   'answers': [{'text': 'Dangerously in Love', 'answer_start': 505}],\n",
              "   'is_impossible': False}],\n",
              " 'context': 'Beyoncé Giselle Knowles-Carter (/biːˈjɒnseɪ/ bee-YON-say) (born September 4, 1981) is an American singer, songwriter, record producer and actress. Born and raised in Houston, Texas, she performed in various singing and dancing competitions as a child, and rose to fame in the late 1990s as lead singer of R&B girl-group Destiny\\'s Child. Managed by her father, Mathew Knowles, the group became one of the world\\'s best-selling girl groups of all time. Their hiatus saw the release of Beyoncé\\'s debut album, Dangerously in Love (2003), which established her as a solo artist worldwide, earned five Grammy Awards and featured the Billboard Hot 100 number-one singles \"Crazy in Love\" and \"Baby Boy\".'}"
            ]
          },
          "metadata": {},
          "execution_count": 18
        }
      ]
    },
    {
      "cell_type": "markdown",
      "source": [
        "# Processing SQuAD traing data"
      ],
      "metadata": {
        "id": "V6bjcYL_S5_2"
      }
    },
    {
      "cell_type": "code",
      "source": [
        "new_squad=[]"
      ],
      "metadata": {
        "id": "UPc0wiP3UhoH"
      },
      "execution_count": 20,
      "outputs": []
    },
    {
      "cell_type": "code",
      "source": [
        "for group in squad['data']:\n",
        "  for paragraph in group['paragraphs']:\n",
        "    context=paragraph['context']\n",
        "    for qa_pair in paragraph['qas']:\n",
        "      question = qa_pair['question']\n",
        "      if 'answers' in qa_pair.keys() and len(qa_pair['answers']) > 0:\n",
        "        answer=qa_pair['answers'][0]['text']\n",
        "      elif 'plausible_answers' in qa_pair.keys() and len(qa_pair['answers']) > 0:\n",
        "        answer=qa_pair['plausible_answers'][0]['text']\n",
        "      else:\n",
        "        answer=None\n",
        "      new_squad.append({'question': question,\n",
        "                        'answer':answer,\n",
        "                        'context':context})"
      ],
      "metadata": {
        "id": "OqfptbRuSyGo"
      },
      "execution_count": 21,
      "outputs": []
    },
    {
      "cell_type": "code",
      "source": [
        "new_squad[:2]"
      ],
      "metadata": {
        "colab": {
          "base_uri": "https://localhost:8080/"
        },
        "id": "yGXHGggfUbzo",
        "outputId": "b2173cc7-f115-4ce0-f584-6e30ecc72e0d"
      },
      "execution_count": 22,
      "outputs": [
        {
          "output_type": "execute_result",
          "data": {
            "text/plain": [
              "[{'question': 'When did Beyonce start becoming popular?',\n",
              "  'answer': 'in the late 1990s',\n",
              "  'context': 'Beyoncé Giselle Knowles-Carter (/biːˈjɒnseɪ/ bee-YON-say) (born September 4, 1981) is an American singer, songwriter, record producer and actress. Born and raised in Houston, Texas, she performed in various singing and dancing competitions as a child, and rose to fame in the late 1990s as lead singer of R&B girl-group Destiny\\'s Child. Managed by her father, Mathew Knowles, the group became one of the world\\'s best-selling girl groups of all time. Their hiatus saw the release of Beyoncé\\'s debut album, Dangerously in Love (2003), which established her as a solo artist worldwide, earned five Grammy Awards and featured the Billboard Hot 100 number-one singles \"Crazy in Love\" and \"Baby Boy\".'},\n",
              " {'question': 'What areas did Beyonce compete in when she was growing up?',\n",
              "  'answer': 'singing and dancing',\n",
              "  'context': 'Beyoncé Giselle Knowles-Carter (/biːˈjɒnseɪ/ bee-YON-say) (born September 4, 1981) is an American singer, songwriter, record producer and actress. Born and raised in Houston, Texas, she performed in various singing and dancing competitions as a child, and rose to fame in the late 1990s as lead singer of R&B girl-group Destiny\\'s Child. Managed by her father, Mathew Knowles, the group became one of the world\\'s best-selling girl groups of all time. Their hiatus saw the release of Beyoncé\\'s debut album, Dangerously in Love (2003), which established her as a solo artist worldwide, earned five Grammy Awards and featured the Billboard Hot 100 number-one singles \"Crazy in Love\" and \"Baby Boy\".'}]"
            ]
          },
          "metadata": {},
          "execution_count": 22
        }
      ]
    },
    {
      "cell_type": "code",
      "source": [
        "new_squad[-2:]"
      ],
      "metadata": {
        "colab": {
          "base_uri": "https://localhost:8080/"
        },
        "id": "KzcxhFUHVEti",
        "outputId": "a2bfbfd7-8218-4275-8b16-ce54eae22853"
      },
      "execution_count": null,
      "outputs": [
        {
          "output_type": "execute_result",
          "data": {
            "text/plain": [
              "[{'question': 'Matter usually does not need to be used in conjunction with what?',\n",
              "  'answer': None,\n",
              "  'context': 'The term \"matter\" is used throughout physics in a bewildering variety of contexts: for example, one refers to \"condensed matter physics\", \"elementary matter\", \"partonic\" matter, \"dark\" matter, \"anti\"-matter, \"strange\" matter, and \"nuclear\" matter. In discussions of matter and antimatter, normal matter has been referred to by Alfvén as koinomatter (Gk. common matter). It is fair to say that in physics, there is no broad consensus as to a general definition of matter, and the term \"matter\" usually is used in conjunction with a specifying modifier.'},\n",
              " {'question': 'What field of study has a variety of unusual contexts?',\n",
              "  'answer': None,\n",
              "  'context': 'The term \"matter\" is used throughout physics in a bewildering variety of contexts: for example, one refers to \"condensed matter physics\", \"elementary matter\", \"partonic\" matter, \"dark\" matter, \"anti\"-matter, \"strange\" matter, and \"nuclear\" matter. In discussions of matter and antimatter, normal matter has been referred to by Alfvén as koinomatter (Gk. common matter). It is fair to say that in physics, there is no broad consensus as to a general definition of matter, and the term \"matter\" usually is used in conjunction with a specifying modifier.'}]"
            ]
          },
          "metadata": {},
          "execution_count": 12
        }
      ]
    },
    {
      "cell_type": "code",
      "source": [
        "with open(os.path.join(squad_dir,'train.json'),'w') as f:\n",
        "  json.dump(new_squad,f)"
      ],
      "metadata": {
        "id": "Rx8aSMedVO2K"
      },
      "execution_count": null,
      "outputs": []
    },
    {
      "cell_type": "code",
      "source": [],
      "metadata": {
        "id": "s5g7tle1_92K"
      },
      "execution_count": null,
      "outputs": []
    },
    {
      "cell_type": "markdown",
      "source": [
        "# Match Case Statement"
      ],
      "metadata": {
        "id": "hYH1S-YX_-Kp"
      }
    },
    {
      "cell_type": "code",
      "source": [
        "match True:\n",
        "  case True:\n",
        "    print('Yes')"
      ],
      "metadata": {
        "colab": {
          "base_uri": "https://localhost:8080/"
        },
        "id": "kMYg7LQT_j-h",
        "outputId": "7eccd66f-29a8-4900-c80d-28df2cfde398"
      },
      "execution_count": null,
      "outputs": [
        {
          "output_type": "stream",
          "name": "stdout",
          "text": [
            "Yes\n"
          ]
        }
      ]
    },
    {
      "cell_type": "code",
      "source": [],
      "metadata": {
        "id": "wvBKXnXBBzZm"
      },
      "execution_count": null,
      "outputs": []
    },
    {
      "cell_type": "markdown",
      "source": [
        "# Processing Dev"
      ],
      "metadata": {
        "id": "4oLukKBmBzyI"
      }
    },
    {
      "cell_type": "code",
      "source": [
        "with open(os.path.join(squad_dir,files[1]),'rb') as f:\n",
        "  dev=json.load(f)"
      ],
      "metadata": {
        "id": "mSxHWE7GCJ_l"
      },
      "execution_count": null,
      "outputs": []
    },
    {
      "cell_type": "code",
      "source": [
        "dev['data'][0]['paragraphs'][0]"
      ],
      "metadata": {
        "colab": {
          "base_uri": "https://localhost:8080/"
        },
        "id": "Y_lfB2t0DS3Q",
        "outputId": "3c88a97a-4808-4dfa-e13d-38deda6f9c80"
      },
      "execution_count": null,
      "outputs": [
        {
          "output_type": "execute_result",
          "data": {
            "text/plain": [
              "{'qas': [{'question': 'In what country is Normandy located?',\n",
              "   'id': '56ddde6b9a695914005b9628',\n",
              "   'answers': [{'text': 'France', 'answer_start': 159},\n",
              "    {'text': 'France', 'answer_start': 159},\n",
              "    {'text': 'France', 'answer_start': 159},\n",
              "    {'text': 'France', 'answer_start': 159}],\n",
              "   'is_impossible': False},\n",
              "  {'question': 'When were the Normans in Normandy?',\n",
              "   'id': '56ddde6b9a695914005b9629',\n",
              "   'answers': [{'text': '10th and 11th centuries', 'answer_start': 94},\n",
              "    {'text': 'in the 10th and 11th centuries', 'answer_start': 87},\n",
              "    {'text': '10th and 11th centuries', 'answer_start': 94},\n",
              "    {'text': '10th and 11th centuries', 'answer_start': 94}],\n",
              "   'is_impossible': False},\n",
              "  {'question': 'From which countries did the Norse originate?',\n",
              "   'id': '56ddde6b9a695914005b962a',\n",
              "   'answers': [{'text': 'Denmark, Iceland and Norway', 'answer_start': 256},\n",
              "    {'text': 'Denmark, Iceland and Norway', 'answer_start': 256},\n",
              "    {'text': 'Denmark, Iceland and Norway', 'answer_start': 256},\n",
              "    {'text': 'Denmark, Iceland and Norway', 'answer_start': 256}],\n",
              "   'is_impossible': False},\n",
              "  {'question': 'Who was the Norse leader?',\n",
              "   'id': '56ddde6b9a695914005b962b',\n",
              "   'answers': [{'text': 'Rollo', 'answer_start': 308},\n",
              "    {'text': 'Rollo', 'answer_start': 308},\n",
              "    {'text': 'Rollo', 'answer_start': 308},\n",
              "    {'text': 'Rollo', 'answer_start': 308}],\n",
              "   'is_impossible': False},\n",
              "  {'question': 'What century did the Normans first gain their separate identity?',\n",
              "   'id': '56ddde6b9a695914005b962c',\n",
              "   'answers': [{'text': '10th century', 'answer_start': 671},\n",
              "    {'text': 'the first half of the 10th century', 'answer_start': 649},\n",
              "    {'text': '10th', 'answer_start': 671},\n",
              "    {'text': '10th', 'answer_start': 671}],\n",
              "   'is_impossible': False},\n",
              "  {'plausible_answers': [{'text': 'Normans', 'answer_start': 4}],\n",
              "   'question': \"Who gave their name to Normandy in the 1000's and 1100's\",\n",
              "   'id': '5ad39d53604f3c001a3fe8d1',\n",
              "   'answers': [],\n",
              "   'is_impossible': True},\n",
              "  {'plausible_answers': [{'text': 'Normandy', 'answer_start': 137}],\n",
              "   'question': 'What is France a region of?',\n",
              "   'id': '5ad39d53604f3c001a3fe8d2',\n",
              "   'answers': [],\n",
              "   'is_impossible': True},\n",
              "  {'plausible_answers': [{'text': 'Rollo', 'answer_start': 308}],\n",
              "   'question': 'Who did King Charles III swear fealty to?',\n",
              "   'id': '5ad39d53604f3c001a3fe8d3',\n",
              "   'answers': [],\n",
              "   'is_impossible': True},\n",
              "  {'plausible_answers': [{'text': '10th century', 'answer_start': 671}],\n",
              "   'question': 'When did the Frankish identity emerge?',\n",
              "   'id': '5ad39d53604f3c001a3fe8d4',\n",
              "   'answers': [],\n",
              "   'is_impossible': True}],\n",
              " 'context': 'The Normans (Norman: Nourmands; French: Normands; Latin: Normanni) were the people who in the 10th and 11th centuries gave their name to Normandy, a region in France. They were descended from Norse (\"Norman\" comes from \"Norseman\") raiders and pirates from Denmark, Iceland and Norway who, under their leader Rollo, agreed to swear fealty to King Charles III of West Francia. Through generations of assimilation and mixing with the native Frankish and Roman-Gaulish populations, their descendants would gradually merge with the Carolingian-based cultures of West Francia. The distinct cultural and ethnic identity of the Normans emerged initially in the first half of the 10th century, and it continued to evolve over the succeeding centuries.'}"
            ]
          },
          "metadata": {},
          "execution_count": 23
        }
      ]
    },
    {
      "cell_type": "code",
      "source": [
        "new_dev=[]"
      ],
      "metadata": {
        "id": "RNk924FtD5u3"
      },
      "execution_count": null,
      "outputs": []
    },
    {
      "cell_type": "code",
      "source": [],
      "metadata": {
        "id": "6u1_y8NEF756"
      },
      "execution_count": null,
      "outputs": []
    },
    {
      "cell_type": "code",
      "source": [
        "for group in dev['data']:\n",
        "  for paragraph in group['paragraphs']:\n",
        "    context=paragraph['context']\n",
        "    for qa_pair in paragraph['qas']:\n",
        "      question = qa_pair['question']\n",
        "      #print(question)\n",
        "      if 'answers' in qa_pair.keys() and len(qa_pair['answers']) > 0:\n",
        "        #print(qa_pair['answers'])\n",
        "        answer=set([a['text'] for a in qa_pair['answers']])\n",
        "        #print(answer)\n",
        "      elif 'plausible_answers' in qa_pair.keys() and len(qa_pair['plausible_answers']) > 0:\n",
        "        answer=set([a['text'] for a in qa_pair['plausible_answers']])\n",
        "      else:\n",
        "        answer=None\n",
        "      new_dev.append({'question': question,\n",
        "                        'answer':answer,\n",
        "                        'context':context})"
      ],
      "metadata": {
        "id": "qzZ2VIx8IEh1"
      },
      "execution_count": null,
      "outputs": []
    },
    {
      "cell_type": "code",
      "source": [
        "new_dev[:3]"
      ],
      "metadata": {
        "colab": {
          "base_uri": "https://localhost:8080/"
        },
        "id": "5Yv9G5euF883",
        "outputId": "becf409f-694d-4e8d-f2f3-0d6159934041"
      },
      "execution_count": null,
      "outputs": [
        {
          "output_type": "execute_result",
          "data": {
            "text/plain": [
              "[{'question': 'In what country is Normandy located?',\n",
              "  'answer': {'France'},\n",
              "  'context': 'The Normans (Norman: Nourmands; French: Normands; Latin: Normanni) were the people who in the 10th and 11th centuries gave their name to Normandy, a region in France. They were descended from Norse (\"Norman\" comes from \"Norseman\") raiders and pirates from Denmark, Iceland and Norway who, under their leader Rollo, agreed to swear fealty to King Charles III of West Francia. Through generations of assimilation and mixing with the native Frankish and Roman-Gaulish populations, their descendants would gradually merge with the Carolingian-based cultures of West Francia. The distinct cultural and ethnic identity of the Normans emerged initially in the first half of the 10th century, and it continued to evolve over the succeeding centuries.'},\n",
              " {'question': 'When were the Normans in Normandy?',\n",
              "  'answer': {'10th and 11th centuries', 'in the 10th and 11th centuries'},\n",
              "  'context': 'The Normans (Norman: Nourmands; French: Normands; Latin: Normanni) were the people who in the 10th and 11th centuries gave their name to Normandy, a region in France. They were descended from Norse (\"Norman\" comes from \"Norseman\") raiders and pirates from Denmark, Iceland and Norway who, under their leader Rollo, agreed to swear fealty to King Charles III of West Francia. Through generations of assimilation and mixing with the native Frankish and Roman-Gaulish populations, their descendants would gradually merge with the Carolingian-based cultures of West Francia. The distinct cultural and ethnic identity of the Normans emerged initially in the first half of the 10th century, and it continued to evolve over the succeeding centuries.'},\n",
              " {'question': 'From which countries did the Norse originate?',\n",
              "  'answer': {'Denmark, Iceland and Norway'},\n",
              "  'context': 'The Normans (Norman: Nourmands; French: Normands; Latin: Normanni) were the people who in the 10th and 11th centuries gave their name to Normandy, a region in France. They were descended from Norse (\"Norman\" comes from \"Norseman\") raiders and pirates from Denmark, Iceland and Norway who, under their leader Rollo, agreed to swear fealty to King Charles III of West Francia. Through generations of assimilation and mixing with the native Frankish and Roman-Gaulish populations, their descendants would gradually merge with the Carolingian-based cultures of West Francia. The distinct cultural and ethnic identity of the Normans emerged initially in the first half of the 10th century, and it continued to evolve over the succeeding centuries.'}]"
            ]
          },
          "metadata": {},
          "execution_count": 82
        }
      ]
    },
    {
      "cell_type": "markdown",
      "source": [
        "# Quenstion and Answering Model from Huggingface"
      ],
      "metadata": {
        "id": "ZfvsMBDzVOCx"
      }
    },
    {
      "cell_type": "code",
      "source": [
        "from transformers import BertTokenizer,BertForQuestionAnswering"
      ],
      "metadata": {
        "id": "TX2rFPjoVWgw"
      },
      "execution_count": 7,
      "outputs": []
    },
    {
      "cell_type": "code",
      "source": [
        "modelname='google-bert/bert-large-cased-whole-word-masking-finetuned-squad'"
      ],
      "metadata": {
        "id": "M-tHOpiIWPKp"
      },
      "execution_count": 10,
      "outputs": []
    },
    {
      "cell_type": "code",
      "source": [
        "tokenizer=BertTokenizer.from_pretrained(modelname)"
      ],
      "metadata": {
        "colab": {
          "base_uri": "https://localhost:8080/",
          "height": 145,
          "referenced_widgets": [
            "ba4ae3232e914f0c8c3e4589304d9571",
            "87b6a9997d384e3fabec8062f9650ae7",
            "14435a7f94bb49c9a4caff927ff90e59",
            "ac094a03ff4d4b4c91f35ac2a0b306d7",
            "c804d1d1f07e49a4b458e06cadce9283",
            "2a7671911e15467a88491768aac87390",
            "0954920747e441dea9278c58fb53b981",
            "d276e84b7ae44d5b870ea3bfd64f1146",
            "7e576a8df4984d97abfbe1bd174b0dd2",
            "00b8d643d05d46d883f2c088a23558e2",
            "269e33d17c6f40c191e86bf0bd7e0675",
            "f8472bc610c8402894e4a6401c61b287",
            "c3babe1a656442a78cdf0b0d95950c31",
            "327f928026a946e4bd3db95132a8b384",
            "2a6fd9a964e5440eb0ebc23ff3526a7a",
            "d783f8ae27974842a56cc54a57c52ade",
            "30b6186cb91649d5b56b1f65808d248d",
            "e1ed7674a61046dca42e82381cec39d0",
            "1a64f55e14be41bba72ea70abbdf2b1a",
            "5420562f85614dfb88d9e70acfd3c4b1",
            "9d9cfca1eee54deb877d98b7ec70418b",
            "b14ba5c586b042f480d1e08e94726914",
            "1eaff544ff024fd58f6b6d22510a627e",
            "0875f7553d2949c09b87f944e1dfce62",
            "0af767c034a44eeb943fbc9ea9648b81",
            "4d5681a688894f47b21e7377025aa1cd",
            "a417ba3f3b0346d292c02f3f41f54cf6",
            "b70bed8471a34d0793c964f5da2181e9",
            "724f70fbddf8439e9cc31e139c877e1e",
            "9425bf9e9b7d4443811b79e0b73c8bb4",
            "631ca20821d343cda8fc034f423ce274",
            "18d7401bcda9410d93fc59d470f0fbfa",
            "8cc1a6076b794060923f57f2187b4f61",
            "8d87a1cef93a4e2c8fbfe24992081689",
            "63b9a6a352354be9a3c19ae70b1d4cec",
            "6ff597b16bdf4ed8aa2fff4a4e044744",
            "4d9893013a5641ee87a387de1e995395",
            "2879321e9b7f4c13a21c64cef275df71",
            "0ad86e0838194b8abcde3834ade84a78",
            "8fecaf1284724097ae64c32f4192fa85",
            "fc53d00c4797451fb5ab534b9d889aa7",
            "b74244b0483444dd91b52a57e5584724",
            "8c0c6075093d4480bfe823332c4b5c5e",
            "ba68ccbd51f846e7a006eb11dec4445a"
          ]
        },
        "id": "EYxK9xqrVWjo",
        "outputId": "53955dfc-0a17-43f5-859f-1979cf607e1b"
      },
      "execution_count": 11,
      "outputs": [
        {
          "output_type": "display_data",
          "data": {
            "text/plain": [
              "tokenizer_config.json:   0%|          | 0.00/49.0 [00:00<?, ?B/s]"
            ],
            "application/vnd.jupyter.widget-view+json": {
              "version_major": 2,
              "version_minor": 0,
              "model_id": "ba4ae3232e914f0c8c3e4589304d9571"
            }
          },
          "metadata": {}
        },
        {
          "output_type": "display_data",
          "data": {
            "text/plain": [
              "vocab.txt:   0%|          | 0.00/213k [00:00<?, ?B/s]"
            ],
            "application/vnd.jupyter.widget-view+json": {
              "version_major": 2,
              "version_minor": 0,
              "model_id": "f8472bc610c8402894e4a6401c61b287"
            }
          },
          "metadata": {}
        },
        {
          "output_type": "display_data",
          "data": {
            "text/plain": [
              "tokenizer.json:   0%|          | 0.00/436k [00:00<?, ?B/s]"
            ],
            "application/vnd.jupyter.widget-view+json": {
              "version_major": 2,
              "version_minor": 0,
              "model_id": "1eaff544ff024fd58f6b6d22510a627e"
            }
          },
          "metadata": {}
        },
        {
          "output_type": "display_data",
          "data": {
            "text/plain": [
              "config.json:   0%|          | 0.00/634 [00:00<?, ?B/s]"
            ],
            "application/vnd.jupyter.widget-view+json": {
              "version_major": 2,
              "version_minor": 0,
              "model_id": "8d87a1cef93a4e2c8fbfe24992081689"
            }
          },
          "metadata": {}
        }
      ]
    },
    {
      "cell_type": "code",
      "source": [
        "model=BertForQuestionAnswering.from_pretrained(modelname)"
      ],
      "metadata": {
        "colab": {
          "base_uri": "https://localhost:8080/",
          "height": 121,
          "referenced_widgets": [
            "f66de98b64c743c8b166aa7d979d8ce5",
            "12a58576969f43a0b3b0046e1fd5fe6a",
            "03f3fb7bbb1a4086886b7498415458f3",
            "a6ba958897b645599c3df8402e92ddc7",
            "5704ae4272ab4180a229cc5dbdebca44",
            "b59423d9621541e0937a2bb764a8f583",
            "43cbd138c2c84fec9de167cc84655af5",
            "2d4566e42c664830a90d826df8e4b170",
            "36d3642836b2470eb68c1ad21f93f193",
            "ad89f183d0404e21a7541a87a118b602",
            "56cef27c74714208b83196a0e7a64949"
          ]
        },
        "id": "qHje4LjaWU4w",
        "outputId": "8e035a11-4cf1-4faf-e6b1-b8c54fb64c2f"
      },
      "execution_count": 12,
      "outputs": [
        {
          "output_type": "display_data",
          "data": {
            "text/plain": [
              "model.safetensors:   0%|          | 0.00/1.33G [00:00<?, ?B/s]"
            ],
            "application/vnd.jupyter.widget-view+json": {
              "version_major": 2,
              "version_minor": 0,
              "model_id": "f66de98b64c743c8b166aa7d979d8ce5"
            }
          },
          "metadata": {}
        },
        {
          "output_type": "stream",
          "name": "stderr",
          "text": [
            "Some weights of the model checkpoint at google-bert/bert-large-cased-whole-word-masking-finetuned-squad were not used when initializing BertForQuestionAnswering: ['bert.pooler.dense.bias', 'bert.pooler.dense.weight']\n",
            "- This IS expected if you are initializing BertForQuestionAnswering from the checkpoint of a model trained on another task or with another architecture (e.g. initializing a BertForSequenceClassification model from a BertForPreTraining model).\n",
            "- This IS NOT expected if you are initializing BertForQuestionAnswering from the checkpoint of a model that you expect to be exactly identical (initializing a BertForSequenceClassification model from a BertForSequenceClassification model).\n"
          ]
        }
      ]
    },
    {
      "cell_type": "code",
      "source": [
        "from transformers import pipeline"
      ],
      "metadata": {
        "id": "skmTTK-iW5mq"
      },
      "execution_count": 13,
      "outputs": []
    },
    {
      "cell_type": "code",
      "source": [
        "qa=pipeline('question-answering',model=model,tokenizer=tokenizer)"
      ],
      "metadata": {
        "id": "HwpTLNVOXPZC"
      },
      "execution_count": 14,
      "outputs": []
    },
    {
      "cell_type": "code",
      "source": [
        "qa({\n",
        "    'question': 'In what country is Normandy located?',\n",
        "  'context': 'The Normans (Norman: Nourmands; French: Normands; Latin: Normanni) were the people who in the 10th and 11th centuries gave their name to Normandy, a region in France. They were descended from Norse (\"Norman\" comes from \"Norseman\") raiders and pirates from Denmark, Iceland and Norway who, under their leader Rollo, agreed to swear fealty to King Charles III of West Francia. Through generations of assimilation and mixing with the native Frankish and Roman-Gaulish populations, their descendants would gradually merge with the Carolingian-based cultures of West Francia. The distinct cultural and ethnic identity of the Normans emerged initially in the first half of the 10th century, and it continued to evolve over the succeeding centuries.'}\n",
        ")"
      ],
      "metadata": {
        "colab": {
          "base_uri": "https://localhost:8080/"
        },
        "id": "XQq65N60XfZr",
        "outputId": "b22dcfca-cbcd-4413-90eb-0842d71b4cd1"
      },
      "execution_count": 15,
      "outputs": [
        {
          "output_type": "stream",
          "name": "stderr",
          "text": [
            "/usr/lib/python3.10/multiprocessing/popen_fork.py:66: RuntimeWarning: os.fork() was called. os.fork() is incompatible with multithreaded code, and JAX is multithreaded, so this will likely lead to a deadlock.\n",
            "  self.pid = os.fork()\n"
          ]
        },
        {
          "output_type": "execute_result",
          "data": {
            "text/plain": [
              "{'score': 0.9871041178703308, 'start': 159, 'end': 166, 'answer': 'France.'}"
            ]
          },
          "metadata": {},
          "execution_count": 15
        }
      ]
    },
    {
      "cell_type": "code",
      "source": [
        "answers=[]\n",
        "\n",
        "for pair in new_squad[:5]:\n",
        "  ans=qa({'question': pair['question'],\n",
        "  'context':    pair['context']  }\n",
        "  )\n",
        "  answers.append({\n",
        "      'predicted': ans['answer'],\n",
        "      'true':pair['answer']\n",
        "  })"
      ],
      "metadata": {
        "colab": {
          "base_uri": "https://localhost:8080/"
        },
        "id": "HTsjUuo2X0jw",
        "outputId": "06c4546b-6e7e-402d-8e09-10fb691feceb"
      },
      "execution_count": 23,
      "outputs": [
        {
          "output_type": "stream",
          "name": "stderr",
          "text": [
            "/usr/lib/python3.10/multiprocessing/popen_fork.py:66: RuntimeWarning: os.fork() was called. os.fork() is incompatible with multithreaded code, and JAX is multithreaded, so this will likely lead to a deadlock.\n",
            "  self.pid = os.fork()\n"
          ]
        }
      ]
    },
    {
      "cell_type": "code",
      "source": [
        "answers"
      ],
      "metadata": {
        "colab": {
          "base_uri": "https://localhost:8080/"
        },
        "id": "AFfiWJNzZKPy",
        "outputId": "0ddaf211-6187-4110-9ba8-9c30d8cbf9ef"
      },
      "execution_count": 24,
      "outputs": [
        {
          "output_type": "execute_result",
          "data": {
            "text/plain": [
              "[{'predicted': 'late 1990s', 'true': 'in the late 1990s'},\n",
              " {'predicted': 'singing and dancing', 'true': 'singing and dancing'},\n",
              " {'predicted': '(2003),', 'true': '2003'},\n",
              " {'predicted': 'Houston, Texas,', 'true': 'Houston, Texas'},\n",
              " {'predicted': '1990s', 'true': 'late 1990s'}]"
            ]
          },
          "metadata": {},
          "execution_count": 24
        }
      ]
    },
    {
      "cell_type": "markdown",
      "source": [
        "# Metrics for Language"
      ],
      "metadata": {
        "id": "0WnCB5Rki1eU"
      }
    },
    {
      "cell_type": "markdown",
      "source": [
        "## Exact Match"
      ],
      "metadata": {
        "id": "_EwAQobDZW0R"
      }
    },
    {
      "cell_type": "code",
      "source": [
        "em=[]\n",
        "\n",
        "for answer in answers:\n",
        "  if answer['predicted']==answer['true']:\n",
        "    em.append(1)\n",
        "  else:\n",
        "    em.append(0)"
      ],
      "metadata": {
        "id": "MpABGq4iZbES"
      },
      "execution_count": 25,
      "outputs": []
    },
    {
      "cell_type": "code",
      "source": [
        "em"
      ],
      "metadata": {
        "colab": {
          "base_uri": "https://localhost:8080/"
        },
        "id": "eayb2lWXZbMd",
        "outputId": "032f2e2a-9c8d-4455-89bb-be60e2a09453"
      },
      "execution_count": 26,
      "outputs": [
        {
          "output_type": "execute_result",
          "data": {
            "text/plain": [
              "[0, 1, 0, 0, 0]"
            ]
          },
          "metadata": {},
          "execution_count": 26
        }
      ]
    },
    {
      "cell_type": "code",
      "source": [
        "sum(em)/len(em)"
      ],
      "metadata": {
        "colab": {
          "base_uri": "https://localhost:8080/"
        },
        "id": "Jc9im_HyZWPw",
        "outputId": "9adfc547-f72a-4511-dc8e-4e6b6b24e025"
      },
      "execution_count": 27,
      "outputs": [
        {
          "output_type": "execute_result",
          "data": {
            "text/plain": [
              "0.2"
            ]
          },
          "metadata": {},
          "execution_count": 27
        }
      ]
    },
    {
      "cell_type": "code",
      "source": [
        "# code with standardized text comparison\n",
        "import re\n",
        "\n",
        "em=[]\n",
        "\n",
        "for answer in answers:\n",
        "  pred= re.sub('[^0-9a-z ]','',answer['predicted'].lower())\n",
        "  true= re.sub('[^0-9a-z ]','',answer['true'].lower())\n",
        "  if pred==true:\n",
        "    em.append(1)\n",
        "  else:\n",
        "    em.append(0)\n"
      ],
      "metadata": {
        "id": "K8Q6BM8_aTBo"
      },
      "execution_count": 29,
      "outputs": []
    },
    {
      "cell_type": "code",
      "source": [
        "em"
      ],
      "metadata": {
        "colab": {
          "base_uri": "https://localhost:8080/"
        },
        "id": "KNALl37ddIgU",
        "outputId": "86d2d45c-99ec-454c-ae2e-5296b158ec1b"
      },
      "execution_count": 30,
      "outputs": [
        {
          "output_type": "execute_result",
          "data": {
            "text/plain": [
              "[0, 1, 1, 1, 0]"
            ]
          },
          "metadata": {},
          "execution_count": 30
        }
      ]
    },
    {
      "cell_type": "code",
      "source": [
        "sum(em)/len(em)"
      ],
      "metadata": {
        "colab": {
          "base_uri": "https://localhost:8080/"
        },
        "id": "mJbK_5aHeVve",
        "outputId": "ed80e678-84db-424e-c286-0b5dffa4fabf"
      },
      "execution_count": 31,
      "outputs": [
        {
          "output_type": "execute_result",
          "data": {
            "text/plain": [
              "0.6"
            ]
          },
          "metadata": {},
          "execution_count": 31
        }
      ]
    },
    {
      "cell_type": "markdown",
      "source": [
        "## ROUGE - Recall Oriented Understudy for Gisting Evaluation"
      ],
      "metadata": {
        "id": "JXBTbOd2jCyC"
      }
    },
    {
      "cell_type": "code",
      "source": [
        "!pip install rouge\n",
        "from rouge import Rouge"
      ],
      "metadata": {
        "colab": {
          "base_uri": "https://localhost:8080/"
        },
        "id": "t2hLp_bOkSIl",
        "outputId": "8cdaa798-0b97-41cf-f323-eb5f00721687"
      },
      "execution_count": 34,
      "outputs": [
        {
          "output_type": "stream",
          "name": "stdout",
          "text": [
            "Requirement already satisfied: rouge in /usr/local/lib/python3.10/dist-packages (1.0.1)\n",
            "Requirement already satisfied: six in /usr/local/lib/python3.10/dist-packages (from rouge) (1.16.0)\n"
          ]
        }
      ]
    },
    {
      "cell_type": "code",
      "source": [
        "model_out='Hello to the world'\n",
        "reference='Hello world'"
      ],
      "metadata": {
        "id": "zZDJZBmKkonv"
      },
      "execution_count": 35,
      "outputs": []
    },
    {
      "cell_type": "code",
      "source": [
        "rouge=Rouge()"
      ],
      "metadata": {
        "id": "2HgESjIvkc9S"
      },
      "execution_count": 36,
      "outputs": []
    },
    {
      "cell_type": "code",
      "source": [
        "rouge.get_scores(model_out,reference)"
      ],
      "metadata": {
        "colab": {
          "base_uri": "https://localhost:8080/"
        },
        "id": "mn7-_jpHk6MH",
        "outputId": "e0a6836c-8270-4f90-910d-4997a413be78"
      },
      "execution_count": 37,
      "outputs": [
        {
          "output_type": "execute_result",
          "data": {
            "text/plain": [
              "[{'rouge-1': {'r': 1.0, 'p': 0.5, 'f': 0.6666666622222223},\n",
              "  'rouge-2': {'r': 0.0, 'p': 0.0, 'f': 0.0},\n",
              "  'rouge-l': {'r': 1.0, 'p': 0.5, 'f': 0.6666666622222223}}]"
            ]
          },
          "metadata": {},
          "execution_count": 37
        }
      ]
    },
    {
      "cell_type": "code",
      "source": [
        "model_out=[answer['predicted'] for answer in answers]\n",
        "reference=[answer['true'] for answer in answers]"
      ],
      "metadata": {
        "id": "L6WqkuXAlOyT"
      },
      "execution_count": 38,
      "outputs": []
    },
    {
      "cell_type": "code",
      "source": [
        "rouge.get_scores(model_out,reference)"
      ],
      "metadata": {
        "colab": {
          "base_uri": "https://localhost:8080/"
        },
        "id": "_H_R7y5Blluc",
        "outputId": "8b170247-2fa2-43d5-e383-7cfc8adc6adc"
      },
      "execution_count": 39,
      "outputs": [
        {
          "output_type": "execute_result",
          "data": {
            "text/plain": [
              "[{'rouge-1': {'r': 0.5, 'p': 1.0, 'f': 0.6666666622222223},\n",
              "  'rouge-2': {'r': 0.3333333333333333, 'p': 1.0, 'f': 0.4999999962500001},\n",
              "  'rouge-l': {'r': 0.5, 'p': 1.0, 'f': 0.6666666622222223}},\n",
              " {'rouge-1': {'r': 1.0, 'p': 1.0, 'f': 0.999999995},\n",
              "  'rouge-2': {'r': 1.0, 'p': 1.0, 'f': 0.999999995},\n",
              "  'rouge-l': {'r': 1.0, 'p': 1.0, 'f': 0.999999995}},\n",
              " {'rouge-1': {'r': 0.0, 'p': 0.0, 'f': 0.0},\n",
              "  'rouge-2': {'r': 0.0, 'p': 0.0, 'f': 0.0},\n",
              "  'rouge-l': {'r': 0.0, 'p': 0.0, 'f': 0.0}},\n",
              " {'rouge-1': {'r': 0.5, 'p': 0.5, 'f': 0.4999999950000001},\n",
              "  'rouge-2': {'r': 0.0, 'p': 0.0, 'f': 0.0},\n",
              "  'rouge-l': {'r': 0.5, 'p': 0.5, 'f': 0.4999999950000001}},\n",
              " {'rouge-1': {'r': 0.5, 'p': 1.0, 'f': 0.6666666622222223},\n",
              "  'rouge-2': {'r': 0.0, 'p': 0.0, 'f': 0.0},\n",
              "  'rouge-l': {'r': 0.5, 'p': 1.0, 'f': 0.6666666622222223}}]"
            ]
          },
          "metadata": {},
          "execution_count": 39
        }
      ]
    },
    {
      "cell_type": "code",
      "source": [
        "rouge.get_scores(model_out,reference,avg=True)"
      ],
      "metadata": {
        "colab": {
          "base_uri": "https://localhost:8080/"
        },
        "id": "VgPtRhrfloW4",
        "outputId": "3699913b-85f7-4cee-e339-498147fdf919"
      },
      "execution_count": 40,
      "outputs": [
        {
          "output_type": "execute_result",
          "data": {
            "text/plain": [
              "{'rouge-1': {'r': 0.5, 'p': 0.7, 'f': 0.5666666628888889},\n",
              " 'rouge-2': {'r': 0.26666666666666666, 'p': 0.4, 'f': 0.29999999825},\n",
              " 'rouge-l': {'r': 0.5, 'p': 0.7, 'f': 0.5666666628888889}}"
            ]
          },
          "metadata": {},
          "execution_count": 40
        }
      ]
    },
    {
      "cell_type": "code",
      "source": [
        "from tqdm import tqdm"
      ],
      "metadata": {
        "id": "nUmOAzKnmdxJ"
      },
      "execution_count": 41,
      "outputs": []
    },
    {
      "cell_type": "code",
      "source": [
        "model_out=[]\n",
        "reference=[]\n",
        "for pair in tqdm(new_squad[:5],leave=True):\n",
        "  ans=qa({\n",
        "      'question':pair['question'],\n",
        "      'context':pair['context']\n",
        "  })\n",
        "  model_out.append(ans['answer'])\n",
        "  reference.append(pair['answer'])"
      ],
      "metadata": {
        "colab": {
          "base_uri": "https://localhost:8080/"
        },
        "id": "vdbKGa5wl8yN",
        "outputId": "0cbb80b7-a979-4311-c497-8982826ce2ce"
      },
      "execution_count": 43,
      "outputs": [
        {
          "output_type": "stream",
          "name": "stderr",
          "text": [
            "\r  0%|          | 0/5 [00:00<?, ?it/s]/usr/lib/python3.10/multiprocessing/popen_fork.py:66: RuntimeWarning: os.fork() was called. os.fork() is incompatible with multithreaded code, and JAX is multithreaded, so this will likely lead to a deadlock.\n",
            "  self.pid = os.fork()\n",
            "100%|██████████| 5/5 [00:29<00:00,  5.97s/it]\n"
          ]
        }
      ]
    },
    {
      "cell_type": "code",
      "source": [
        "rouge.get_scores(model_out,reference,avg=True)"
      ],
      "metadata": {
        "colab": {
          "base_uri": "https://localhost:8080/"
        },
        "id": "W-ChxgLKnhw7",
        "outputId": "b057bff4-f726-45bb-930a-7dc114225ee0"
      },
      "execution_count": 46,
      "outputs": [
        {
          "output_type": "execute_result",
          "data": {
            "text/plain": [
              "{'rouge-1': {'r': 0.5, 'p': 0.7, 'f': 0.5666666628888889},\n",
              " 'rouge-2': {'r': 0.26666666666666666, 'p': 0.4, 'f': 0.29999999825},\n",
              " 'rouge-l': {'r': 0.5, 'p': 0.7, 'f': 0.5666666628888889}}"
            ]
          },
          "metadata": {},
          "execution_count": 46
        }
      ]
    },
    {
      "cell_type": "code",
      "source": [
        "scores=rouge.get_scores(model_out,reference)\n",
        "scores"
      ],
      "metadata": {
        "colab": {
          "base_uri": "https://localhost:8080/"
        },
        "id": "gCjcP0AtnqZ7",
        "outputId": "9dcfe21a-a2b5-4bf6-9e36-0c3bf1d80495"
      },
      "execution_count": 50,
      "outputs": [
        {
          "output_type": "execute_result",
          "data": {
            "text/plain": [
              "[{'rouge-1': {'r': 0.5, 'p': 1.0, 'f': 0.6666666622222223},\n",
              "  'rouge-2': {'r': 0.3333333333333333, 'p': 1.0, 'f': 0.4999999962500001},\n",
              "  'rouge-l': {'r': 0.5, 'p': 1.0, 'f': 0.6666666622222223}},\n",
              " {'rouge-1': {'r': 1.0, 'p': 1.0, 'f': 0.999999995},\n",
              "  'rouge-2': {'r': 1.0, 'p': 1.0, 'f': 0.999999995},\n",
              "  'rouge-l': {'r': 1.0, 'p': 1.0, 'f': 0.999999995}},\n",
              " {'rouge-1': {'r': 0.0, 'p': 0.0, 'f': 0.0},\n",
              "  'rouge-2': {'r': 0.0, 'p': 0.0, 'f': 0.0},\n",
              "  'rouge-l': {'r': 0.0, 'p': 0.0, 'f': 0.0}},\n",
              " {'rouge-1': {'r': 0.5, 'p': 0.5, 'f': 0.4999999950000001},\n",
              "  'rouge-2': {'r': 0.0, 'p': 0.0, 'f': 0.0},\n",
              "  'rouge-l': {'r': 0.5, 'p': 0.5, 'f': 0.4999999950000001}},\n",
              " {'rouge-1': {'r': 0.5, 'p': 1.0, 'f': 0.6666666622222223},\n",
              "  'rouge-2': {'r': 0.0, 'p': 0.0, 'f': 0.0},\n",
              "  'rouge-l': {'r': 0.5, 'p': 1.0, 'f': 0.6666666622222223}}]"
            ]
          },
          "metadata": {},
          "execution_count": 50
        }
      ]
    },
    {
      "cell_type": "code",
      "source": [
        "print(model_out[2],reference[2],scores[2]['rouge-1']['f'])"
      ],
      "metadata": {
        "colab": {
          "base_uri": "https://localhost:8080/"
        },
        "id": "S7L-mrgxoAVT",
        "outputId": "b4dd4a49-48e5-40a3-e454-7956058c1f33"
      },
      "execution_count": 53,
      "outputs": [
        {
          "output_type": "stream",
          "name": "stdout",
          "text": [
            "(2003), 2003 0.0\n"
          ]
        }
      ]
    },
    {
      "cell_type": "code",
      "source": [
        "import re\n",
        "\n",
        "clean= re.compile('(?i)[^0-9a-z]')\n",
        "\n",
        "model_out=[clean.sub('',text) for text in model_out]\n",
        "reference=[clean.sub('',text) for text in reference]\n"
      ],
      "metadata": {
        "id": "wBb0B4u3ocjC"
      },
      "execution_count": 54,
      "outputs": []
    },
    {
      "cell_type": "code",
      "source": [
        "scores=rouge.get_scores(model_out,reference)\n",
        "scores"
      ],
      "metadata": {
        "colab": {
          "base_uri": "https://localhost:8080/"
        },
        "id": "FKE8rnHqpQuV",
        "outputId": "ea9a34fa-11eb-46de-a112-157760367421"
      },
      "execution_count": 55,
      "outputs": [
        {
          "output_type": "execute_result",
          "data": {
            "text/plain": [
              "[{'rouge-1': {'r': 0.0, 'p': 0.0, 'f': 0.0},\n",
              "  'rouge-2': {'r': 0.0, 'p': 0.0, 'f': 0.0},\n",
              "  'rouge-l': {'r': 0.0, 'p': 0.0, 'f': 0.0}},\n",
              " {'rouge-1': {'r': 1.0, 'p': 1.0, 'f': 0.999999995},\n",
              "  'rouge-2': {'r': 0.0, 'p': 0.0, 'f': 0.0},\n",
              "  'rouge-l': {'r': 1.0, 'p': 1.0, 'f': 0.999999995}},\n",
              " {'rouge-1': {'r': 1.0, 'p': 1.0, 'f': 0.999999995},\n",
              "  'rouge-2': {'r': 0.0, 'p': 0.0, 'f': 0.0},\n",
              "  'rouge-l': {'r': 1.0, 'p': 1.0, 'f': 0.999999995}},\n",
              " {'rouge-1': {'r': 1.0, 'p': 1.0, 'f': 0.999999995},\n",
              "  'rouge-2': {'r': 0.0, 'p': 0.0, 'f': 0.0},\n",
              "  'rouge-l': {'r': 1.0, 'p': 1.0, 'f': 0.999999995}},\n",
              " {'rouge-1': {'r': 0.0, 'p': 0.0, 'f': 0.0},\n",
              "  'rouge-2': {'r': 0.0, 'p': 0.0, 'f': 0.0},\n",
              "  'rouge-l': {'r': 0.0, 'p': 0.0, 'f': 0.0}}]"
            ]
          },
          "metadata": {},
          "execution_count": 55
        }
      ]
    },
    {
      "cell_type": "code",
      "source": [
        "print(model_out[2],reference[2],scores[2]['rouge-1']['f'])"
      ],
      "metadata": {
        "colab": {
          "base_uri": "https://localhost:8080/"
        },
        "id": "ZVhtewOTpSJU",
        "outputId": "b6c3ab00-2ac2-4854-bf9e-0d212043fed6"
      },
      "execution_count": 56,
      "outputs": [
        {
          "output_type": "stream",
          "name": "stdout",
          "text": [
            "2003 2003 0.999999995\n"
          ]
        }
      ]
    },
    {
      "cell_type": "code",
      "source": [
        "rouge.get_scores(model_out,reference,avg=True)"
      ],
      "metadata": {
        "colab": {
          "base_uri": "https://localhost:8080/"
        },
        "id": "zsqh8gHfpT4_",
        "outputId": "07d1a7eb-a35f-495e-c772-13b591aaf841"
      },
      "execution_count": 57,
      "outputs": [
        {
          "output_type": "execute_result",
          "data": {
            "text/plain": [
              "{'rouge-1': {'r': 0.6, 'p': 0.6, 'f': 0.5999999970000001},\n",
              " 'rouge-2': {'r': 0.0, 'p': 0.0, 'f': 0.0},\n",
              " 'rouge-l': {'r': 0.6, 'p': 0.6, 'f': 0.5999999970000001}}"
            ]
          },
          "metadata": {},
          "execution_count": 57
        }
      ]
    },
    {
      "cell_type": "markdown",
      "source": [
        "# Recall, Precission and F1"
      ],
      "metadata": {
        "id": "AOkY_jSHpjHj"
      }
    },
    {
      "cell_type": "code",
      "source": [],
      "metadata": {
        "id": "3WIgARtbpoK-"
      },
      "execution_count": null,
      "outputs": []
    },
    {
      "cell_type": "markdown",
      "source": [
        "# Longest Common Subsequence(LCS) - ROUGE L"
      ],
      "metadata": {
        "id": "BNnx2_zOrP2f"
      }
    },
    {
      "cell_type": "code",
      "source": [],
      "metadata": {
        "id": "bZ5zhjUxpoOL"
      },
      "execution_count": null,
      "outputs": []
    },
    {
      "cell_type": "code",
      "source": [],
      "metadata": {
        "id": "RZarVa0rsJ-d"
      },
      "execution_count": null,
      "outputs": []
    }
  ]
}